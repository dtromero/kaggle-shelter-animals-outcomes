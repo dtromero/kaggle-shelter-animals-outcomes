{
 "cells": [
  {
   "cell_type": "markdown",
   "metadata": {},
   "source": [
    "# Kaggle: Shelter Animal Outcomes EDA and Model\n",
    "\n",
    "Model building for Kaggle..."
   ]
  },
  {
   "cell_type": "code",
   "execution_count": 2,
   "metadata": {
    "collapsed": false
   },
   "outputs": [],
   "source": [
    "%matplotlib inline\n",
    "\n",
    "import os\n",
    "import gzip\n",
    "import csv\n",
    "import pandas as pd\n",
    "pd.set_option('display.max_columns', None)\n",
    "\n",
    "import numpy as np\n",
    "\n",
    "import re\n",
    "\n",
    "import matplotlib.pyplot as plt\n",
    "plt.style.use('seaborn-colorblind')\n",
    "\n",
    "# load in the datasets to pandas\n",
    "sample = pd.read_csv(u'data/sample_submission.csv.gz')\n",
    "test = pd.read_csv(u'data/test.csv.gz')\n",
    "train = pd.read_csv(u'data/train.csv.gz')\n",
    "\n",
    "# adding a column to segment data after merging\n",
    "test['fileName'] = 'test'\n",
    "train['fileName'] = 'train'\n",
    "full = pd.concat((train, test))"
   ]
  },
  {
   "cell_type": "markdown",
   "metadata": {},
   "source": [
    "### Parsing out the relative ages of the animals\n",
    "\n",
    "The age data element has values like `1 Month` or `2 Years`, in order to have an apples to apples comparison, this code converts the values to days by parsing the unit time element and converting it to a multiple (eg. 7 for week). Then it multiplies that multiple against the unit of time. For example `2 Weeks` converts to 2 * 7 or 14 days.\n",
    "\n",
    "Finally, we convert that time to a categorical variable. If an animal is less than `1 year` old, it is considered a ***Puppy/Kitten***. Otherwise it's considered an ***Adult*** in this field."
   ]
  },
  {
   "cell_type": "code",
   "execution_count": 3,
   "metadata": {
    "collapsed": false
   },
   "outputs": [],
   "source": [
    "full['unitOfTime'] = train.AgeuponOutcome.apply(lambda x: re.sub('s$', '', str(x).split(' ')[-1]))\n",
    "full['timeVal'] = train.AgeuponOutcome.apply(lambda x: str(x).split(' ')[0])\n",
    "\n",
    "daysMultiplier = pd.DataFrame.from_dict([{np.nan: 0, 'day' : 1, 'week' : 7, 'month' : 30, 'year' : 365}]).T.reset_index()\n",
    "daysMultiplier.columns = ['unitOfTime', 'daysMultiplier']\n",
    "full = pd.merge(full, daysMultiplier, on='unitOfTime', how='left', suffixes=['','_y'])\n",
    "full['ageInDays'] = full['timeVal'].astype(float) * full['daysMultiplier']\n",
    "full['ageGrp'] = full['ageInDays'].apply(lambda x: 'Adult' if x > 365 else 'Puppy/Kitten')"
   ]
  },
  {
   "cell_type": "markdown",
   "metadata": {},
   "source": [
    "### Parsing out the sex's and neutered status\n",
    "\n",
    "The ***Sexuponoutcome*** field has elements like `Neutered Male` or `Intact Female` are converted to Male/Female, and Neutered/Intact."
   ]
  },
  {
   "cell_type": "code",
   "execution_count": 4,
   "metadata": {
    "collapsed": false
   },
   "outputs": [],
   "source": [
    "full['SexuponOutcome'].fillna('Unknown', inplace=True)\n",
    "full['Sex'] = full['SexuponOutcome'].apply(lambda x: x.split(' ')[-1] )\n",
    "full['Intactness'] = full['SexuponOutcome'].apply(lambda x: x.split(' ')[0].replace('Spayed', 'Neutered') ) "
   ]
  },
  {
   "cell_type": "markdown",
   "metadata": {},
   "source": [
    "### Parsing out the color features"
   ]
  },
  {
   "cell_type": "code",
   "execution_count": 5,
   "metadata": {
    "collapsed": false
   },
   "outputs": [],
   "source": [
    "mixColors = ['/', 'tricolor', 'calico', 'torbie', 'tabby']\n",
    "def colorMixBinary(colorString):\n",
    "    if any(x in colorString for x in mixColors):\n",
    "        return 'mixedColor'\n",
    "    else:\n",
    "        return 'oneColor'\n",
    "\n",
    "full['ColorMix'] = full['Color'].apply(lambda x: colorMixBinary(x.lower()) )"
   ]
  },
  {
   "cell_type": "markdown",
   "metadata": {},
   "source": [
    "### Parsing out the breed features\n",
    "\n",
    "Most of the breeds match up to the [List of Dogs Wikipedia](https://en.wikipedia.org/wiki/List_of_dog_breeds) table, however there were 70 or so breeds that did not have a direct one-to-one match in the dataset. \n",
    "\n",
    "The table below is a manual map the Austin breed names to the wikipedia breed name pages."
   ]
  },
  {
   "cell_type": "code",
   "execution_count": 173,
   "metadata": {
    "collapsed": false
   },
   "outputs": [
    {
     "data": {
      "text/html": [
       "<div>\n",
       "<table border=\"1\" class=\"dataframe\">\n",
       "  <thead>\n",
       "    <tr style=\"text-align: right;\">\n",
       "      <th></th>\n",
       "      <th>Breed</th>\n",
       "      <th>WikiBreed</th>\n",
       "    </tr>\n",
       "  </thead>\n",
       "  <tbody>\n",
       "    <tr>\n",
       "      <th>0</th>\n",
       "      <td>akita</td>\n",
       "      <td>akita inu</td>\n",
       "    </tr>\n",
       "    <tr>\n",
       "      <th>1</th>\n",
       "      <td>alaskan husky</td>\n",
       "      <td>alaskan klee kai</td>\n",
       "    </tr>\n",
       "    <tr>\n",
       "      <th>2</th>\n",
       "      <td>american eskimo</td>\n",
       "      <td>american eskimo dog</td>\n",
       "    </tr>\n",
       "    <tr>\n",
       "      <th>3</th>\n",
       "      <td>anatol shepherd</td>\n",
       "      <td>anatolian shepherd dog</td>\n",
       "    </tr>\n",
       "    <tr>\n",
       "      <th>4</th>\n",
       "      <td>bedlington terr</td>\n",
       "      <td>bedlington terrier</td>\n",
       "    </tr>\n",
       "  </tbody>\n",
       "</table>\n",
       "</div>"
      ],
      "text/plain": [
       "             Breed               WikiBreed\n",
       "0            akita               akita inu\n",
       "1    alaskan husky        alaskan klee kai\n",
       "2  american eskimo     american eskimo dog\n",
       "3  anatol shepherd  anatolian shepherd dog\n",
       "4  bedlington terr      bedlington terrier"
      ]
     },
     "execution_count": 173,
     "metadata": {},
     "output_type": "execute_result"
    }
   ],
   "source": [
    "import codecs\n",
    "dogMap = eval(codecs.open('data/breed_fix_dict.py', 'r', encoding='utf8').read())\n",
    "\n",
    "dfdogMap = pd.DataFrame.from_dict(dogMap)\n",
    "dfdogMap.head()"
   ]
  },
  {
   "cell_type": "code",
   "execution_count": 174,
   "metadata": {
    "collapsed": false
   },
   "outputs": [],
   "source": [
    "#simple parsing using pandas, but want to bring in the url for later parsing\n",
    "#wikiDogBreeds = pd.read_html('https://en.wikipedia.org/wiki/List_of_dog_breeds', header=0)[0]\n",
    "#wikiDogBreeds['Breed'] = wikiDogBreeds['Breed'].apply(lambda x: x.strip().lower())\n",
    "\n",
    "from bs4 import BeautifulSoup\n",
    "import requests\n",
    "\n",
    "respond = requests.get('https://en.wikipedia.org/wiki/List_of_dog_breeds')\n",
    "soup = BeautifulSoup(respond.text, \"lxml\")\n",
    "                     \n",
    "data = []\n",
    "table = soup.find('table', class_='wikitable')\n",
    "rows = table.find_all('tr')\n",
    "\n",
    "headers = rows[0].find_all('th')\n",
    "headerText = [header.text.strip() for header in headers]\n",
    "headerText.append('wikiUrl')\n",
    "for row in rows[1:-1]:  #skip the header/footer rows\n",
    "    wikiUrl = row.find_all('a')[0].get('href')\n",
    "    cols = row.find_all('td')\n",
    "    cols = [ele.text.strip().encode('utf8') for ele in cols]\n",
    "    cols.append(wikiUrl)\n",
    "    data.append([ele for ele in cols])\n",
    "wikiDogBreeds = pd.DataFrame(data, columns=headerText)\n",
    "wikiDogBreeds.Breed = wikiDogBreeds.Breed.apply(lambda x: x.strip().lower())\n",
    "del wikiDogBreeds['Image'] # no data is pulled into this column\n",
    "wikiDogBreeds.columns =  ['WikiBreed', 'Origin', 'Federation Cynologique Internationale',\n",
    "                          'American Kennel Club', 'Australian National Kennel Council',\n",
    "                          'Canadian Kennel Club', 'The Kennel Club',u'New Zealand Kennel Club',\n",
    "                          'United Kennel Club[9]', 'wikiUrl']"
   ]
  },
  {
   "cell_type": "code",
   "execution_count": 166,
   "metadata": {
    "collapsed": false
   },
   "outputs": [],
   "source": [
    "dataDogBreeds = {}\n",
    "maxLen = 0\n",
    "for b in full[full.AnimalType=='Dog']['Breed'].unique():\n",
    "    mixNames = b.split('/')\n",
    "    if maxLen < len(mixNames):\n",
    "        maxLen = len(mixNames)\n",
    "    for n in range(len(mixNames)):\n",
    "        breed = mixNames[n].replace('Mix','').strip().lower().encode('utf8')\n",
    "        if breed not in dataDogBreeds.keys():\n",
    "            dataDogBreeds[breed] = 1\n",
    "        else:\n",
    "            dataDogBreeds[breed] = dataDogBreeds[breed]+1\n",
    "\n",
    "dataDogBreeds = pd.DataFrame(dataDogBreeds.items(), columns=['Breed', 'Cnt'])\n",
    "dataDogBreeds = pd.merge(dataDogBreeds,dfdogMap, how='left', on='Breed')\n",
    "dataDogBreeds['WikiBreed'].fillna(dataDogBreeds.Breed, inplace=True)"
   ]
  },
  {
   "cell_type": "code",
   "execution_count": 110,
   "metadata": {
    "collapsed": false
   },
   "outputs": [
    {
     "name": "stdout",
     "output_type": "stream",
     "text": [
      "Count of Austin Data Dog Breeds: 197\n",
      "Count of Wiki Data Dog Breeds: 510\n"
     ]
    }
   ],
   "source": [
    "print 'Count of Austin Data Dog Breeds: %d' % dataDogBreeds['Breed'].count()\n",
    "print 'Count of Wiki Data Dog Breeds: %d' % wikiDogBreeds['WikiBreed'].count()"
   ]
  },
  {
   "cell_type": "code",
   "execution_count": 176,
   "metadata": {
    "collapsed": false
   },
   "outputs": [
    {
     "data": {
      "text/html": [
       "<div>\n",
       "<table border=\"1\" class=\"dataframe\">\n",
       "  <thead>\n",
       "    <tr style=\"text-align: right;\">\n",
       "      <th></th>\n",
       "      <th>Breed</th>\n",
       "      <th>Cnt</th>\n",
       "      <th>WikiBreed</th>\n",
       "      <th>Origin</th>\n",
       "      <th>Federation Cynologique Internationale</th>\n",
       "      <th>American Kennel Club</th>\n",
       "      <th>Australian National Kennel Council</th>\n",
       "      <th>Canadian Kennel Club</th>\n",
       "      <th>The Kennel Club</th>\n",
       "      <th>New Zealand Kennel Club</th>\n",
       "      <th>United Kennel Club[9]</th>\n",
       "      <th>wikiUrl</th>\n",
       "    </tr>\n",
       "  </thead>\n",
       "  <tbody>\n",
       "    <tr>\n",
       "      <th>29</th>\n",
       "      <td>lowchen</td>\n",
       "      <td>2</td>\n",
       "      <td>löwchen</td>\n",
       "      <td>Germany, France, Netherlands, Spain</td>\n",
       "      <td>Group 09 Section 01 #233</td>\n",
       "      <td>Non-Sporting Group</td>\n",
       "      <td>Group 01(Toys)</td>\n",
       "      <td>Group 06 (Non-Sporting)</td>\n",
       "      <td>Toys</td>\n",
       "      <td>Toys</td>\n",
       "      <td>Companion Dog</td>\n",
       "      <td>/wiki/L%C3%B6wchen</td>\n",
       "    </tr>\n",
       "  </tbody>\n",
       "</table>\n",
       "</div>"
      ],
      "text/plain": [
       "      Breed  Cnt WikiBreed                               Origin  \\\n",
       "29  lowchen    2   löwchen  Germany, France, Netherlands, Spain   \n",
       "\n",
       "   Federation Cynologique Internationale American Kennel Club  \\\n",
       "29              Group 09 Section 01 #233   Non-Sporting Group   \n",
       "\n",
       "   Australian National Kennel Council     Canadian Kennel Club  \\\n",
       "29                     Group 01(Toys)  Group 06 (Non-Sporting)   \n",
       "\n",
       "   The Kennel Club New Zealand Kennel Club United Kennel Club[9]  \\\n",
       "29            Toys                    Toys         Companion Dog   \n",
       "\n",
       "               wikiUrl  \n",
       "29  /wiki/L%C3%B6wchen  "
      ]
     },
     "execution_count": 176,
     "metadata": {},
     "output_type": "execute_result"
    }
   ],
   "source": [
    "wikiBreeds = pd.merge(dataDogBreeds, wikiDogBreeds, how='left', on='WikiBreed')\n",
    "wikiBreeds[wikiBreeds.WikiBreed.str.contains('chen')]"
   ]
  },
  {
   "cell_type": "code",
   "execution_count": 177,
   "metadata": {
    "collapsed": false
   },
   "outputs": [
    {
     "data": {
      "text/plain": [
       "array(['Working', 'Toy', 'Utility', 'Pastoral', 'Gundog', 'Gun dog', '',\n",
       "       'Terrier', 'Hound', nan, 'Toys', 'Terriers', 'Sporting Dog',\n",
       "       'Toy Group'], dtype=object)"
      ]
     },
     "execution_count": 177,
     "metadata": {},
     "output_type": "execute_result"
    }
   ],
   "source": [
    "#wikiBreeds['American Kennel Club'].unique()\n",
    "wikiBreeds['The Kennel Club'].unique()"
   ]
  },
  {
   "cell_type": "code",
   "execution_count": 178,
   "metadata": {
    "collapsed": false
   },
   "outputs": [
    {
     "data": {
      "text/html": [
       "<div>\n",
       "<table border=\"1\" class=\"dataframe\">\n",
       "  <thead>\n",
       "    <tr style=\"text-align: right;\">\n",
       "      <th></th>\n",
       "      <th>AgeuponOutcome</th>\n",
       "      <th>AnimalID</th>\n",
       "      <th>AnimalType</th>\n",
       "      <th>Breed</th>\n",
       "      <th>Color</th>\n",
       "      <th>DateTime</th>\n",
       "      <th>ID</th>\n",
       "      <th>Name</th>\n",
       "      <th>OutcomeSubtype</th>\n",
       "      <th>OutcomeType</th>\n",
       "      <th>SexuponOutcome</th>\n",
       "      <th>fileName</th>\n",
       "      <th>unitOfTime</th>\n",
       "      <th>timeVal</th>\n",
       "      <th>daysMultiplier</th>\n",
       "      <th>ageInDays</th>\n",
       "      <th>ageGrp</th>\n",
       "      <th>Sex</th>\n",
       "      <th>Intactness</th>\n",
       "      <th>ColorMix</th>\n",
       "      <th>Breed0</th>\n",
       "    </tr>\n",
       "  </thead>\n",
       "  <tbody>\n",
       "    <tr>\n",
       "      <th>0</th>\n",
       "      <td>1 year</td>\n",
       "      <td>A671945</td>\n",
       "      <td>Dog</td>\n",
       "      <td>Shetland Sheepdog Mix</td>\n",
       "      <td>Brown/White</td>\n",
       "      <td>2014-02-12 18:22:00</td>\n",
       "      <td>NaN</td>\n",
       "      <td>Hambone</td>\n",
       "      <td>NaN</td>\n",
       "      <td>Return_to_owner</td>\n",
       "      <td>Neutered Male</td>\n",
       "      <td>train</td>\n",
       "      <td>year</td>\n",
       "      <td>1</td>\n",
       "      <td>365.0</td>\n",
       "      <td>365.0</td>\n",
       "      <td>Puppy/Kitten</td>\n",
       "      <td>Male</td>\n",
       "      <td>Neutered</td>\n",
       "      <td>mixedColor</td>\n",
       "      <td>Shetland Sheepdog</td>\n",
       "    </tr>\n",
       "    <tr>\n",
       "      <th>2</th>\n",
       "      <td>2 years</td>\n",
       "      <td>A686464</td>\n",
       "      <td>Dog</td>\n",
       "      <td>Pit Bull Mix</td>\n",
       "      <td>Blue/White</td>\n",
       "      <td>2015-01-31 12:28:00</td>\n",
       "      <td>NaN</td>\n",
       "      <td>Pearce</td>\n",
       "      <td>Foster</td>\n",
       "      <td>Adoption</td>\n",
       "      <td>Neutered Male</td>\n",
       "      <td>train</td>\n",
       "      <td>year</td>\n",
       "      <td>2</td>\n",
       "      <td>365.0</td>\n",
       "      <td>730.0</td>\n",
       "      <td>Adult</td>\n",
       "      <td>Male</td>\n",
       "      <td>Neutered</td>\n",
       "      <td>mixedColor</td>\n",
       "      <td>Pit Bull</td>\n",
       "    </tr>\n",
       "    <tr>\n",
       "      <th>4</th>\n",
       "      <td>2 years</td>\n",
       "      <td>A667013</td>\n",
       "      <td>Dog</td>\n",
       "      <td>Lhasa Apso/Miniature Poodle</td>\n",
       "      <td>Tan</td>\n",
       "      <td>2013-11-15 12:52:00</td>\n",
       "      <td>NaN</td>\n",
       "      <td>NaN</td>\n",
       "      <td>Partner</td>\n",
       "      <td>Transfer</td>\n",
       "      <td>Neutered Male</td>\n",
       "      <td>train</td>\n",
       "      <td>year</td>\n",
       "      <td>2</td>\n",
       "      <td>365.0</td>\n",
       "      <td>730.0</td>\n",
       "      <td>Adult</td>\n",
       "      <td>Male</td>\n",
       "      <td>Neutered</td>\n",
       "      <td>oneColor</td>\n",
       "      <td>Lhasa Apso</td>\n",
       "    </tr>\n",
       "    <tr>\n",
       "      <th>5</th>\n",
       "      <td>1 month</td>\n",
       "      <td>A677334</td>\n",
       "      <td>Dog</td>\n",
       "      <td>Cairn Terrier/Chihuahua Shorthair</td>\n",
       "      <td>Black/Tan</td>\n",
       "      <td>2014-04-25 13:04:00</td>\n",
       "      <td>NaN</td>\n",
       "      <td>Elsa</td>\n",
       "      <td>Partner</td>\n",
       "      <td>Transfer</td>\n",
       "      <td>Intact Female</td>\n",
       "      <td>train</td>\n",
       "      <td>month</td>\n",
       "      <td>1</td>\n",
       "      <td>30.0</td>\n",
       "      <td>30.0</td>\n",
       "      <td>Puppy/Kitten</td>\n",
       "      <td>Female</td>\n",
       "      <td>Intact</td>\n",
       "      <td>mixedColor</td>\n",
       "      <td>Cairn Terrier</td>\n",
       "    </tr>\n",
       "    <tr>\n",
       "      <th>8</th>\n",
       "      <td>5 months</td>\n",
       "      <td>A671784</td>\n",
       "      <td>Dog</td>\n",
       "      <td>American Pit Bull Terrier Mix</td>\n",
       "      <td>Red/White</td>\n",
       "      <td>2014-02-04 17:17:00</td>\n",
       "      <td>NaN</td>\n",
       "      <td>Lucy</td>\n",
       "      <td>NaN</td>\n",
       "      <td>Adoption</td>\n",
       "      <td>Spayed Female</td>\n",
       "      <td>train</td>\n",
       "      <td>month</td>\n",
       "      <td>5</td>\n",
       "      <td>30.0</td>\n",
       "      <td>150.0</td>\n",
       "      <td>Puppy/Kitten</td>\n",
       "      <td>Female</td>\n",
       "      <td>Neutered</td>\n",
       "      <td>mixedColor</td>\n",
       "      <td>American Pit Bull Terrier</td>\n",
       "    </tr>\n",
       "  </tbody>\n",
       "</table>\n",
       "</div>"
      ],
      "text/plain": [
       "  AgeuponOutcome AnimalID AnimalType                              Breed  \\\n",
       "0         1 year  A671945        Dog              Shetland Sheepdog Mix   \n",
       "2        2 years  A686464        Dog                       Pit Bull Mix   \n",
       "4        2 years  A667013        Dog        Lhasa Apso/Miniature Poodle   \n",
       "5        1 month  A677334        Dog  Cairn Terrier/Chihuahua Shorthair   \n",
       "8       5 months  A671784        Dog      American Pit Bull Terrier Mix   \n",
       "\n",
       "         Color             DateTime  ID     Name OutcomeSubtype  \\\n",
       "0  Brown/White  2014-02-12 18:22:00 NaN  Hambone            NaN   \n",
       "2   Blue/White  2015-01-31 12:28:00 NaN   Pearce         Foster   \n",
       "4          Tan  2013-11-15 12:52:00 NaN      NaN        Partner   \n",
       "5    Black/Tan  2014-04-25 13:04:00 NaN     Elsa        Partner   \n",
       "8    Red/White  2014-02-04 17:17:00 NaN     Lucy            NaN   \n",
       "\n",
       "       OutcomeType SexuponOutcome fileName unitOfTime timeVal  daysMultiplier  \\\n",
       "0  Return_to_owner  Neutered Male    train       year       1           365.0   \n",
       "2         Adoption  Neutered Male    train       year       2           365.0   \n",
       "4         Transfer  Neutered Male    train       year       2           365.0   \n",
       "5         Transfer  Intact Female    train      month       1            30.0   \n",
       "8         Adoption  Spayed Female    train      month       5            30.0   \n",
       "\n",
       "   ageInDays        ageGrp     Sex Intactness    ColorMix  \\\n",
       "0      365.0  Puppy/Kitten    Male   Neutered  mixedColor   \n",
       "2      730.0         Adult    Male   Neutered  mixedColor   \n",
       "4      730.0         Adult    Male   Neutered    oneColor   \n",
       "5       30.0  Puppy/Kitten  Female     Intact  mixedColor   \n",
       "8      150.0  Puppy/Kitten  Female   Neutered  mixedColor   \n",
       "\n",
       "                       Breed0  \n",
       "0          Shetland Sheepdog   \n",
       "2                   Pit Bull   \n",
       "4                  Lhasa Apso  \n",
       "5               Cairn Terrier  \n",
       "8  American Pit Bull Terrier   "
      ]
     },
     "execution_count": 178,
     "metadata": {},
     "output_type": "execute_result"
    }
   ],
   "source": [
    "dogs = full[full.AnimalType=='Dog'].copy()\n",
    "dogs['Breed0'] = dogs.Breed.apply(lambda x: x.split('/')[0].replace('Mix',''))\n",
    "dogs.head()\n",
    "\n"
   ]
  },
  {
   "cell_type": "code",
   "execution_count": 7,
   "metadata": {
    "collapsed": false
   },
   "outputs": [
    {
     "name": "stdout",
     "output_type": "stream",
     "text": [
      "OutcomeType  Adoption  Died  Euthanasia  Return_to_owner  Transfer\n",
      "AnimalType                                                        \n",
      "Cat              4272   147         710              500      5505\n",
      "Dog              6497    50         845             4286      3917\n"
     ]
    },
    {
     "data": {
      "text/plain": [
       "<matplotlib.legend.Legend at 0x7ff2673b5e90>"
      ]
     },
     "execution_count": 7,
     "metadata": {},
     "output_type": "execute_result"
    },
    {
     "data": {
      "image/png": "[encoded data removed]",
      "text/plain": [
       "<matplotlib.figure.Figure at 0x7ff266b815d0>"
      ]
     },
     "metadata": {},
     "output_type": "display_data"
    }
   ],
   "source": [
    "outcomes = train.groupby(['AnimalType', 'OutcomeType'])\\\n",
    "            ['AnimalID'].count().unstack()\n",
    "\n",
    "print outcomes    \n",
    "outcomes_plot = outcomes.plot.barh(stacked=True)\n",
    "outcomes_plot.legend(loc=(1.01,.555), ncol=1)\n"
   ]
  },
  {
   "cell_type": "code",
   "execution_count": 8,
   "metadata": {
    "collapsed": false
   },
   "outputs": [
    {
     "data": {
      "text/plain": [
       "array(['1', '2', '3', '5', '4', '10', '6', '7', '12', '9', '11', '8', '15',\n",
       "       '0', '14', '16', '13', 'nan', '17', '18', '19', '20'], dtype=object)"
      ]
     },
     "execution_count": 8,
     "metadata": {},
     "output_type": "execute_result"
    }
   ],
   "source": [
    "full.timeVal.unique()"
   ]
  },
  {
   "cell_type": "code",
   "execution_count": 9,
   "metadata": {
    "collapsed": false
   },
   "outputs": [
    {
     "data": {
      "text/plain": [
       "array(['year', 'week', 'month', 'day', 'nan'], dtype=object)"
      ]
     },
     "execution_count": 9,
     "metadata": {},
     "output_type": "execute_result"
    }
   ],
   "source": [
    "full['unitOfTime'].unique()"
   ]
  },
  {
   "cell_type": "code",
   "execution_count": 10,
   "metadata": {
    "collapsed": false
   },
   "outputs": [
    {
     "data": {
      "text/plain": [
       "array(['1', '2', '3', '5', '4', '10', '6', '7', '12', '9', '11', '8', '15',\n",
       "       '0', '14', '16', '13', 'nan', '17', '18', '19', '20'], dtype=object)"
      ]
     },
     "execution_count": 10,
     "metadata": {},
     "output_type": "execute_result"
    }
   ],
   "source": [
    "full['timeVal'].unique()"
   ]
  },
  {
   "cell_type": "code",
   "execution_count": null,
   "metadata": {
    "collapsed": true
   },
   "outputs": [],
   "source": []
  },
  {
   "cell_type": "code",
   "execution_count": 179,
   "metadata": {
    "collapsed": false
   },
   "outputs": [
    {
     "data": {
      "text/html": [
       "\n",
       "    <div class=\"bk-banner\">\n",
       "        <a href=\"http://bokeh.pydata.org\" target=\"_blank\" class=\"bk-logo bk-logo-small bk-logo-notebook\"></a>\n",
       "        <span id=\"8101590c-2508-465c-a24a-cfd797367c95\">Loading BokehJS ...</span>\n",
       "    </div>"
      ]
     },
     "metadata": {},
     "output_type": "display_data"
    },
    {
     "data": {
      "application/javascript": [
       "\n",
       "(function(global) {\n",
       "  function now() {\n",
       "    return new Date();\n",
       "  }\n",
       "\n",
       "  if (typeof (window._bokeh_onload_callbacks) === \"undefined\") {\n",
       "    window._bokeh_onload_callbacks = [];\n",
       "  }\n",
       "\n",
       "  function run_callbacks() {\n",
       "    window._bokeh_onload_callbacks.forEach(function(callback) { callback() });\n",
       "    delete window._bokeh_onload_callbacks\n",
       "    console.info(\"Bokeh: all callbacks have finished\");\n",
       "  }\n",
       "\n",
       "  function load_libs(js_urls, callback) {\n",
       "    window._bokeh_onload_callbacks.push(callback);\n",
       "    if (window._bokeh_is_loading > 0) {\n",
       "      console.log(\"Bokeh: BokehJS is being loaded, scheduling callback at\", now());\n",
       "      return null;\n",
       "    }\n",
       "    if (js_urls == null || js_urls.length === 0) {\n",
       "      run_callbacks();\n",
       "      return null;\n",
       "    }\n",
       "    console.log(\"Bokeh: BokehJS not loaded, scheduling load and callback at\", now());\n",
       "    window._bokeh_is_loading = js_urls.length;\n",
       "    for (var i = 0; i < js_urls.length; i++) {\n",
       "      var url = js_urls[i];\n",
       "      var s = document.createElement('script');\n",
       "      s.src = url;\n",
       "      s.async = false;\n",
       "      s.onreadystatechange = s.onload = function() {\n",
       "        window._bokeh_is_loading--;\n",
       "        if (window._bokeh_is_loading === 0) {\n",
       "          console.log(\"Bokeh: all BokehJS libraries loaded\");\n",
       "          run_callbacks()\n",
       "        }\n",
       "      };\n",
       "      s.onerror = function() {\n",
       "        console.warn(\"failed to load library \" + url);\n",
       "      };\n",
       "      console.log(\"Bokeh: injecting script tag for BokehJS library: \", url);\n",
       "      document.getElementsByTagName(\"head\")[0].appendChild(s);\n",
       "    }\n",
       "  };\n",
       "\n",
       "  var js_urls = ['https://cdn.pydata.org/bokeh/release/bokeh-0.11.1.min.js', 'https://cdn.pydata.org/bokeh/release/bokeh-widgets-0.11.1.min.js', 'https://cdn.pydata.org/bokeh/release/bokeh-compiler-0.11.1.min.js'];\n",
       "\n",
       "  var inline_js = [\n",
       "    function(Bokeh) {\n",
       "      Bokeh.set_log_level(\"info\");\n",
       "    },\n",
       "    \n",
       "    function(Bokeh) {\n",
       "      Bokeh.$(\"#8101590c-2508-465c-a24a-cfd797367c95\").text(\"BokehJS successfully loaded\");\n",
       "    },\n",
       "    function(Bokeh) {\n",
       "      console.log(\"Bokeh: injecting CSS: https://cdn.pydata.org/bokeh/release/bokeh-0.11.1.min.css\");\n",
       "      Bokeh.embed.inject_css(\"https://cdn.pydata.org/bokeh/release/bokeh-0.11.1.min.css\");\n",
       "      console.log(\"Bokeh: injecting CSS: https://cdn.pydata.org/bokeh/release/bokeh-widgets-0.11.1.min.css\");\n",
       "      Bokeh.embed.inject_css(\"https://cdn.pydata.org/bokeh/release/bokeh-widgets-0.11.1.min.css\");\n",
       "    }\n",
       "  ];\n",
       "\n",
       "  function run_inline_js() {\n",
       "    for (var i = 0; i < inline_js.length; i++) {\n",
       "      inline_js[i](window.Bokeh);\n",
       "    }\n",
       "  }\n",
       "\n",
       "  if (window._bokeh_is_loading === 0) {\n",
       "    console.log(\"Bokeh: BokehJS loaded, going straight to plotting\");\n",
       "    run_inline_js();\n",
       "  } else {\n",
       "    load_libs(js_urls, function() {\n",
       "      console.log(\"Bokeh: BokehJS plotting callback run at\", now());\n",
       "      run_inline_js();\n",
       "    });\n",
       "  }\n",
       "}(this));"
      ]
     },
     "metadata": {},
     "output_type": "display_data"
    }
   ],
   "source": [
    "from bokeh.charts import Bar, TimeSeries, output_file, show, output_notebook\n",
    "from bokeh.models import HoverTool, ColumnDataSource\n",
    "output_notebook()"
   ]
  },
  {
   "cell_type": "code",
   "execution_count": 180,
   "metadata": {
    "collapsed": false
   },
   "outputs": [
    {
     "data": {
      "text/html": [
       "\n",
       "\n",
       "    <div class=\"plotdiv\" id=\"f08029d9-1961-43d5-b92b-6291e43774b9\"></div>\n",
       "<script type=\"text/javascript\">\n",
       "  \n",
       "  (function(global) {\n",
       "    function now() {\n",
       "      return new Date();\n",
       "    }\n",
       "  \n",
       "    if (typeof (window._bokeh_onload_callbacks) === \"undefined\") {\n",
       "      window._bokeh_onload_callbacks = [];\n",
       "    }\n",
       "  \n",
       "    function run_callbacks() {\n",
       "      window._bokeh_onload_callbacks.forEach(function(callback) { callback() });\n",
       "      delete window._bokeh_onload_callbacks\n",
       "      console.info(\"Bokeh: all callbacks have finished\");\n",
       "    }\n",
       "  \n",
       "    function load_libs(js_urls, callback) {\n",
       "      window._bokeh_onload_callbacks.push(callback);\n",
       "      if (window._bokeh_is_loading > 0) {\n",
       "        console.log(\"Bokeh: BokehJS is being loaded, scheduling callback at\", now());\n",
       "        return null;\n",
       "      }\n",
       "      if (js_urls == null || js_urls.length === 0) {\n",
       "        run_callbacks();\n",
       "        return null;\n",
       "      }\n",
       "      console.log(\"Bokeh: BokehJS not loaded, scheduling load and callback at\", now());\n",
       "      window._bokeh_is_loading = js_urls.length;\n",
       "      for (var i = 0; i < js_urls.length; i++) {\n",
       "        var url = js_urls[i];\n",
       "        var s = document.createElement('script');\n",
       "        s.src = url;\n",
       "        s.async = false;\n",
       "        s.onreadystatechange = s.onload = function() {\n",
       "          window._bokeh_is_loading--;\n",
       "          if (window._bokeh_is_loading === 0) {\n",
       "            console.log(\"Bokeh: all BokehJS libraries loaded\");\n",
       "            run_callbacks()\n",
       "          }\n",
       "        };\n",
       "        s.onerror = function() {\n",
       "          console.warn(\"failed to load library \" + url);\n",
       "        };\n",
       "        console.log(\"Bokeh: injecting script tag for BokehJS library: \", url);\n",
       "        document.getElementsByTagName(\"head\")[0].appendChild(s);\n",
       "      }\n",
       "    };var element = document.getElementById(\"f08029d9-1961-43d5-b92b-6291e43774b9\");\n",
       "    if (element == null) {\n",
       "      console.log(\"Bokeh: ERROR: autoload.js configured with elementid 'f08029d9-1961-43d5-b92b-6291e43774b9' but no matching script tag was found. \")\n",
       "      return false;\n",
       "    }\n",
       "  \n",
       "    var js_urls = [];\n",
       "  \n",
       "    var inline_js = [\n",
       "      function(Bokeh) {\n",
       "        Bokeh.$(function() {\n",
       "            var docs_json = {\"800e8bef-0e4c-429f-9e46-c9d7bfdf55d5\":{\"roots\":{\"references\":[{\"attributes\":{},\"id\":\"f893d475-24aa-417f-ab97-276fc364e47e\",\"type\":\"CategoricalTicker\"},{\"attributes\":{\"fill_alpha\":{\"field\":\"fill_alpha\"},\"fill_color\":{\"field\":\"color\"},\"height\":{\"field\":\"height\",\"units\":\"data\"},\"line_color\":{\"field\":\"line_color\"},\"width\":{\"field\":\"width\",\"units\":\"data\"},\"x\":{\"field\":\"x\"},\"y\":{\"field\":\"y\"}},\"id\":\"c0d58fa0-1519-4b44-8f58-9290fccda918\",\"type\":\"Rect\"},{\"attributes\":{\"callback\":null,\"column_names\":[\"line_color\",\"line_alpha\",\"color\",\"fill_alpha\",\"height\",\"width\",\"y\",\"x\"],\"data\":{\"AnimalType\":[\"Cat\"],\"OutcomeType\":[\"Return_to_owner\"],\"chart_index\":[{\"AnimalType\":\"Cat\",\"OutcomeType\":\"Return_to_owner\"}],\"color\":[\"#df5320\"],\"fill_alpha\":[0.8],\"height\":[500.0],\"line_alpha\":[1.0],\"line_color\":[\"white\"],\"width\":[0.8],\"x\":[\"Cat\"],\"y\":[5379.0]}},\"id\":\"e96beecc-6894-4dfd-a2d1-356232ed7bbe\",\"type\":\"ColumnDataSource\"},{\"attributes\":{\"callback\":null,\"column_names\":[\"line_color\",\"line_alpha\",\"color\",\"fill_alpha\",\"height\",\"width\",\"y\",\"x\"],\"data\":{\"AnimalType\":[\"Dog\"],\"OutcomeType\":[\"Adoption\"],\"chart_index\":[{\"AnimalType\":\"Dog\",\"OutcomeType\":\"Adoption\"}],\"color\":[\"#f22c40\"],\"fill_alpha\":[0.8],\"height\":[6497.0],\"line_alpha\":[1.0],\"line_color\":[\"white\"],\"width\":[0.8],\"x\":[\"Dog\"],\"y\":[3248.5]}},\"id\":\"9beba3fb-e5df-4120-bc59-49a71c1f39ae\",\"type\":\"ColumnDataSource\"},{\"attributes\":{\"callback\":null,\"column_names\":[\"line_color\",\"line_alpha\",\"color\",\"fill_alpha\",\"height\",\"width\",\"y\",\"x\"],\"data\":{\"AnimalType\":[\"Dog\"],\"OutcomeType\":[\"Transfer\"],\"chart_index\":[{\"AnimalType\":\"Dog\",\"OutcomeType\":\"Transfer\"}],\"color\":[\"#00ad9c\"],\"fill_alpha\":[0.8],\"height\":[3917.0],\"line_alpha\":[1.0],\"line_color\":[\"white\"],\"width\":[0.8],\"x\":[\"Dog\"],\"y\":[13636.5]}},\"id\":\"1ab3eb8e-bb23-49b5-b612-706d2dbd2f39\",\"type\":\"ColumnDataSource\"},{\"attributes\":{\"callback\":null,\"factors\":[\"Cat\",\"Dog\"]},\"id\":\"ddcd0a64-fa40-44d4-99ef-56659760c646\",\"type\":\"FactorRange\"},{\"attributes\":{\"callback\":null,\"column_names\":[\"line_color\",\"line_alpha\",\"color\",\"fill_alpha\",\"height\",\"width\",\"y\",\"x\"],\"data\":{\"AnimalType\":[\"Cat\"],\"OutcomeType\":[\"Transfer\"],\"chart_index\":[{\"AnimalType\":\"Cat\",\"OutcomeType\":\"Transfer\"}],\"color\":[\"#00ad9c\"],\"fill_alpha\":[0.8],\"height\":[5505.0],\"line_alpha\":[1.0],\"line_color\":[\"white\"],\"width\":[0.8],\"x\":[\"Cat\"],\"y\":[8381.5]}},\"id\":\"c3d3ea57-e6e8-4547-b853-5e0032b24248\",\"type\":\"ColumnDataSource\"},{\"attributes\":{\"callback\":null,\"end\":16374.75},\"id\":\"4cff8fbc-5e52-480f-b60a-361588445ab2\",\"type\":\"Range1d\"},{\"attributes\":{\"callback\":null,\"column_names\":[\"line_color\",\"line_alpha\",\"color\",\"fill_alpha\",\"height\",\"width\",\"y\",\"x\"],\"data\":{\"AnimalType\":[\"Cat\"],\"OutcomeType\":[\"Euthanasia\"],\"chart_index\":[{\"AnimalType\":\"Cat\",\"OutcomeType\":\"Euthanasia\"}],\"color\":[\"#407ee7\"],\"fill_alpha\":[0.8],\"height\":[710.0],\"line_alpha\":[1.0],\"line_color\":[\"white\"],\"width\":[0.8],\"x\":[\"Cat\"],\"y\":[4774.0]}},\"id\":\"d3862aa7-b465-4ea3-b2bf-6edf87c139d3\",\"type\":\"ColumnDataSource\"},{\"attributes\":{\"data_source\":{\"id\":\"33493468-d194-4147-b6ea-a9f2f7a2b658\",\"type\":\"ColumnDataSource\"},\"glyph\":{\"id\":\"21d65f84-5f5b-4895-acc9-0a685ba2d77d\",\"type\":\"Rect\"},\"hover_glyph\":null,\"nonselection_glyph\":null,\"selection_glyph\":null},\"id\":\"6b5e9854-2036-4c60-a186-87d9ce9ee93a\",\"type\":\"GlyphRenderer\"},{\"attributes\":{\"fill_alpha\":{\"field\":\"fill_alpha\"},\"fill_color\":{\"field\":\"color\"},\"height\":{\"field\":\"height\",\"units\":\"data\"},\"line_color\":{\"field\":\"line_color\"},\"width\":{\"field\":\"width\",\"units\":\"data\"},\"x\":{\"field\":\"x\"},\"y\":{\"field\":\"y\"}},\"id\":\"beda63df-9754-439e-97b5-27478b2069ee\",\"type\":\"Rect\"},{\"attributes\":{\"fill_alpha\":{\"field\":\"fill_alpha\"},\"fill_color\":{\"field\":\"color\"},\"height\":{\"field\":\"height\",\"units\":\"data\"},\"line_color\":{\"field\":\"line_color\"},\"width\":{\"field\":\"width\",\"units\":\"data\"},\"x\":{\"field\":\"x\"},\"y\":{\"field\":\"y\"}},\"id\":\"0d3219da-85e7-4d77-90d7-6db92751e156\",\"type\":\"Rect\"},{\"attributes\":{\"callback\":null,\"plot\":{\"id\":\"e7a7b7db-12ff-42f8-b1d2-9bb70e7d1aae\",\"subtype\":\"Chart\",\"type\":\"Plot\"},\"tooltips\":[[\"Animal\",\"$x\"],[\"Outcome\",\"@OutcomeType\"],[\"Number\",\"@height{int}\"]]},\"id\":\"de87443e-b3e6-48ff-96f1-27431fe3f51b\",\"type\":\"HoverTool\"},{\"attributes\":{\"fill_alpha\":{\"field\":\"fill_alpha\"},\"fill_color\":{\"field\":\"color\"},\"height\":{\"field\":\"height\",\"units\":\"data\"},\"line_color\":{\"field\":\"line_color\"},\"width\":{\"field\":\"width\",\"units\":\"data\"},\"x\":{\"field\":\"x\"},\"y\":{\"field\":\"y\"}},\"id\":\"202d5dd6-7e25-4842-ae02-eb1d8b72722a\",\"type\":\"Rect\"},{\"attributes\":{\"data_source\":{\"id\":\"9beba3fb-e5df-4120-bc59-49a71c1f39ae\",\"type\":\"ColumnDataSource\"},\"glyph\":{\"id\":\"a60f78a5-8fd7-40c7-a492-fb22da88cca9\",\"type\":\"Rect\"},\"hover_glyph\":null,\"nonselection_glyph\":null,\"selection_glyph\":null},\"id\":\"8dce2277-86a3-4ad0-821d-f9d12915e605\",\"type\":\"GlyphRenderer\"},{\"attributes\":{\"data_source\":{\"id\":\"12968413-e453-4df4-9740-6cd829f78822\",\"type\":\"ColumnDataSource\"},\"glyph\":{\"id\":\"edabbb50-f586-44c9-9169-5dc707d0cbf4\",\"type\":\"Rect\"},\"hover_glyph\":null,\"nonselection_glyph\":null,\"selection_glyph\":null},\"id\":\"e1032fb5-7de8-4819-9afa-58344448b8d7\",\"type\":\"GlyphRenderer\"},{\"attributes\":{\"fill_alpha\":{\"field\":\"fill_alpha\"},\"fill_color\":{\"field\":\"color\"},\"height\":{\"field\":\"height\",\"units\":\"data\"},\"line_color\":{\"field\":\"line_color\"},\"width\":{\"field\":\"width\",\"units\":\"data\"},\"x\":{\"field\":\"x\"},\"y\":{\"field\":\"y\"}},\"id\":\"a60f78a5-8fd7-40c7-a492-fb22da88cca9\",\"type\":\"Rect\"},{\"attributes\":{\"axis_label\":\"Sum( Num_Animals )\",\"formatter\":{\"id\":\"3d3dbe1d-0ae4-4b66-a5a1-1427b8dc0e0b\",\"type\":\"BasicTickFormatter\"},\"plot\":{\"id\":\"e7a7b7db-12ff-42f8-b1d2-9bb70e7d1aae\",\"subtype\":\"Chart\",\"type\":\"Plot\"},\"ticker\":{\"id\":\"b9dec3f2-39ab-4e8e-83e6-9163c0499cb1\",\"type\":\"BasicTicker\"}},\"id\":\"68d83763-7eae-407b-bf18-76ab266317c0\",\"type\":\"LinearAxis\"},{\"attributes\":{},\"id\":\"3d3dbe1d-0ae4-4b66-a5a1-1427b8dc0e0b\",\"type\":\"BasicTickFormatter\"},{\"attributes\":{\"fill_alpha\":{\"field\":\"fill_alpha\"},\"fill_color\":{\"field\":\"color\"},\"height\":{\"field\":\"height\",\"units\":\"data\"},\"line_color\":{\"field\":\"line_color\"},\"width\":{\"field\":\"width\",\"units\":\"data\"},\"x\":{\"field\":\"x\"},\"y\":{\"field\":\"y\"}},\"id\":\"edabbb50-f586-44c9-9169-5dc707d0cbf4\",\"type\":\"Rect\"},{\"attributes\":{\"below\":[{\"id\":\"8814d769-76d3-4517-a67f-870d263a2732\",\"type\":\"CategoricalAxis\"}],\"left\":[{\"id\":\"68d83763-7eae-407b-bf18-76ab266317c0\",\"type\":\"LinearAxis\"}],\"legend\":\"top_left\",\"plot_height\":500,\"renderers\":[{\"id\":\"b5bc8d70-469c-46ab-81f3-084bfc04fef5\",\"type\":\"GlyphRenderer\"},{\"id\":\"6b5e9854-2036-4c60-a186-87d9ce9ee93a\",\"type\":\"GlyphRenderer\"},{\"id\":\"a577399c-dc64-4fb0-9646-d168255e3f4c\",\"type\":\"GlyphRenderer\"},{\"id\":\"d47226ed-aaf2-4ff1-81d7-17f12f3fe604\",\"type\":\"GlyphRenderer\"},{\"id\":\"d990eb30-aa53-41f3-a508-88ca1d80fc11\",\"type\":\"GlyphRenderer\"},{\"id\":\"8dce2277-86a3-4ad0-821d-f9d12915e605\",\"type\":\"GlyphRenderer\"},{\"id\":\"6ed68989-230c-42d4-916e-1a3d4c789c28\",\"type\":\"GlyphRenderer\"},{\"id\":\"3892d099-427c-4861-8103-80c979d750f6\",\"type\":\"GlyphRenderer\"},{\"id\":\"e1032fb5-7de8-4819-9afa-58344448b8d7\",\"type\":\"GlyphRenderer\"},{\"id\":\"5ab696b0-3521-49d8-8d2a-dc097983ecad\",\"type\":\"GlyphRenderer\"},{\"id\":\"9ab72b3f-6f19-43fe-868a-3d1c26e0798a\",\"type\":\"Legend\"},{\"id\":\"8814d769-76d3-4517-a67f-870d263a2732\",\"type\":\"CategoricalAxis\"},{\"id\":\"68d83763-7eae-407b-bf18-76ab266317c0\",\"type\":\"LinearAxis\"},{\"id\":\"dc725554-0fcb-48dc-ab36-57c44e2d18b2\",\"type\":\"Grid\"}],\"title_text_font_size\":{\"value\":\"14pt\"},\"tool_events\":{\"id\":\"4e73d060-001f-4d58-801f-ceb06f4646df\",\"type\":\"ToolEvents\"},\"tools\":[{\"id\":\"de87443e-b3e6-48ff-96f1-27431fe3f51b\",\"type\":\"HoverTool\"}],\"x_mapper_type\":\"auto\",\"x_range\":{\"id\":\"ddcd0a64-fa40-44d4-99ef-56659760c646\",\"type\":\"FactorRange\"},\"xgrid\":false,\"xscale\":\"auto\",\"y_mapper_type\":\"auto\",\"y_range\":{\"id\":\"4cff8fbc-5e52-480f-b60a-361588445ab2\",\"type\":\"Range1d\"},\"yscale\":\"auto\"},\"id\":\"e7a7b7db-12ff-42f8-b1d2-9bb70e7d1aae\",\"subtype\":\"Chart\",\"type\":\"Plot\"},{\"attributes\":{\"callback\":null,\"column_names\":[\"line_color\",\"line_alpha\",\"color\",\"fill_alpha\",\"height\",\"width\",\"y\",\"x\"],\"data\":{\"AnimalType\":[\"Cat\"],\"OutcomeType\":[\"Died\"],\"chart_index\":[{\"AnimalType\":\"Cat\",\"OutcomeType\":\"Died\"}],\"color\":[\"#5ab738\"],\"fill_alpha\":[0.8],\"height\":[147.0],\"line_alpha\":[1.0],\"line_color\":[\"white\"],\"width\":[0.8],\"x\":[\"Cat\"],\"y\":[4345.5]}},\"id\":\"33493468-d194-4147-b6ea-a9f2f7a2b658\",\"type\":\"ColumnDataSource\"},{\"attributes\":{\"callback\":null,\"column_names\":[\"line_color\",\"line_alpha\",\"color\",\"fill_alpha\",\"height\",\"width\",\"y\",\"x\"],\"data\":{\"AnimalType\":[\"Dog\"],\"OutcomeType\":[\"Return_to_owner\"],\"chart_index\":[{\"AnimalType\":\"Dog\",\"OutcomeType\":\"Return_to_owner\"}],\"color\":[\"#df5320\"],\"fill_alpha\":[0.8],\"height\":[4286.0],\"line_alpha\":[1.0],\"line_color\":[\"white\"],\"width\":[0.8],\"x\":[\"Dog\"],\"y\":[9535.0]}},\"id\":\"12968413-e453-4df4-9740-6cd829f78822\",\"type\":\"ColumnDataSource\"},{\"attributes\":{\"callback\":null,\"column_names\":[\"line_color\",\"line_alpha\",\"color\",\"fill_alpha\",\"height\",\"width\",\"y\",\"x\"],\"data\":{\"AnimalType\":[\"Dog\"],\"OutcomeType\":[\"Euthanasia\"],\"chart_index\":[{\"AnimalType\":\"Dog\",\"OutcomeType\":\"Euthanasia\"}],\"color\":[\"#407ee7\"],\"fill_alpha\":[0.8],\"height\":[845.0],\"line_alpha\":[1.0],\"line_color\":[\"white\"],\"width\":[0.8],\"x\":[\"Dog\"],\"y\":[6969.5]}},\"id\":\"16931687-3e4c-4c13-811e-4a25a48d86db\",\"type\":\"ColumnDataSource\"},{\"attributes\":{},\"id\":\"4e73d060-001f-4d58-801f-ceb06f4646df\",\"type\":\"ToolEvents\"},{\"attributes\":{\"fill_alpha\":{\"field\":\"fill_alpha\"},\"fill_color\":{\"field\":\"color\"},\"height\":{\"field\":\"height\",\"units\":\"data\"},\"line_color\":{\"field\":\"line_color\"},\"width\":{\"field\":\"width\",\"units\":\"data\"},\"x\":{\"field\":\"x\"},\"y\":{\"field\":\"y\"}},\"id\":\"21d65f84-5f5b-4895-acc9-0a685ba2d77d\",\"type\":\"Rect\"},{\"attributes\":{\"legends\":[[\"Adoption\",[{\"id\":\"b5bc8d70-469c-46ab-81f3-084bfc04fef5\",\"type\":\"GlyphRenderer\"}]],[\"Died\",[{\"id\":\"6b5e9854-2036-4c60-a186-87d9ce9ee93a\",\"type\":\"GlyphRenderer\"}]],[\"Euthanasia\",[{\"id\":\"a577399c-dc64-4fb0-9646-d168255e3f4c\",\"type\":\"GlyphRenderer\"}]],[\"Return_to_owner\",[{\"id\":\"d47226ed-aaf2-4ff1-81d7-17f12f3fe604\",\"type\":\"GlyphRenderer\"}]],[\"Transfer\",[{\"id\":\"d990eb30-aa53-41f3-a508-88ca1d80fc11\",\"type\":\"GlyphRenderer\"}]]],\"location\":\"top_left\",\"plot\":{\"id\":\"e7a7b7db-12ff-42f8-b1d2-9bb70e7d1aae\",\"subtype\":\"Chart\",\"type\":\"Plot\"}},\"id\":\"9ab72b3f-6f19-43fe-868a-3d1c26e0798a\",\"type\":\"Legend\"},{\"attributes\":{\"fill_alpha\":{\"field\":\"fill_alpha\"},\"fill_color\":{\"field\":\"color\"},\"height\":{\"field\":\"height\",\"units\":\"data\"},\"line_color\":{\"field\":\"line_color\"},\"width\":{\"field\":\"width\",\"units\":\"data\"},\"x\":{\"field\":\"x\"},\"y\":{\"field\":\"y\"}},\"id\":\"6ec92918-56cf-4106-a467-1cbae8833e41\",\"type\":\"Rect\"},{\"attributes\":{\"data_source\":{\"id\":\"8b6de508-6966-4ae3-a172-ee22e6539979\",\"type\":\"ColumnDataSource\"},\"glyph\":{\"id\":\"202d5dd6-7e25-4842-ae02-eb1d8b72722a\",\"type\":\"Rect\"},\"hover_glyph\":null,\"nonselection_glyph\":null,\"selection_glyph\":null},\"id\":\"b5bc8d70-469c-46ab-81f3-084bfc04fef5\",\"type\":\"GlyphRenderer\"},{\"attributes\":{},\"id\":\"b9dec3f2-39ab-4e8e-83e6-9163c0499cb1\",\"type\":\"BasicTicker\"},{\"attributes\":{\"data_source\":{\"id\":\"1ab3eb8e-bb23-49b5-b612-706d2dbd2f39\",\"type\":\"ColumnDataSource\"},\"glyph\":{\"id\":\"6ec92918-56cf-4106-a467-1cbae8833e41\",\"type\":\"Rect\"},\"hover_glyph\":null,\"nonselection_glyph\":null,\"selection_glyph\":null},\"id\":\"5ab696b0-3521-49d8-8d2a-dc097983ecad\",\"type\":\"GlyphRenderer\"},{\"attributes\":{\"data_source\":{\"id\":\"d3862aa7-b465-4ea3-b2bf-6edf87c139d3\",\"type\":\"ColumnDataSource\"},\"glyph\":{\"id\":\"9a775b6a-0d02-4dd7-93d4-02277e6e31aa\",\"type\":\"Rect\"},\"hover_glyph\":null,\"nonselection_glyph\":null,\"selection_glyph\":null},\"id\":\"a577399c-dc64-4fb0-9646-d168255e3f4c\",\"type\":\"GlyphRenderer\"},{\"attributes\":{\"fill_alpha\":{\"field\":\"fill_alpha\"},\"fill_color\":{\"field\":\"color\"},\"height\":{\"field\":\"height\",\"units\":\"data\"},\"line_color\":{\"field\":\"line_color\"},\"width\":{\"field\":\"width\",\"units\":\"data\"},\"x\":{\"field\":\"x\"},\"y\":{\"field\":\"y\"}},\"id\":\"9a775b6a-0d02-4dd7-93d4-02277e6e31aa\",\"type\":\"Rect\"},{\"attributes\":{\"data_source\":{\"id\":\"c3d3ea57-e6e8-4547-b853-5e0032b24248\",\"type\":\"ColumnDataSource\"},\"glyph\":{\"id\":\"beda63df-9754-439e-97b5-27478b2069ee\",\"type\":\"Rect\"},\"hover_glyph\":null,\"nonselection_glyph\":null,\"selection_glyph\":null},\"id\":\"d990eb30-aa53-41f3-a508-88ca1d80fc11\",\"type\":\"GlyphRenderer\"},{\"attributes\":{\"data_source\":{\"id\":\"e96beecc-6894-4dfd-a2d1-356232ed7bbe\",\"type\":\"ColumnDataSource\"},\"glyph\":{\"id\":\"0d3219da-85e7-4d77-90d7-6db92751e156\",\"type\":\"Rect\"},\"hover_glyph\":null,\"nonselection_glyph\":null,\"selection_glyph\":null},\"id\":\"d47226ed-aaf2-4ff1-81d7-17f12f3fe604\",\"type\":\"GlyphRenderer\"},{\"attributes\":{\"callback\":null,\"column_names\":[\"line_color\",\"line_alpha\",\"color\",\"fill_alpha\",\"height\",\"width\",\"y\",\"x\"],\"data\":{\"AnimalType\":[\"Dog\"],\"OutcomeType\":[\"Died\"],\"chart_index\":[{\"AnimalType\":\"Dog\",\"OutcomeType\":\"Died\"}],\"color\":[\"#5ab738\"],\"fill_alpha\":[0.8],\"height\":[50.0],\"line_alpha\":[1.0],\"line_color\":[\"white\"],\"width\":[0.8],\"x\":[\"Dog\"],\"y\":[6522.0]}},\"id\":\"86b7ecb2-d927-47ed-a113-e212dde7e9dd\",\"type\":\"ColumnDataSource\"},{\"attributes\":{\"dimension\":1,\"plot\":{\"id\":\"e7a7b7db-12ff-42f8-b1d2-9bb70e7d1aae\",\"subtype\":\"Chart\",\"type\":\"Plot\"},\"ticker\":{\"id\":\"b9dec3f2-39ab-4e8e-83e6-9163c0499cb1\",\"type\":\"BasicTicker\"}},\"id\":\"dc725554-0fcb-48dc-ab36-57c44e2d18b2\",\"type\":\"Grid\"},{\"attributes\":{\"data_source\":{\"id\":\"86b7ecb2-d927-47ed-a113-e212dde7e9dd\",\"type\":\"ColumnDataSource\"},\"glyph\":{\"id\":\"c0d58fa0-1519-4b44-8f58-9290fccda918\",\"type\":\"Rect\"},\"hover_glyph\":null,\"nonselection_glyph\":null,\"selection_glyph\":null},\"id\":\"6ed68989-230c-42d4-916e-1a3d4c789c28\",\"type\":\"GlyphRenderer\"},{\"attributes\":{},\"id\":\"eaac4e3e-7e83-4549-a583-090f87c6d5e6\",\"type\":\"CategoricalTickFormatter\"},{\"attributes\":{\"fill_alpha\":{\"field\":\"fill_alpha\"},\"fill_color\":{\"field\":\"color\"},\"height\":{\"field\":\"height\",\"units\":\"data\"},\"line_color\":{\"field\":\"line_color\"},\"width\":{\"field\":\"width\",\"units\":\"data\"},\"x\":{\"field\":\"x\"},\"y\":{\"field\":\"y\"}},\"id\":\"ef5ec87b-20b0-4011-a05e-010d3a13f380\",\"type\":\"Rect\"},{\"attributes\":{\"data_source\":{\"id\":\"16931687-3e4c-4c13-811e-4a25a48d86db\",\"type\":\"ColumnDataSource\"},\"glyph\":{\"id\":\"ef5ec87b-20b0-4011-a05e-010d3a13f380\",\"type\":\"Rect\"},\"hover_glyph\":null,\"nonselection_glyph\":null,\"selection_glyph\":null},\"id\":\"3892d099-427c-4861-8103-80c979d750f6\",\"type\":\"GlyphRenderer\"},{\"attributes\":{\"axis_label\":\"Animaltype\",\"formatter\":{\"id\":\"eaac4e3e-7e83-4549-a583-090f87c6d5e6\",\"type\":\"CategoricalTickFormatter\"},\"major_label_orientation\":0.7853981633974483,\"plot\":{\"id\":\"e7a7b7db-12ff-42f8-b1d2-9bb70e7d1aae\",\"subtype\":\"Chart\",\"type\":\"Plot\"},\"ticker\":{\"id\":\"f893d475-24aa-417f-ab97-276fc364e47e\",\"type\":\"CategoricalTicker\"}},\"id\":\"8814d769-76d3-4517-a67f-870d263a2732\",\"type\":\"CategoricalAxis\"},{\"attributes\":{\"callback\":null,\"column_names\":[\"line_color\",\"line_alpha\",\"color\",\"fill_alpha\",\"height\",\"width\",\"y\",\"x\"],\"data\":{\"AnimalType\":[\"Cat\"],\"OutcomeType\":[\"Adoption\"],\"chart_index\":[{\"AnimalType\":\"Cat\",\"OutcomeType\":\"Adoption\"}],\"color\":[\"#f22c40\"],\"fill_alpha\":[0.8],\"height\":[4272.0],\"line_alpha\":[1.0],\"line_color\":[\"white\"],\"width\":[0.8],\"x\":[\"Cat\"],\"y\":[2136.0]}},\"id\":\"8b6de508-6966-4ae3-a172-ee22e6539979\",\"type\":\"ColumnDataSource\"}],\"root_ids\":[\"e7a7b7db-12ff-42f8-b1d2-9bb70e7d1aae\"]},\"title\":\"Bokeh Application\",\"version\":\"0.11.1\"}};\n",
       "            var render_items = [{\"docid\":\"800e8bef-0e4c-429f-9e46-c9d7bfdf55d5\",\"elementid\":\"f08029d9-1961-43d5-b92b-6291e43774b9\",\"modelid\":\"e7a7b7db-12ff-42f8-b1d2-9bb70e7d1aae\",\"notebook_comms_target\":\"42303d45-72be-4bf3-adb7-306af7a24108\"}];\n",
       "            \n",
       "            Bokeh.embed.embed_items(docs_json, render_items);\n",
       "        });\n",
       "      },\n",
       "      function(Bokeh) {\n",
       "      }\n",
       "    ];\n",
       "  \n",
       "    function run_inline_js() {\n",
       "      for (var i = 0; i < inline_js.length; i++) {\n",
       "        inline_js[i](window.Bokeh);\n",
       "      }\n",
       "    }\n",
       "  \n",
       "    if (window._bokeh_is_loading === 0) {\n",
       "      console.log(\"Bokeh: BokehJS loaded, going straight to plotting\");\n",
       "      run_inline_js();\n",
       "    } else {\n",
       "      load_libs(js_urls, function() {\n",
       "        console.log(\"Bokeh: BokehJS plotting callback run at\", now());\n",
       "        run_inline_js();\n",
       "      });\n",
       "    }\n",
       "  }(this));\n",
       "</script>"
      ]
     },
     "metadata": {},
     "output_type": "display_data"
    },
    {
     "data": {
      "text/html": [
       "<p><code>&lt;Bokeh Notebook handle for <strong>In[180]</strong>&gt;</code></p>"
      ],
      "text/plain": [
       "<bokeh.io._CommsHandle at 0x7f9f4d2a5410>"
      ]
     },
     "execution_count": 180,
     "metadata": {},
     "output_type": "execute_result"
    }
   ],
   "source": [
    "outcomes = train.groupby(['AnimalType', 'OutcomeType'])\\\n",
    "            ['AnimalID'].count().reset_index()\n",
    "outcomes.columns = ['AnimalType', 'OutcomeType', 'num_animals']\n",
    "    \n",
    "hover = HoverTool(\n",
    "        tooltips=[\n",
    "            (\"Animal\", \"$x\"),  \n",
    "            (\"Outcome\", \"@OutcomeType\"),\n",
    "            (\"Number\", \"@height{int}\"),\n",
    "        ]\n",
    "    )\n",
    "p = Bar(outcomes, label='AnimalType', values='num_animals', agg='sum',\\\n",
    "        stack='OutcomeType', legend='top_left', plot_height=500,\\\n",
    "        tools=[hover]) \n",
    "#source = ColumnDataSource(p)\n",
    "show(p)"
   ]
  },
  {
   "cell_type": "code",
   "execution_count": 38,
   "metadata": {
    "collapsed": false
   },
   "outputs": [
    {
     "data": {
      "text/html": [
       "<div>\n",
       "<table border=\"1\" class=\"dataframe\">\n",
       "  <thead>\n",
       "    <tr style=\"text-align: right;\">\n",
       "      <th></th>\n",
       "      <th>ColorMix</th>\n",
       "      <th>OutcomeType</th>\n",
       "      <th>num_animals</th>\n",
       "    </tr>\n",
       "  </thead>\n",
       "  <tbody>\n",
       "    <tr>\n",
       "      <th>0</th>\n",
       "      <td>mix</td>\n",
       "      <td>Adoption</td>\n",
       "      <td>7702</td>\n",
       "    </tr>\n",
       "    <tr>\n",
       "      <th>1</th>\n",
       "      <td>mix</td>\n",
       "      <td>Died</td>\n",
       "      <td>135</td>\n",
       "    </tr>\n",
       "    <tr>\n",
       "      <th>2</th>\n",
       "      <td>mix</td>\n",
       "      <td>Euthanasia</td>\n",
       "      <td>1091</td>\n",
       "    </tr>\n",
       "    <tr>\n",
       "      <th>3</th>\n",
       "      <td>mix</td>\n",
       "      <td>Return_to_owner</td>\n",
       "      <td>3247</td>\n",
       "    </tr>\n",
       "    <tr>\n",
       "      <th>4</th>\n",
       "      <td>mix</td>\n",
       "      <td>Transfer</td>\n",
       "      <td>6590</td>\n",
       "    </tr>\n",
       "    <tr>\n",
       "      <th>5</th>\n",
       "      <td>single</td>\n",
       "      <td>Adoption</td>\n",
       "      <td>3067</td>\n",
       "    </tr>\n",
       "    <tr>\n",
       "      <th>6</th>\n",
       "      <td>single</td>\n",
       "      <td>Died</td>\n",
       "      <td>62</td>\n",
       "    </tr>\n",
       "    <tr>\n",
       "      <th>7</th>\n",
       "      <td>single</td>\n",
       "      <td>Euthanasia</td>\n",
       "      <td>464</td>\n",
       "    </tr>\n",
       "    <tr>\n",
       "      <th>8</th>\n",
       "      <td>single</td>\n",
       "      <td>Return_to_owner</td>\n",
       "      <td>1539</td>\n",
       "    </tr>\n",
       "    <tr>\n",
       "      <th>9</th>\n",
       "      <td>single</td>\n",
       "      <td>Transfer</td>\n",
       "      <td>2832</td>\n",
       "    </tr>\n",
       "  </tbody>\n",
       "</table>\n",
       "</div>"
      ],
      "text/plain": [
       "  ColorMix      OutcomeType  num_animals\n",
       "0      mix         Adoption         7702\n",
       "1      mix             Died          135\n",
       "2      mix       Euthanasia         1091\n",
       "3      mix  Return_to_owner         3247\n",
       "4      mix         Transfer         6590\n",
       "5   single         Adoption         3067\n",
       "6   single             Died           62\n",
       "7   single       Euthanasia          464\n",
       "8   single  Return_to_owner         1539\n",
       "9   single         Transfer         2832"
      ]
     },
     "execution_count": 38,
     "metadata": {},
     "output_type": "execute_result"
    }
   ],
   "source": [
    "outcomes"
   ]
  },
  {
   "cell_type": "code",
   "execution_count": 182,
   "metadata": {
    "collapsed": false
   },
   "outputs": [
    {
     "data": {
      "text/html": [
       "\n",
       "\n",
       "    <div class=\"plotdiv\" id=\"e24396dc-4abe-4a97-a10c-d40e667abcd5\"></div>\n",
       "<script type=\"text/javascript\">\n",
       "  \n",
       "  (function(global) {\n",
       "    function now() {\n",
       "      return new Date();\n",
       "    }\n",
       "  \n",
       "    if (typeof (window._bokeh_onload_callbacks) === \"undefined\") {\n",
       "      window._bokeh_onload_callbacks = [];\n",
       "    }\n",
       "  \n",
       "    function run_callbacks() {\n",
       "      window._bokeh_onload_callbacks.forEach(function(callback) { callback() });\n",
       "      delete window._bokeh_onload_callbacks\n",
       "      console.info(\"Bokeh: all callbacks have finished\");\n",
       "    }\n",
       "  \n",
       "    function load_libs(js_urls, callback) {\n",
       "      window._bokeh_onload_callbacks.push(callback);\n",
       "      if (window._bokeh_is_loading > 0) {\n",
       "        console.log(\"Bokeh: BokehJS is being loaded, scheduling callback at\", now());\n",
       "        return null;\n",
       "      }\n",
       "      if (js_urls == null || js_urls.length === 0) {\n",
       "        run_callbacks();\n",
       "        return null;\n",
       "      }\n",
       "      console.log(\"Bokeh: BokehJS not loaded, scheduling load and callback at\", now());\n",
       "      window._bokeh_is_loading = js_urls.length;\n",
       "      for (var i = 0; i < js_urls.length; i++) {\n",
       "        var url = js_urls[i];\n",
       "        var s = document.createElement('script');\n",
       "        s.src = url;\n",
       "        s.async = false;\n",
       "        s.onreadystatechange = s.onload = function() {\n",
       "          window._bokeh_is_loading--;\n",
       "          if (window._bokeh_is_loading === 0) {\n",
       "            console.log(\"Bokeh: all BokehJS libraries loaded\");\n",
       "            run_callbacks()\n",
       "          }\n",
       "        };\n",
       "        s.onerror = function() {\n",
       "          console.warn(\"failed to load library \" + url);\n",
       "        };\n",
       "        console.log(\"Bokeh: injecting script tag for BokehJS library: \", url);\n",
       "        document.getElementsByTagName(\"head\")[0].appendChild(s);\n",
       "      }\n",
       "    };var element = document.getElementById(\"e24396dc-4abe-4a97-a10c-d40e667abcd5\");\n",
       "    if (element == null) {\n",
       "      console.log(\"Bokeh: ERROR: autoload.js configured with elementid 'e24396dc-4abe-4a97-a10c-d40e667abcd5' but no matching script tag was found. \")\n",
       "      return false;\n",
       "    }\n",
       "  \n",
       "    var js_urls = [];\n",
       "  \n",
       "    var inline_js = [\n",
       "      function(Bokeh) {\n",
       "        Bokeh.$(function() {\n",
       "            var docs_json = {\"64de5dec-bfaa-42cd-8fd0-840f57c2d1d1\":{\"roots\":{\"references\":[{\"attributes\":{},\"id\":\"f893d475-24aa-417f-ab97-276fc364e47e\",\"type\":\"CategoricalTicker\"},{\"attributes\":{\"callback\":null,\"plot\":{\"id\":\"25036865-5e43-4d7d-9baa-d54a3102ef8a\",\"subtype\":\"Chart\",\"type\":\"Plot\"},\"tooltips\":[[\"Animal\",\"$x\"],[\"Outcome\",\"@OutcomeType\"],[\"Num\",\"@height{int}\"]]},\"id\":\"2d4fdd93-9496-47bd-b06c-730e03c8504c\",\"type\":\"HoverTool\"},{\"attributes\":{\"callback\":null,\"column_names\":[\"line_color\",\"line_alpha\",\"color\",\"fill_alpha\",\"height\",\"width\",\"y\",\"x\"],\"data\":{\"AnimalType\":[\"Cat\"],\"OutcomeType\":[\"Euthanasia\"],\"chart_index\":[{\"AnimalType\":\"Cat\",\"OutcomeType\":\"Euthanasia\"}],\"color\":[\"#407ee7\"],\"fill_alpha\":[0.8],\"height\":[710.0],\"line_alpha\":[1.0],\"line_color\":[\"white\"],\"width\":[0.8],\"x\":[\"Cat\"],\"y\":[4774.0]}},\"id\":\"d3862aa7-b465-4ea3-b2bf-6edf87c139d3\",\"type\":\"ColumnDataSource\"},{\"attributes\":{\"data_source\":{\"id\":\"716f0200-2306-4c74-9461-8272cb362821\",\"type\":\"ColumnDataSource\"},\"glyph\":{\"id\":\"08aa70c3-0f89-492a-a689-f154afa1e03b\",\"type\":\"Rect\"},\"hover_glyph\":null,\"nonselection_glyph\":null,\"selection_glyph\":null},\"id\":\"91837414-a3b6-41be-aa89-b13052084225\",\"type\":\"GlyphRenderer\"},{\"attributes\":{\"axis_label\":\"Colormix\",\"formatter\":{\"id\":\"514aef62-a4ce-4d82-ba07-b3933302641d\",\"type\":\"CategoricalTickFormatter\"},\"major_label_orientation\":0.7853981633974483,\"plot\":{\"id\":\"25036865-5e43-4d7d-9baa-d54a3102ef8a\",\"subtype\":\"Chart\",\"type\":\"Plot\"},\"ticker\":{\"id\":\"38281e59-5da7-4d11-9624-02244f11f321\",\"type\":\"CategoricalTicker\"}},\"id\":\"f4c3ed84-566e-422b-a89d-12d15d38c781\",\"type\":\"CategoricalAxis\"},{\"attributes\":{\"data_source\":{\"id\":\"a2331272-4d40-4f3f-a125-f33cc9019be9\",\"type\":\"ColumnDataSource\"},\"glyph\":{\"id\":\"c0fae50a-000a-4f1a-ad41-b620436f45f5\",\"type\":\"Rect\"},\"hover_glyph\":null,\"nonselection_glyph\":null,\"selection_glyph\":null},\"id\":\"44124875-f60a-41ae-9530-7d0c62678495\",\"type\":\"GlyphRenderer\"},{\"attributes\":{\"fill_alpha\":{\"field\":\"fill_alpha\"},\"fill_color\":{\"field\":\"color\"},\"height\":{\"field\":\"height\",\"units\":\"data\"},\"line_color\":{\"field\":\"line_color\"},\"width\":{\"field\":\"width\",\"units\":\"data\"},\"x\":{\"field\":\"x\"},\"y\":{\"field\":\"y\"}},\"id\":\"edabbb50-f586-44c9-9169-5dc707d0cbf4\",\"type\":\"Rect\"},{\"attributes\":{\"callback\":null,\"column_names\":[\"line_color\",\"line_alpha\",\"color\",\"fill_alpha\",\"height\",\"width\",\"y\",\"x\"],\"data\":{\"AnimalType\":[\"Cat\"],\"OutcomeType\":[\"Died\"],\"chart_index\":[{\"AnimalType\":\"Cat\",\"OutcomeType\":\"Died\"}],\"color\":[\"#5ab738\"],\"fill_alpha\":[0.8],\"height\":[147.0],\"line_alpha\":[1.0],\"line_color\":[\"white\"],\"width\":[0.8],\"x\":[\"Cat\"],\"y\":[4345.5]}},\"id\":\"33493468-d194-4147-b6ea-a9f2f7a2b658\",\"type\":\"ColumnDataSource\"},{\"attributes\":{\"fill_alpha\":{\"field\":\"fill_alpha\"},\"fill_color\":{\"field\":\"color\"},\"height\":{\"field\":\"height\",\"units\":\"data\"},\"line_color\":{\"field\":\"line_color\"},\"width\":{\"field\":\"width\",\"units\":\"data\"},\"x\":{\"field\":\"x\"},\"y\":{\"field\":\"y\"}},\"id\":\"c388d0e4-baaf-42b0-a1fc-04a63adddc37\",\"type\":\"Rect\"},{\"attributes\":{\"callback\":null,\"column_names\":[\"line_color\",\"line_alpha\",\"color\",\"fill_alpha\",\"height\",\"width\",\"y\",\"x\"],\"data\":{\"AnimalType\":[\"Cat\"],\"OutcomeType\":[\"Return_to_owner\"],\"chart_index\":[{\"AnimalType\":\"Cat\",\"OutcomeType\":\"Return_to_owner\"}],\"color\":[\"#df5320\"],\"fill_alpha\":[0.8],\"height\":[500.0],\"line_alpha\":[1.0],\"line_color\":[\"white\"],\"width\":[0.8],\"x\":[\"Cat\"],\"y\":[5379.0]}},\"id\":\"e96beecc-6894-4dfd-a2d1-356232ed7bbe\",\"type\":\"ColumnDataSource\"},{\"attributes\":{\"data_source\":{\"id\":\"1ab3eb8e-bb23-49b5-b612-706d2dbd2f39\",\"type\":\"ColumnDataSource\"},\"glyph\":{\"id\":\"6ec92918-56cf-4106-a467-1cbae8833e41\",\"type\":\"Rect\"},\"hover_glyph\":null,\"nonselection_glyph\":null,\"selection_glyph\":null},\"id\":\"5ab696b0-3521-49d8-8d2a-dc097983ecad\",\"type\":\"GlyphRenderer\"},{\"attributes\":{\"fill_alpha\":{\"field\":\"fill_alpha\"},\"fill_color\":{\"field\":\"color\"},\"height\":{\"field\":\"height\",\"units\":\"data\"},\"line_color\":{\"field\":\"line_color\"},\"width\":{\"field\":\"width\",\"units\":\"data\"},\"x\":{\"field\":\"x\"},\"y\":{\"field\":\"y\"}},\"id\":\"9a775b6a-0d02-4dd7-93d4-02277e6e31aa\",\"type\":\"Rect\"},{\"attributes\":{\"fill_alpha\":{\"field\":\"fill_alpha\"},\"fill_color\":{\"field\":\"color\"},\"height\":{\"field\":\"height\",\"units\":\"data\"},\"line_color\":{\"field\":\"line_color\"},\"width\":{\"field\":\"width\",\"units\":\"data\"},\"x\":{\"field\":\"x\"},\"y\":{\"field\":\"y\"}},\"id\":\"8434b26f-5db0-4154-b03e-a2770c34d67b\",\"type\":\"Rect\"},{\"attributes\":{\"fill_alpha\":{\"field\":\"fill_alpha\"},\"fill_color\":{\"field\":\"color\"},\"height\":{\"field\":\"height\",\"units\":\"data\"},\"line_color\":{\"field\":\"line_color\"},\"width\":{\"field\":\"width\",\"units\":\"data\"},\"x\":{\"field\":\"x\"},\"y\":{\"field\":\"y\"}},\"id\":\"21d65f84-5f5b-4895-acc9-0a685ba2d77d\",\"type\":\"Rect\"},{\"attributes\":{\"dimension\":1,\"plot\":{\"id\":\"e7a7b7db-12ff-42f8-b1d2-9bb70e7d1aae\",\"subtype\":\"Chart\",\"type\":\"Plot\"},\"ticker\":{\"id\":\"b9dec3f2-39ab-4e8e-83e6-9163c0499cb1\",\"type\":\"BasicTicker\"}},\"id\":\"dc725554-0fcb-48dc-ab36-57c44e2d18b2\",\"type\":\"Grid\"},{\"attributes\":{\"callback\":null,\"column_names\":[\"line_color\",\"line_alpha\",\"color\",\"fill_alpha\",\"height\",\"width\",\"y\",\"x\"],\"data\":{\"ColorMix\":[\"mixedColor\"],\"OutcomeType\":[\"Transfer\"],\"chart_index\":[{\"ColorMix\":\"mixedColor\",\"OutcomeType\":\"Transfer\"}],\"color\":[\"#00ad9c\"],\"fill_alpha\":[0.8],\"height\":[6590.0],\"line_alpha\":[1.0],\"line_color\":[\"white\"],\"width\":[0.8],\"x\":[\"mixedColor\"],\"y\":[15470.0]}},\"id\":\"a2331272-4d40-4f3f-a125-f33cc9019be9\",\"type\":\"ColumnDataSource\"},{\"attributes\":{\"axis_label\":\"Sum( Num_Animals )\",\"formatter\":{\"id\":\"4ee23e32-f6b9-4ad9-bf9b-790af8bf57b6\",\"type\":\"BasicTickFormatter\"},\"plot\":{\"id\":\"25036865-5e43-4d7d-9baa-d54a3102ef8a\",\"subtype\":\"Chart\",\"type\":\"Plot\"},\"ticker\":{\"id\":\"c2256e5e-dd4f-423a-bb97-7422ef16921a\",\"type\":\"BasicTicker\"}},\"id\":\"65b095d3-ec67-4341-9a77-7c1b54a32a30\",\"type\":\"LinearAxis\"},{\"attributes\":{\"legends\":[[\"Adoption\",[{\"id\":\"4d148ea3-7b64-4fc8-82ed-6c3fe0979e62\",\"type\":\"GlyphRenderer\"}]],[\"Died\",[{\"id\":\"ae83979b-6406-4b3c-8f62-eb1fe3e03836\",\"type\":\"GlyphRenderer\"}]],[\"Euthanasia\",[{\"id\":\"61d10f46-3152-4275-8125-fb56a20ab74e\",\"type\":\"GlyphRenderer\"}]],[\"Return_to_owner\",[{\"id\":\"91837414-a3b6-41be-aa89-b13052084225\",\"type\":\"GlyphRenderer\"}]],[\"Transfer\",[{\"id\":\"44124875-f60a-41ae-9530-7d0c62678495\",\"type\":\"GlyphRenderer\"}]]],\"location\":\"top_left\",\"plot\":{\"id\":\"25036865-5e43-4d7d-9baa-d54a3102ef8a\",\"subtype\":\"Chart\",\"type\":\"Plot\"}},\"id\":\"c6f24ca8-b549-489e-9f2d-ad43cd7178fc\",\"type\":\"Legend\"},{\"attributes\":{\"callback\":null,\"plot\":{\"id\":\"e7a7b7db-12ff-42f8-b1d2-9bb70e7d1aae\",\"subtype\":\"Chart\",\"type\":\"Plot\"},\"tooltips\":[[\"Animal\",\"$x\"],[\"Outcome\",\"@OutcomeType\"],[\"Number\",\"@height{int}\"]]},\"id\":\"de87443e-b3e6-48ff-96f1-27431fe3f51b\",\"type\":\"HoverTool\"},{\"attributes\":{},\"id\":\"7b0ae33f-74ba-4584-939b-2d0ad475e891\",\"type\":\"ToolEvents\"},{\"attributes\":{\"data_source\":{\"id\":\"1c233b60-622e-45d5-be0c-02b66d32b63b\",\"type\":\"ColumnDataSource\"},\"glyph\":{\"id\":\"091cf1d5-e634-40bb-ac7c-78fb0fa74bca\",\"type\":\"Rect\"},\"hover_glyph\":null,\"nonselection_glyph\":null,\"selection_glyph\":null},\"id\":\"4d148ea3-7b64-4fc8-82ed-6c3fe0979e62\",\"type\":\"GlyphRenderer\"},{\"attributes\":{\"data_source\":{\"id\":\"152ffa15-3f32-4599-8099-b3be953ffddf\",\"type\":\"ColumnDataSource\"},\"glyph\":{\"id\":\"00058042-f403-4e56-9461-12a098f0a56a\",\"type\":\"Rect\"},\"hover_glyph\":null,\"nonselection_glyph\":null,\"selection_glyph\":null},\"id\":\"61d10f46-3152-4275-8125-fb56a20ab74e\",\"type\":\"GlyphRenderer\"},{\"attributes\":{},\"id\":\"514aef62-a4ce-4d82-ba07-b3933302641d\",\"type\":\"CategoricalTickFormatter\"},{\"attributes\":{\"callback\":null,\"column_names\":[\"line_color\",\"line_alpha\",\"color\",\"fill_alpha\",\"height\",\"width\",\"y\",\"x\"],\"data\":{\"ColorMix\":[\"oneColor\"],\"OutcomeType\":[\"Transfer\"],\"chart_index\":[{\"ColorMix\":\"oneColor\",\"OutcomeType\":\"Transfer\"}],\"color\":[\"#00ad9c\"],\"fill_alpha\":[0.8],\"height\":[2832.0],\"line_alpha\":[1.0],\"line_color\":[\"white\"],\"width\":[0.8],\"x\":[\"oneColor\"],\"y\":[6548.0]}},\"id\":\"b008335a-bb21-46e1-a0e6-a2ddd5dc358d\",\"type\":\"ColumnDataSource\"},{\"attributes\":{\"callback\":null,\"column_names\":[\"line_color\",\"line_alpha\",\"color\",\"fill_alpha\",\"height\",\"width\",\"y\",\"x\"],\"data\":{\"AnimalType\":[\"Cat\"],\"OutcomeType\":[\"Transfer\"],\"chart_index\":[{\"AnimalType\":\"Cat\",\"OutcomeType\":\"Transfer\"}],\"color\":[\"#00ad9c\"],\"fill_alpha\":[0.8],\"height\":[5505.0],\"line_alpha\":[1.0],\"line_color\":[\"white\"],\"width\":[0.8],\"x\":[\"Cat\"],\"y\":[8381.5]}},\"id\":\"c3d3ea57-e6e8-4547-b853-5e0032b24248\",\"type\":\"ColumnDataSource\"},{\"attributes\":{\"fill_alpha\":{\"field\":\"fill_alpha\"},\"fill_color\":{\"field\":\"color\"},\"height\":{\"field\":\"height\",\"units\":\"data\"},\"line_color\":{\"field\":\"line_color\"},\"width\":{\"field\":\"width\",\"units\":\"data\"},\"x\":{\"field\":\"x\"},\"y\":{\"field\":\"y\"}},\"id\":\"beda63df-9754-439e-97b5-27478b2069ee\",\"type\":\"Rect\"},{\"attributes\":{\"fill_alpha\":{\"field\":\"fill_alpha\"},\"fill_color\":{\"field\":\"color\"},\"height\":{\"field\":\"height\",\"units\":\"data\"},\"line_color\":{\"field\":\"line_color\"},\"width\":{\"field\":\"width\",\"units\":\"data\"},\"x\":{\"field\":\"x\"},\"y\":{\"field\":\"y\"}},\"id\":\"3bdf33ee-cdd5-43e8-af1b-8de282d86e3f\",\"type\":\"Rect\"},{\"attributes\":{\"callback\":null,\"column_names\":[\"line_color\",\"line_alpha\",\"color\",\"fill_alpha\",\"height\",\"width\",\"y\",\"x\"],\"data\":{\"ColorMix\":[\"mixedColor\"],\"OutcomeType\":[\"Return_to_owner\"],\"chart_index\":[{\"ColorMix\":\"mixedColor\",\"OutcomeType\":\"Return_to_owner\"}],\"color\":[\"#df5320\"],\"fill_alpha\":[0.8],\"height\":[3247.0],\"line_alpha\":[1.0],\"line_color\":[\"white\"],\"width\":[0.8],\"x\":[\"mixedColor\"],\"y\":[10551.5]}},\"id\":\"716f0200-2306-4c74-9461-8272cb362821\",\"type\":\"ColumnDataSource\"},{\"attributes\":{\"data_source\":{\"id\":\"194a0cff-8d03-4508-aab3-232d00122264\",\"type\":\"ColumnDataSource\"},\"glyph\":{\"id\":\"197f7a9d-c5de-4685-89e3-5125368525f3\",\"type\":\"Rect\"},\"hover_glyph\":null,\"nonselection_glyph\":null,\"selection_glyph\":null},\"id\":\"ae83979b-6406-4b3c-8f62-eb1fe3e03836\",\"type\":\"GlyphRenderer\"},{\"attributes\":{\"callback\":null,\"factors\":[\"mixedColor\",\"oneColor\"]},\"id\":\"bc92bac5-0c37-4adb-a8b5-47a29945c706\",\"type\":\"FactorRange\"},{\"attributes\":{\"data_source\":{\"id\":\"b008335a-bb21-46e1-a0e6-a2ddd5dc358d\",\"type\":\"ColumnDataSource\"},\"glyph\":{\"id\":\"c388d0e4-baaf-42b0-a1fc-04a63adddc37\",\"type\":\"Rect\"},\"hover_glyph\":null,\"nonselection_glyph\":null,\"selection_glyph\":null},\"id\":\"34e4a127-7ffe-45bf-8b25-7506d5cdd26a\",\"type\":\"GlyphRenderer\"},{\"attributes\":{\"callback\":null,\"column_names\":[\"line_color\",\"line_alpha\",\"color\",\"fill_alpha\",\"height\",\"width\",\"y\",\"x\"],\"data\":{\"ColorMix\":[\"oneColor\"],\"OutcomeType\":[\"Return_to_owner\"],\"chart_index\":[{\"ColorMix\":\"oneColor\",\"OutcomeType\":\"Return_to_owner\"}],\"color\":[\"#df5320\"],\"fill_alpha\":[0.8],\"height\":[1539.0],\"line_alpha\":[1.0],\"line_color\":[\"white\"],\"width\":[0.8],\"x\":[\"oneColor\"],\"y\":[4362.5]}},\"id\":\"db89e7df-926f-4f74-b9fc-79c2f7551ff8\",\"type\":\"ColumnDataSource\"},{\"attributes\":{\"callback\":null,\"column_names\":[\"line_color\",\"line_alpha\",\"color\",\"fill_alpha\",\"height\",\"width\",\"y\",\"x\"],\"data\":{\"AnimalType\":[\"Dog\"],\"OutcomeType\":[\"Return_to_owner\"],\"chart_index\":[{\"AnimalType\":\"Dog\",\"OutcomeType\":\"Return_to_owner\"}],\"color\":[\"#df5320\"],\"fill_alpha\":[0.8],\"height\":[4286.0],\"line_alpha\":[1.0],\"line_color\":[\"white\"],\"width\":[0.8],\"x\":[\"Dog\"],\"y\":[9535.0]}},\"id\":\"12968413-e453-4df4-9740-6cd829f78822\",\"type\":\"ColumnDataSource\"},{\"attributes\":{},\"id\":\"4e73d060-001f-4d58-801f-ceb06f4646df\",\"type\":\"ToolEvents\"},{\"attributes\":{\"fill_alpha\":{\"field\":\"fill_alpha\"},\"fill_color\":{\"field\":\"color\"},\"height\":{\"field\":\"height\",\"units\":\"data\"},\"line_color\":{\"field\":\"line_color\"},\"width\":{\"field\":\"width\",\"units\":\"data\"},\"x\":{\"field\":\"x\"},\"y\":{\"field\":\"y\"}},\"id\":\"091cf1d5-e634-40bb-ac7c-78fb0fa74bca\",\"type\":\"Rect\"},{\"attributes\":{\"fill_alpha\":{\"field\":\"fill_alpha\"},\"fill_color\":{\"field\":\"color\"},\"height\":{\"field\":\"height\",\"units\":\"data\"},\"line_color\":{\"field\":\"line_color\"},\"width\":{\"field\":\"width\",\"units\":\"data\"},\"x\":{\"field\":\"x\"},\"y\":{\"field\":\"y\"}},\"id\":\"90465833-47f8-4d09-8cec-ed82609a9cd4\",\"type\":\"Rect\"},{\"attributes\":{\"callback\":null,\"column_names\":[\"line_color\",\"line_alpha\",\"color\",\"fill_alpha\",\"height\",\"width\",\"y\",\"x\"],\"data\":{\"AnimalType\":[\"Dog\"],\"OutcomeType\":[\"Died\"],\"chart_index\":[{\"AnimalType\":\"Dog\",\"OutcomeType\":\"Died\"}],\"color\":[\"#5ab738\"],\"fill_alpha\":[0.8],\"height\":[50.0],\"line_alpha\":[1.0],\"line_color\":[\"white\"],\"width\":[0.8],\"x\":[\"Dog\"],\"y\":[6522.0]}},\"id\":\"86b7ecb2-d927-47ed-a113-e212dde7e9dd\",\"type\":\"ColumnDataSource\"},{\"attributes\":{\"axis_label\":\"Animaltype\",\"formatter\":{\"id\":\"eaac4e3e-7e83-4549-a583-090f87c6d5e6\",\"type\":\"CategoricalTickFormatter\"},\"major_label_orientation\":0.7853981633974483,\"plot\":{\"id\":\"e7a7b7db-12ff-42f8-b1d2-9bb70e7d1aae\",\"subtype\":\"Chart\",\"type\":\"Plot\"},\"ticker\":{\"id\":\"f893d475-24aa-417f-ab97-276fc364e47e\",\"type\":\"CategoricalTicker\"}},\"id\":\"8814d769-76d3-4517-a67f-870d263a2732\",\"type\":\"CategoricalAxis\"},{\"attributes\":{\"fill_alpha\":{\"field\":\"fill_alpha\"},\"fill_color\":{\"field\":\"color\"},\"height\":{\"field\":\"height\",\"units\":\"data\"},\"line_color\":{\"field\":\"line_color\"},\"width\":{\"field\":\"width\",\"units\":\"data\"},\"x\":{\"field\":\"x\"},\"y\":{\"field\":\"y\"}},\"id\":\"ef5ec87b-20b0-4011-a05e-010d3a13f380\",\"type\":\"Rect\"},{\"attributes\":{\"callback\":null,\"column_names\":[\"line_color\",\"line_alpha\",\"color\",\"fill_alpha\",\"height\",\"width\",\"y\",\"x\"],\"data\":{\"ColorMix\":[\"mixedColor\"],\"OutcomeType\":[\"Euthanasia\"],\"chart_index\":[{\"ColorMix\":\"mixedColor\",\"OutcomeType\":\"Euthanasia\"}],\"color\":[\"#407ee7\"],\"fill_alpha\":[0.8],\"height\":[1091.0],\"line_alpha\":[1.0],\"line_color\":[\"white\"],\"width\":[0.8],\"x\":[\"mixedColor\"],\"y\":[8382.5]}},\"id\":\"152ffa15-3f32-4599-8099-b3be953ffddf\",\"type\":\"ColumnDataSource\"},{\"attributes\":{\"callback\":null,\"column_names\":[\"line_color\",\"line_alpha\",\"color\",\"fill_alpha\",\"height\",\"width\",\"y\",\"x\"],\"data\":{\"AnimalType\":[\"Cat\"],\"OutcomeType\":[\"Adoption\"],\"chart_index\":[{\"AnimalType\":\"Cat\",\"OutcomeType\":\"Adoption\"}],\"color\":[\"#f22c40\"],\"fill_alpha\":[0.8],\"height\":[4272.0],\"line_alpha\":[1.0],\"line_color\":[\"white\"],\"width\":[0.8],\"x\":[\"Cat\"],\"y\":[2136.0]}},\"id\":\"8b6de508-6966-4ae3-a172-ee22e6539979\",\"type\":\"ColumnDataSource\"},{\"attributes\":{\"dimension\":1,\"plot\":{\"id\":\"25036865-5e43-4d7d-9baa-d54a3102ef8a\",\"subtype\":\"Chart\",\"type\":\"Plot\"},\"ticker\":{\"id\":\"c2256e5e-dd4f-423a-bb97-7422ef16921a\",\"type\":\"BasicTicker\"}},\"id\":\"10630083-2672-4be3-9e67-a5580afeeb24\",\"type\":\"Grid\"},{\"attributes\":{\"callback\":null,\"column_names\":[\"line_color\",\"line_alpha\",\"color\",\"fill_alpha\",\"height\",\"width\",\"y\",\"x\"],\"data\":{\"AnimalType\":[\"Dog\"],\"OutcomeType\":[\"Adoption\"],\"chart_index\":[{\"AnimalType\":\"Dog\",\"OutcomeType\":\"Adoption\"}],\"color\":[\"#f22c40\"],\"fill_alpha\":[0.8],\"height\":[6497.0],\"line_alpha\":[1.0],\"line_color\":[\"white\"],\"width\":[0.8],\"x\":[\"Dog\"],\"y\":[3248.5]}},\"id\":\"9beba3fb-e5df-4120-bc59-49a71c1f39ae\",\"type\":\"ColumnDataSource\"},{\"attributes\":{\"fill_alpha\":{\"field\":\"fill_alpha\"},\"fill_color\":{\"field\":\"color\"},\"height\":{\"field\":\"height\",\"units\":\"data\"},\"line_color\":{\"field\":\"line_color\"},\"width\":{\"field\":\"width\",\"units\":\"data\"},\"x\":{\"field\":\"x\"},\"y\":{\"field\":\"y\"}},\"id\":\"6ec92918-56cf-4106-a467-1cbae8833e41\",\"type\":\"Rect\"},{\"attributes\":{\"data_source\":{\"id\":\"33493468-d194-4147-b6ea-a9f2f7a2b658\",\"type\":\"ColumnDataSource\"},\"glyph\":{\"id\":\"21d65f84-5f5b-4895-acc9-0a685ba2d77d\",\"type\":\"Rect\"},\"hover_glyph\":null,\"nonselection_glyph\":null,\"selection_glyph\":null},\"id\":\"6b5e9854-2036-4c60-a186-87d9ce9ee93a\",\"type\":\"GlyphRenderer\"},{\"attributes\":{},\"id\":\"3d3dbe1d-0ae4-4b66-a5a1-1427b8dc0e0b\",\"type\":\"BasicTickFormatter\"},{\"attributes\":{\"fill_alpha\":{\"field\":\"fill_alpha\"},\"fill_color\":{\"field\":\"color\"},\"height\":{\"field\":\"height\",\"units\":\"data\"},\"line_color\":{\"field\":\"line_color\"},\"width\":{\"field\":\"width\",\"units\":\"data\"},\"x\":{\"field\":\"x\"},\"y\":{\"field\":\"y\"}},\"id\":\"202d5dd6-7e25-4842-ae02-eb1d8b72722a\",\"type\":\"Rect\"},{\"attributes\":{\"fill_alpha\":{\"field\":\"fill_alpha\"},\"fill_color\":{\"field\":\"color\"},\"height\":{\"field\":\"height\",\"units\":\"data\"},\"line_color\":{\"field\":\"line_color\"},\"width\":{\"field\":\"width\",\"units\":\"data\"},\"x\":{\"field\":\"x\"},\"y\":{\"field\":\"y\"}},\"id\":\"c0d58fa0-1519-4b44-8f58-9290fccda918\",\"type\":\"Rect\"},{\"attributes\":{\"callback\":null,\"column_names\":[\"line_color\",\"line_alpha\",\"color\",\"fill_alpha\",\"height\",\"width\",\"y\",\"x\"],\"data\":{\"ColorMix\":[\"mixedColor\"],\"OutcomeType\":[\"Died\"],\"chart_index\":[{\"ColorMix\":\"mixedColor\",\"OutcomeType\":\"Died\"}],\"color\":[\"#5ab738\"],\"fill_alpha\":[0.8],\"height\":[135.0],\"line_alpha\":[1.0],\"line_color\":[\"white\"],\"width\":[0.8],\"x\":[\"mixedColor\"],\"y\":[7769.5]}},\"id\":\"194a0cff-8d03-4508-aab3-232d00122264\",\"type\":\"ColumnDataSource\"},{\"attributes\":{\"data_source\":{\"id\":\"413fbcdf-da71-4b78-b168-0951b587dc8a\",\"type\":\"ColumnDataSource\"},\"glyph\":{\"id\":\"46ad65d0-568f-4588-b309-9ebe9cadcd16\",\"type\":\"Rect\"},\"hover_glyph\":null,\"nonselection_glyph\":null,\"selection_glyph\":null},\"id\":\"eadf4011-211e-43e2-997e-0777cd2895df\",\"type\":\"GlyphRenderer\"},{\"attributes\":{\"data_source\":{\"id\":\"9beba3fb-e5df-4120-bc59-49a71c1f39ae\",\"type\":\"ColumnDataSource\"},\"glyph\":{\"id\":\"a60f78a5-8fd7-40c7-a492-fb22da88cca9\",\"type\":\"Rect\"},\"hover_glyph\":null,\"nonselection_glyph\":null,\"selection_glyph\":null},\"id\":\"8dce2277-86a3-4ad0-821d-f9d12915e605\",\"type\":\"GlyphRenderer\"},{\"attributes\":{},\"id\":\"c2256e5e-dd4f-423a-bb97-7422ef16921a\",\"type\":\"BasicTicker\"},{\"attributes\":{\"callback\":null,\"column_names\":[\"line_color\",\"line_alpha\",\"color\",\"fill_alpha\",\"height\",\"width\",\"y\",\"x\"],\"data\":{\"ColorMix\":[\"mixedColor\"],\"OutcomeType\":[\"Adoption\"],\"chart_index\":[{\"ColorMix\":\"mixedColor\",\"OutcomeType\":\"Adoption\"}],\"color\":[\"#f22c40\"],\"fill_alpha\":[0.8],\"height\":[7702.0],\"line_alpha\":[1.0],\"line_color\":[\"white\"],\"width\":[0.8],\"x\":[\"mixedColor\"],\"y\":[3851.0]}},\"id\":\"1c233b60-622e-45d5-be0c-02b66d32b63b\",\"type\":\"ColumnDataSource\"},{\"attributes\":{\"data_source\":{\"id\":\"e96beecc-6894-4dfd-a2d1-356232ed7bbe\",\"type\":\"ColumnDataSource\"},\"glyph\":{\"id\":\"0d3219da-85e7-4d77-90d7-6db92751e156\",\"type\":\"Rect\"},\"hover_glyph\":null,\"nonselection_glyph\":null,\"selection_glyph\":null},\"id\":\"d47226ed-aaf2-4ff1-81d7-17f12f3fe604\",\"type\":\"GlyphRenderer\"},{\"attributes\":{\"callback\":null,\"column_names\":[\"line_color\",\"line_alpha\",\"color\",\"fill_alpha\",\"height\",\"width\",\"y\",\"x\"],\"data\":{\"AnimalType\":[\"Dog\"],\"OutcomeType\":[\"Euthanasia\"],\"chart_index\":[{\"AnimalType\":\"Dog\",\"OutcomeType\":\"Euthanasia\"}],\"color\":[\"#407ee7\"],\"fill_alpha\":[0.8],\"height\":[845.0],\"line_alpha\":[1.0],\"line_color\":[\"white\"],\"width\":[0.8],\"x\":[\"Dog\"],\"y\":[6969.5]}},\"id\":\"16931687-3e4c-4c13-811e-4a25a48d86db\",\"type\":\"ColumnDataSource\"},{\"attributes\":{\"callback\":null,\"column_names\":[\"line_color\",\"line_alpha\",\"color\",\"fill_alpha\",\"height\",\"width\",\"y\",\"x\"],\"data\":{\"AnimalType\":[\"Dog\"],\"OutcomeType\":[\"Transfer\"],\"chart_index\":[{\"AnimalType\":\"Dog\",\"OutcomeType\":\"Transfer\"}],\"color\":[\"#00ad9c\"],\"fill_alpha\":[0.8],\"height\":[3917.0],\"line_alpha\":[1.0],\"line_color\":[\"white\"],\"width\":[0.8],\"x\":[\"Dog\"],\"y\":[13636.5]}},\"id\":\"1ab3eb8e-bb23-49b5-b612-706d2dbd2f39\",\"type\":\"ColumnDataSource\"},{\"attributes\":{},\"id\":\"b9dec3f2-39ab-4e8e-83e6-9163c0499cb1\",\"type\":\"BasicTicker\"},{\"attributes\":{\"fill_alpha\":{\"field\":\"fill_alpha\"},\"fill_color\":{\"field\":\"color\"},\"height\":{\"field\":\"height\",\"units\":\"data\"},\"line_color\":{\"field\":\"line_color\"},\"width\":{\"field\":\"width\",\"units\":\"data\"},\"x\":{\"field\":\"x\"},\"y\":{\"field\":\"y\"}},\"id\":\"c0fae50a-000a-4f1a-ad41-b620436f45f5\",\"type\":\"Rect\"},{\"attributes\":{\"data_source\":{\"id\":\"d3862aa7-b465-4ea3-b2bf-6edf87c139d3\",\"type\":\"ColumnDataSource\"},\"glyph\":{\"id\":\"9a775b6a-0d02-4dd7-93d4-02277e6e31aa\",\"type\":\"Rect\"},\"hover_glyph\":null,\"nonselection_glyph\":null,\"selection_glyph\":null},\"id\":\"a577399c-dc64-4fb0-9646-d168255e3f4c\",\"type\":\"GlyphRenderer\"},{\"attributes\":{\"data_source\":{\"id\":\"c3d3ea57-e6e8-4547-b853-5e0032b24248\",\"type\":\"ColumnDataSource\"},\"glyph\":{\"id\":\"beda63df-9754-439e-97b5-27478b2069ee\",\"type\":\"Rect\"},\"hover_glyph\":null,\"nonselection_glyph\":null,\"selection_glyph\":null},\"id\":\"d990eb30-aa53-41f3-a508-88ca1d80fc11\",\"type\":\"GlyphRenderer\"},{\"attributes\":{\"callback\":null,\"column_names\":[\"line_color\",\"line_alpha\",\"color\",\"fill_alpha\",\"height\",\"width\",\"y\",\"x\"],\"data\":{\"ColorMix\":[\"oneColor\"],\"OutcomeType\":[\"Adoption\"],\"chart_index\":[{\"ColorMix\":\"oneColor\",\"OutcomeType\":\"Adoption\"}],\"color\":[\"#f22c40\"],\"fill_alpha\":[0.8],\"height\":[3067.0],\"line_alpha\":[1.0],\"line_color\":[\"white\"],\"width\":[0.8],\"x\":[\"oneColor\"],\"y\":[1533.5]}},\"id\":\"d156f864-8144-4bfe-9f2a-1c991a6c5f5f\",\"type\":\"ColumnDataSource\"},{\"attributes\":{\"data_source\":{\"id\":\"d156f864-8144-4bfe-9f2a-1c991a6c5f5f\",\"type\":\"ColumnDataSource\"},\"glyph\":{\"id\":\"8434b26f-5db0-4154-b03e-a2770c34d67b\",\"type\":\"Rect\"},\"hover_glyph\":null,\"nonselection_glyph\":null,\"selection_glyph\":null},\"id\":\"766f730b-fa6e-45af-9a8e-ce65144a5820\",\"type\":\"GlyphRenderer\"},{\"attributes\":{\"data_source\":{\"id\":\"db89e7df-926f-4f74-b9fc-79c2f7551ff8\",\"type\":\"ColumnDataSource\"},\"glyph\":{\"id\":\"90465833-47f8-4d09-8cec-ed82609a9cd4\",\"type\":\"Rect\"},\"hover_glyph\":null,\"nonselection_glyph\":null,\"selection_glyph\":null},\"id\":\"f9736f48-b5ff-404f-a05e-db777e0e6ea0\",\"type\":\"GlyphRenderer\"},{\"attributes\":{\"data_source\":{\"id\":\"86b7ecb2-d927-47ed-a113-e212dde7e9dd\",\"type\":\"ColumnDataSource\"},\"glyph\":{\"id\":\"c0d58fa0-1519-4b44-8f58-9290fccda918\",\"type\":\"Rect\"},\"hover_glyph\":null,\"nonselection_glyph\":null,\"selection_glyph\":null},\"id\":\"6ed68989-230c-42d4-916e-1a3d4c789c28\",\"type\":\"GlyphRenderer\"},{\"attributes\":{\"data_source\":{\"id\":\"16931687-3e4c-4c13-811e-4a25a48d86db\",\"type\":\"ColumnDataSource\"},\"glyph\":{\"id\":\"ef5ec87b-20b0-4011-a05e-010d3a13f380\",\"type\":\"Rect\"},\"hover_glyph\":null,\"nonselection_glyph\":null,\"selection_glyph\":null},\"id\":\"3892d099-427c-4861-8103-80c979d750f6\",\"type\":\"GlyphRenderer\"},{\"attributes\":{},\"id\":\"38281e59-5da7-4d11-9624-02244f11f321\",\"type\":\"CategoricalTicker\"},{\"attributes\":{\"callback\":null,\"column_names\":[\"line_color\",\"line_alpha\",\"color\",\"fill_alpha\",\"height\",\"width\",\"y\",\"x\"],\"data\":{\"ColorMix\":[\"oneColor\"],\"OutcomeType\":[\"Died\"],\"chart_index\":[{\"ColorMix\":\"oneColor\",\"OutcomeType\":\"Died\"}],\"color\":[\"#5ab738\"],\"fill_alpha\":[0.8],\"height\":[62.0],\"line_alpha\":[1.0],\"line_color\":[\"white\"],\"width\":[0.8],\"x\":[\"oneColor\"],\"y\":[3098.0]}},\"id\":\"2e63c4db-6dbf-401f-ab62-3b44597aceca\",\"type\":\"ColumnDataSource\"},{\"attributes\":{\"fill_alpha\":{\"field\":\"fill_alpha\"},\"fill_color\":{\"field\":\"color\"},\"height\":{\"field\":\"height\",\"units\":\"data\"},\"line_color\":{\"field\":\"line_color\"},\"width\":{\"field\":\"width\",\"units\":\"data\"},\"x\":{\"field\":\"x\"},\"y\":{\"field\":\"y\"}},\"id\":\"197f7a9d-c5de-4685-89e3-5125368525f3\",\"type\":\"Rect\"},{\"attributes\":{\"fill_alpha\":{\"field\":\"fill_alpha\"},\"fill_color\":{\"field\":\"color\"},\"height\":{\"field\":\"height\",\"units\":\"data\"},\"line_color\":{\"field\":\"line_color\"},\"width\":{\"field\":\"width\",\"units\":\"data\"},\"x\":{\"field\":\"x\"},\"y\":{\"field\":\"y\"}},\"id\":\"00058042-f403-4e56-9461-12a098f0a56a\",\"type\":\"Rect\"},{\"attributes\":{\"callback\":null,\"factors\":[\"Cat\",\"Dog\"]},\"id\":\"ddcd0a64-fa40-44d4-99ef-56659760c646\",\"type\":\"FactorRange\"},{\"attributes\":{\"callback\":null,\"end\":16374.75},\"id\":\"4cff8fbc-5e52-480f-b60a-361588445ab2\",\"type\":\"Range1d\"},{\"attributes\":{\"fill_alpha\":{\"field\":\"fill_alpha\"},\"fill_color\":{\"field\":\"color\"},\"height\":{\"field\":\"height\",\"units\":\"data\"},\"line_color\":{\"field\":\"line_color\"},\"width\":{\"field\":\"width\",\"units\":\"data\"},\"x\":{\"field\":\"x\"},\"y\":{\"field\":\"y\"}},\"id\":\"0d3219da-85e7-4d77-90d7-6db92751e156\",\"type\":\"Rect\"},{\"attributes\":{\"fill_alpha\":{\"field\":\"fill_alpha\"},\"fill_color\":{\"field\":\"color\"},\"height\":{\"field\":\"height\",\"units\":\"data\"},\"line_color\":{\"field\":\"line_color\"},\"width\":{\"field\":\"width\",\"units\":\"data\"},\"x\":{\"field\":\"x\"},\"y\":{\"field\":\"y\"}},\"id\":\"08aa70c3-0f89-492a-a689-f154afa1e03b\",\"type\":\"Rect\"},{\"attributes\":{\"below\":[{\"id\":\"f4c3ed84-566e-422b-a89d-12d15d38c781\",\"type\":\"CategoricalAxis\"}],\"left\":[{\"id\":\"65b095d3-ec67-4341-9a77-7c1b54a32a30\",\"type\":\"LinearAxis\"}],\"legend\":\"top_left\",\"renderers\":[{\"id\":\"4d148ea3-7b64-4fc8-82ed-6c3fe0979e62\",\"type\":\"GlyphRenderer\"},{\"id\":\"ae83979b-6406-4b3c-8f62-eb1fe3e03836\",\"type\":\"GlyphRenderer\"},{\"id\":\"61d10f46-3152-4275-8125-fb56a20ab74e\",\"type\":\"GlyphRenderer\"},{\"id\":\"91837414-a3b6-41be-aa89-b13052084225\",\"type\":\"GlyphRenderer\"},{\"id\":\"44124875-f60a-41ae-9530-7d0c62678495\",\"type\":\"GlyphRenderer\"},{\"id\":\"766f730b-fa6e-45af-9a8e-ce65144a5820\",\"type\":\"GlyphRenderer\"},{\"id\":\"471ee9ee-5a49-442a-9634-64dd9738aa3c\",\"type\":\"GlyphRenderer\"},{\"id\":\"eadf4011-211e-43e2-997e-0777cd2895df\",\"type\":\"GlyphRenderer\"},{\"id\":\"f9736f48-b5ff-404f-a05e-db777e0e6ea0\",\"type\":\"GlyphRenderer\"},{\"id\":\"34e4a127-7ffe-45bf-8b25-7506d5cdd26a\",\"type\":\"GlyphRenderer\"},{\"id\":\"c6f24ca8-b549-489e-9f2d-ad43cd7178fc\",\"type\":\"Legend\"},{\"id\":\"f4c3ed84-566e-422b-a89d-12d15d38c781\",\"type\":\"CategoricalAxis\"},{\"id\":\"65b095d3-ec67-4341-9a77-7c1b54a32a30\",\"type\":\"LinearAxis\"},{\"id\":\"10630083-2672-4be3-9e67-a5580afeeb24\",\"type\":\"Grid\"}],\"title_text_font_size\":{\"value\":\"14pt\"},\"tool_events\":{\"id\":\"7b0ae33f-74ba-4584-939b-2d0ad475e891\",\"type\":\"ToolEvents\"},\"tools\":[{\"id\":\"2d4fdd93-9496-47bd-b06c-730e03c8504c\",\"type\":\"HoverTool\"}],\"x_mapper_type\":\"auto\",\"x_range\":{\"id\":\"bc92bac5-0c37-4adb-a8b5-47a29945c706\",\"type\":\"FactorRange\"},\"xgrid\":false,\"xscale\":\"auto\",\"y_mapper_type\":\"auto\",\"y_range\":{\"id\":\"50fc47d9-8844-44a2-8e12-6e243d4744b9\",\"type\":\"Range1d\"},\"yscale\":\"auto\"},\"id\":\"25036865-5e43-4d7d-9baa-d54a3102ef8a\",\"subtype\":\"Chart\",\"type\":\"Plot\"},{\"attributes\":{\"callback\":null,\"end\":19703.25},\"id\":\"50fc47d9-8844-44a2-8e12-6e243d4744b9\",\"type\":\"Range1d\"},{\"attributes\":{\"data_source\":{\"id\":\"12968413-e453-4df4-9740-6cd829f78822\",\"type\":\"ColumnDataSource\"},\"glyph\":{\"id\":\"edabbb50-f586-44c9-9169-5dc707d0cbf4\",\"type\":\"Rect\"},\"hover_glyph\":null,\"nonselection_glyph\":null,\"selection_glyph\":null},\"id\":\"e1032fb5-7de8-4819-9afa-58344448b8d7\",\"type\":\"GlyphRenderer\"},{\"attributes\":{},\"id\":\"4ee23e32-f6b9-4ad9-bf9b-790af8bf57b6\",\"type\":\"BasicTickFormatter\"},{\"attributes\":{\"fill_alpha\":{\"field\":\"fill_alpha\"},\"fill_color\":{\"field\":\"color\"},\"height\":{\"field\":\"height\",\"units\":\"data\"},\"line_color\":{\"field\":\"line_color\"},\"width\":{\"field\":\"width\",\"units\":\"data\"},\"x\":{\"field\":\"x\"},\"y\":{\"field\":\"y\"}},\"id\":\"a60f78a5-8fd7-40c7-a492-fb22da88cca9\",\"type\":\"Rect\"},{\"attributes\":{\"axis_label\":\"Sum( Num_Animals )\",\"formatter\":{\"id\":\"3d3dbe1d-0ae4-4b66-a5a1-1427b8dc0e0b\",\"type\":\"BasicTickFormatter\"},\"plot\":{\"id\":\"e7a7b7db-12ff-42f8-b1d2-9bb70e7d1aae\",\"subtype\":\"Chart\",\"type\":\"Plot\"},\"ticker\":{\"id\":\"b9dec3f2-39ab-4e8e-83e6-9163c0499cb1\",\"type\":\"BasicTicker\"}},\"id\":\"68d83763-7eae-407b-bf18-76ab266317c0\",\"type\":\"LinearAxis\"},{\"attributes\":{\"below\":[{\"id\":\"8814d769-76d3-4517-a67f-870d263a2732\",\"type\":\"CategoricalAxis\"}],\"left\":[{\"id\":\"68d83763-7eae-407b-bf18-76ab266317c0\",\"type\":\"LinearAxis\"}],\"legend\":\"top_left\",\"plot_height\":500,\"renderers\":[{\"id\":\"b5bc8d70-469c-46ab-81f3-084bfc04fef5\",\"type\":\"GlyphRenderer\"},{\"id\":\"6b5e9854-2036-4c60-a186-87d9ce9ee93a\",\"type\":\"GlyphRenderer\"},{\"id\":\"a577399c-dc64-4fb0-9646-d168255e3f4c\",\"type\":\"GlyphRenderer\"},{\"id\":\"d47226ed-aaf2-4ff1-81d7-17f12f3fe604\",\"type\":\"GlyphRenderer\"},{\"id\":\"d990eb30-aa53-41f3-a508-88ca1d80fc11\",\"type\":\"GlyphRenderer\"},{\"id\":\"8dce2277-86a3-4ad0-821d-f9d12915e605\",\"type\":\"GlyphRenderer\"},{\"id\":\"6ed68989-230c-42d4-916e-1a3d4c789c28\",\"type\":\"GlyphRenderer\"},{\"id\":\"3892d099-427c-4861-8103-80c979d750f6\",\"type\":\"GlyphRenderer\"},{\"id\":\"e1032fb5-7de8-4819-9afa-58344448b8d7\",\"type\":\"GlyphRenderer\"},{\"id\":\"5ab696b0-3521-49d8-8d2a-dc097983ecad\",\"type\":\"GlyphRenderer\"},{\"id\":\"9ab72b3f-6f19-43fe-868a-3d1c26e0798a\",\"type\":\"Legend\"},{\"id\":\"8814d769-76d3-4517-a67f-870d263a2732\",\"type\":\"CategoricalAxis\"},{\"id\":\"68d83763-7eae-407b-bf18-76ab266317c0\",\"type\":\"LinearAxis\"},{\"id\":\"dc725554-0fcb-48dc-ab36-57c44e2d18b2\",\"type\":\"Grid\"}],\"title_text_font_size\":{\"value\":\"14pt\"},\"tool_events\":{\"id\":\"4e73d060-001f-4d58-801f-ceb06f4646df\",\"type\":\"ToolEvents\"},\"tools\":[{\"id\":\"de87443e-b3e6-48ff-96f1-27431fe3f51b\",\"type\":\"HoverTool\"}],\"x_mapper_type\":\"auto\",\"x_range\":{\"id\":\"ddcd0a64-fa40-44d4-99ef-56659760c646\",\"type\":\"FactorRange\"},\"xgrid\":false,\"xscale\":\"auto\",\"y_mapper_type\":\"auto\",\"y_range\":{\"id\":\"4cff8fbc-5e52-480f-b60a-361588445ab2\",\"type\":\"Range1d\"},\"yscale\":\"auto\"},\"id\":\"e7a7b7db-12ff-42f8-b1d2-9bb70e7d1aae\",\"subtype\":\"Chart\",\"type\":\"Plot\"},{\"attributes\":{\"callback\":null,\"column_names\":[\"line_color\",\"line_alpha\",\"color\",\"fill_alpha\",\"height\",\"width\",\"y\",\"x\"],\"data\":{\"ColorMix\":[\"oneColor\"],\"OutcomeType\":[\"Euthanasia\"],\"chart_index\":[{\"ColorMix\":\"oneColor\",\"OutcomeType\":\"Euthanasia\"}],\"color\":[\"#407ee7\"],\"fill_alpha\":[0.8],\"height\":[464.0],\"line_alpha\":[1.0],\"line_color\":[\"white\"],\"width\":[0.8],\"x\":[\"oneColor\"],\"y\":[3361.0]}},\"id\":\"413fbcdf-da71-4b78-b168-0951b587dc8a\",\"type\":\"ColumnDataSource\"},{\"attributes\":{\"legends\":[[\"Adoption\",[{\"id\":\"b5bc8d70-469c-46ab-81f3-084bfc04fef5\",\"type\":\"GlyphRenderer\"}]],[\"Died\",[{\"id\":\"6b5e9854-2036-4c60-a186-87d9ce9ee93a\",\"type\":\"GlyphRenderer\"}]],[\"Euthanasia\",[{\"id\":\"a577399c-dc64-4fb0-9646-d168255e3f4c\",\"type\":\"GlyphRenderer\"}]],[\"Return_to_owner\",[{\"id\":\"d47226ed-aaf2-4ff1-81d7-17f12f3fe604\",\"type\":\"GlyphRenderer\"}]],[\"Transfer\",[{\"id\":\"d990eb30-aa53-41f3-a508-88ca1d80fc11\",\"type\":\"GlyphRenderer\"}]]],\"location\":\"top_left\",\"plot\":{\"id\":\"e7a7b7db-12ff-42f8-b1d2-9bb70e7d1aae\",\"subtype\":\"Chart\",\"type\":\"Plot\"}},\"id\":\"9ab72b3f-6f19-43fe-868a-3d1c26e0798a\",\"type\":\"Legend\"},{\"attributes\":{\"data_source\":{\"id\":\"2e63c4db-6dbf-401f-ab62-3b44597aceca\",\"type\":\"ColumnDataSource\"},\"glyph\":{\"id\":\"3bdf33ee-cdd5-43e8-af1b-8de282d86e3f\",\"type\":\"Rect\"},\"hover_glyph\":null,\"nonselection_glyph\":null,\"selection_glyph\":null},\"id\":\"471ee9ee-5a49-442a-9634-64dd9738aa3c\",\"type\":\"GlyphRenderer\"},{\"attributes\":{},\"id\":\"eaac4e3e-7e83-4549-a583-090f87c6d5e6\",\"type\":\"CategoricalTickFormatter\"},{\"attributes\":{\"fill_alpha\":{\"field\":\"fill_alpha\"},\"fill_color\":{\"field\":\"color\"},\"height\":{\"field\":\"height\",\"units\":\"data\"},\"line_color\":{\"field\":\"line_color\"},\"width\":{\"field\":\"width\",\"units\":\"data\"},\"x\":{\"field\":\"x\"},\"y\":{\"field\":\"y\"}},\"id\":\"46ad65d0-568f-4588-b309-9ebe9cadcd16\",\"type\":\"Rect\"},{\"attributes\":{\"data_source\":{\"id\":\"8b6de508-6966-4ae3-a172-ee22e6539979\",\"type\":\"ColumnDataSource\"},\"glyph\":{\"id\":\"202d5dd6-7e25-4842-ae02-eb1d8b72722a\",\"type\":\"Rect\"},\"hover_glyph\":null,\"nonselection_glyph\":null,\"selection_glyph\":null},\"id\":\"b5bc8d70-469c-46ab-81f3-084bfc04fef5\",\"type\":\"GlyphRenderer\"}],\"root_ids\":[\"e7a7b7db-12ff-42f8-b1d2-9bb70e7d1aae\",\"25036865-5e43-4d7d-9baa-d54a3102ef8a\"]},\"title\":\"Bokeh Application\",\"version\":\"0.11.1\"}};\n",
       "            var render_items = [{\"docid\":\"64de5dec-bfaa-42cd-8fd0-840f57c2d1d1\",\"elementid\":\"e24396dc-4abe-4a97-a10c-d40e667abcd5\",\"modelid\":\"25036865-5e43-4d7d-9baa-d54a3102ef8a\",\"notebook_comms_target\":\"9f47f7f2-12b7-4fee-a02a-cc0a4c6e4a4e\"}];\n",
       "            \n",
       "            Bokeh.embed.embed_items(docs_json, render_items);\n",
       "        });\n",
       "      },\n",
       "      function(Bokeh) {\n",
       "      }\n",
       "    ];\n",
       "  \n",
       "    function run_inline_js() {\n",
       "      for (var i = 0; i < inline_js.length; i++) {\n",
       "        inline_js[i](window.Bokeh);\n",
       "      }\n",
       "    }\n",
       "  \n",
       "    if (window._bokeh_is_loading === 0) {\n",
       "      console.log(\"Bokeh: BokehJS loaded, going straight to plotting\");\n",
       "      run_inline_js();\n",
       "    } else {\n",
       "      load_libs(js_urls, function() {\n",
       "        console.log(\"Bokeh: BokehJS plotting callback run at\", now());\n",
       "        run_inline_js();\n",
       "      });\n",
       "    }\n",
       "  }(this));\n",
       "</script>"
      ]
     },
     "metadata": {},
     "output_type": "display_data"
    },
    {
     "data": {
      "text/html": [
       "<p><code>&lt;Bokeh Notebook handle for <strong>In[182]</strong>&gt;</code></p>"
      ],
      "text/plain": [
       "<bokeh.io._CommsHandle at 0x7f9f4c88a8d0>"
      ]
     },
     "execution_count": 182,
     "metadata": {},
     "output_type": "execute_result"
    }
   ],
   "source": [
    "outcomes = full[full.fileName == 'train'].groupby(['ColorMix', 'OutcomeType'])\\\n",
    "            ['AnimalID'].count().reset_index()\n",
    "outcomes.columns = ['ColorMix', 'OutcomeType', 'num_animals']\n",
    "    \n",
    "hover = HoverTool(\n",
    "        tooltips=[\n",
    "            (\"Animal\", \"$x\"),  \n",
    "            (\"Outcome\", \"@OutcomeType\"),\n",
    "            (\"Num\", \"@height{int}\"),\n",
    "        ]\n",
    "    )\n",
    "p = Bar(outcomes, label='ColorMix', values='num_animals', agg='sum',\\\n",
    "        stack='OutcomeType', legend='top_left', plot_height=600,\\\n",
    "        tools=[hover]) \n",
    "#source = ColumnDataSource(p)\n",
    "show(p)"
   ]
  },
  {
   "cell_type": "code",
   "execution_count": 9,
   "metadata": {
    "collapsed": false
   },
   "outputs": [
    {
     "ename": "SyntaxError",
     "evalue": "EOL while scanning string literal (<string>, line 31)",
     "output_type": "error",
     "traceback": [
      "\u001b[1;36m  File \u001b[1;32m\"<string>\"\u001b[1;36m, line \u001b[1;32m31\u001b[0m\n\u001b[1;33m    7 : 'belgian shepherd (tervuren)',8 : 'bichon frisé\u001b[0m\n\u001b[1;37m                                                       ^\u001b[0m\n\u001b[1;31mSyntaxError\u001b[0m\u001b[1;31m:\u001b[0m EOL while scanning string literal\n"
     ]
    }
   ],
   "source": [
    "# Manual cleansing of the breeds to match wikipedia\n",
    "dogMap = {'Breed': {0 : 'akita',1 : 'alaskan husky',2 : 'american eskimo',\n",
    "3 : 'anatol shepherd',4 : 'bedlington terr',5 : 'belgian malinois',\n",
    "6 : 'belgian sheepdog',7 : 'belgian tervuren',8 : 'bichon frise',\n",
    "9 : 'black mouth cur',10 : 'bluetick hound',11 : 'boykin span',\n",
    "12 : 'bruss griffon',13 : 'bull terrier miniature',14 : 'cardigan welsh corgi',\n",
    "15 : 'catahoula',16 : 'cavalier span',17 : 'chesa bay retr',\n",
    "18 : 'chihuahua longhair',19 : 'chihuahua shorthair',20 : 'chinese crested',\n",
    "21 : 'chinese sharpei',22 : 'cirneco',23 : 'cocker spaniel',\n",
    "24 : 'collie rough',25 : 'collie smooth',26 : 'dachshund longhair',\n",
    "27 : 'dachshund stan',28 : 'dachshund wirehair',29 : 'dandie dinmont',\n",
    "30 : 'doberman pinsch',31 : 'dutch shepherd',32 : 'eng toy spaniel',\n",
    "33 : 'english bulldog',34 : 'english coonhound',35 : 'english pointer',\n",
    "36 : 'entlebucher',37 : 'flat coat retriever',38 : 'german shepherd',\n",
    "39 : 'german shorthair pointer',40 : 'glen of imaal',41 : 'jindo',\n",
    "42 : 'lowchen',43 : 'mastiff',44 : 'mexican hairless',45 : 'miniature poodle',\n",
    "46 : 'nova scotia duck tolling retriever',47 : 'old english bulldog',\n",
    "48 : 'patterdale terr',49 : 'pbgv',50 : 'pembroke welsh corgi',\n",
    "51 : 'picardy sheepdog',52 : 'pit bull',53 : 'podengo pequeno',\n",
    "54 : 'port water dog',55 : 'presa canario',56 : 'queensland heeler',\n",
    "57 : 'redbone hound',58 : 'rhod ridgeback',59 : 'schnauzer giant',\n",
    "60 : 'sealyham terr',61 : 'silky terrier',62 : 'smooth fox terrier',\n",
    "63 : 'soft coated wheaten terrier',64 : 'st. bernard rough coat',\n",
    "65 : 'st. bernard smooth coat',66 : 'staffordshire',67 : 'standard poodle',\n",
    "68 : 'swiss hound',69 : 'toy poodle',70 : 'treeing tennesse brindle',\n",
    "71 : 'west highland',72 : 'wire hair fox terrier',73 : 'yorkshire'},\n",
    " \n",
    "'WikiBreed': {0 : 'akita inu',1 : 'alaskan klee kai',2 : 'american eskimo dog',\n",
    "3 : 'anatolian shepherd dog',4 : 'bedlington terrier',\n",
    "5 : 'belgian shepherd dog (malinois)',6 : 'belgian shepherd dog (groenendael)',\n",
    "7 : 'belgian shepherd (tervuren)',8 : 'bichon frisé',\n",
    "9 : 'blackmouth cur',10 : 'bluetick coonhound',11 : 'boykin spaniel',\n",
    "12 : 'griffon bruxellois',13 : 'bull terrier (miniature)',\n",
    "14 : 'welsh corgi, cardigan',15 : 'catahoula cur',\n",
    "16 : 'cavalier king charles spaniel',17 : 'chesapeake bay retriever',\n",
    "18 : 'chihuahua',19 : 'chihuahua',20 : 'chinese crested dog',21 : 'shar pei',\n",
    "22 : 'cirneco dell\\'etna',23 : 'american cocker spaniel',24 : 'collie, rough',\n",
    "25 : 'collie, smooth',26 : 'dachshund',27 : 'dachshund',28 : 'dachshund',\n",
    "29 : 'dandie dinmont terrier',30 : 'doberman pinscher',\n",
    "31 : 'dutch shepherd dog',32 : 'english cocker spaniel',\n",
    "33 : 'olde english bulldogge',34 : 'american english coonhound',\n",
    "35 : 'pointer',36 : 'entlebucher mountain dog',37 : 'flat-coated retriever',\n",
    "38 : 'german shepherd dog',39 : 'german shorthaired pointer',\n",
    "40 : 'glen of imaal terrier',41 : 'korean jindo dog',42 : 'löwchen',\n",
    "43 : 'bullmastiff',44 : 'mexican hairless dog',45 : 'toy poodle',\n",
    "46 : 'nova scotia duck-tolling retriever',47 : 'olde english bulldogge',\n",
    "48 : 'patterdale terrier',49 : 'basset griffon vendéen, petit',\n",
    "50 : 'welsh corgi, pembroke',51 : 'picardy spaniel',\n",
    "52 : 'american pit bull terrier',53 : 'portuguese podengo',\n",
    "54 : 'portuguese water dog',55 : 'perro de presa canario',\n",
    "56 : 'lancashire heeler',57 : 'redbone coonhound',58 : 'rhodesian ridgeback',\n",
    "59 : 'giant schnauzer',60 : 'sealyham terrier',61 : 'australian silky terrier',\n",
    "62 : 'fox terrier (smooth)',63 : 'soft-coated wheaten terrier',\n",
    "64 : 'st. bernard',65 : 'st. bernard',66 : 'staffordshire bull terrier',\n",
    "67 : 'poodle',68 : 'swedish vallhund',69 : 'toy poodle',\n",
    "70 : 'tennessee treeing brindle',71 : 'west highland white terrier',\n",
    "72 : 'fox terrier, wire',73 : 'yorkshire terrier'}}\n",
    "\n",
    "dfdogMap = pd.DataFrame.from_dict(dogMap)"
   ]
  }
 ],
 "metadata": {
  "kernelspec": {
   "display_name": "Python 2",
   "language": "python",
   "name": "python2"
  },
  "language_info": {
   "codemirror_mode": {
    "name": "ipython",
    "version": 2
   },
   "file_extension": ".py",
   "mimetype": "text/x-python",
   "name": "python",
   "nbconvert_exporter": "python",
   "pygments_lexer": "ipython2",
   "version": "2.7.11"
  }
 },
 "nbformat": 4,
 "nbformat_minor": 0
}
