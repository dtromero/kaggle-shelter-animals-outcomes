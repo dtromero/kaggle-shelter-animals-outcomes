{
 "cells": [
  {
   "cell_type": "markdown",
   "metadata": {},
   "source": [
    "# Kaggle: Shelter Animal Outcomes EDA and Model\n",
    "\n",
    "Model building for Kaggle..."
   ]
  },
  {
   "cell_type": "code",
   "execution_count": 1,
   "metadata": {
    "collapsed": false
   },
   "outputs": [],
   "source": [
    "%matplotlib inline\n",
    "\n",
    "import os\n",
    "import gzip\n",
    "import csv\n",
    "import pandas as pd\n",
    "pd.set_option('display.max_columns', None)\n",
    "\n",
    "import numpy as np\n",
    "\n",
    "import re\n",
    "\n",
    "import matplotlib.pyplot as plt\n",
    "plt.style.use('seaborn-colorblind')\n",
    "\n",
    "# load in the datasets to pandas\n",
    "sample = pd.read_csv(u'data/sample_submission.csv.gz')\n",
    "test = pd.read_csv(u'data/test.csv.gz')\n",
    "train = pd.read_csv(u'data/train.csv.gz')\n",
    "\n",
    "# adding a column to segment data after merging\n",
    "test['fileName'] = 'test'\n",
    "train['fileName'] = 'train'\n",
    "full = pd.concat((train, test))"
   ]
  },
  {
   "cell_type": "markdown",
   "metadata": {},
   "source": [
    "### Parsing out the relative ages of the animals\n",
    "\n",
    "The age data element has values like `1 Month` or `2 Years`, in order to have an apples to apples comparison, this code converts the values to days by parsing the unit time element and converting it to a multiple (eg. 7 for week). Then it multiplies that multiple against the unit of time. For example `2 Weeks` converts to 2 * 7 or 14 days.\n",
    "\n",
    "Finally, we convert that time to a categorical variable. If an animal is less than `1 year` old, it is considered a ***Puppy/Kitten***. Otherwise it's considered an ***Adult*** in this field."
   ]
  },
  {
   "cell_type": "code",
   "execution_count": 2,
   "metadata": {
    "collapsed": false
   },
   "outputs": [],
   "source": [
    "full['unitOfTime'] = train.AgeuponOutcome.apply(lambda x: re.sub('s$', '', str(x).split(' ')[-1]))\n",
    "full['timeVal'] = train.AgeuponOutcome.apply(lambda x: str(x).split(' ')[0])\n",
    "\n",
    "daysMultiplier = pd.DataFrame.from_dict([{np.nan: 0, 'day' : 1, 'week' : 7, 'month' : 30, 'year' : 365}]).T.reset_index()\n",
    "daysMultiplier.columns = ['unitOfTime', 'daysMultiplier']\n",
    "full = pd.merge(full, daysMultiplier, on='unitOfTime', how='left', suffixes=['','_y'])\n",
    "full['ageInDays'] = full['timeVal'].astype(float) * full['daysMultiplier']\n",
    "full['ageGrp'] = full['ageInDays'].apply(lambda x: 'Adult' if x > 365 else 'Puppy/Kitten')"
   ]
  },
  {
   "cell_type": "markdown",
   "metadata": {},
   "source": [
    "### Parsing out the sex's and neutered status\n",
    "\n",
    "The ***Sexuponoutcome*** field has elements like `Neutered Male` or `Intact Female` are converted to Male/Female, and Neutered/Intact."
   ]
  },
  {
   "cell_type": "code",
   "execution_count": 3,
   "metadata": {
    "collapsed": false
   },
   "outputs": [],
   "source": [
    "full['SexuponOutcome'].fillna('Unknown', inplace=True)\n",
    "full['Sex'] = full['SexuponOutcome'].apply(lambda x: x.split(' ')[-1] )\n",
    "full['Intactness'] = full['SexuponOutcome'].apply(lambda x: x.split(' ')[0].replace('Spayed', 'Neutered') ) "
   ]
  },
  {
   "cell_type": "markdown",
   "metadata": {},
   "source": [
    "### Parsing out the color features"
   ]
  },
  {
   "cell_type": "code",
   "execution_count": 4,
   "metadata": {
    "collapsed": false
   },
   "outputs": [],
   "source": [
    "mixColors = ['/', 'tricolor', 'calico', 'torbie', 'tabby']\n",
    "def colorMixBinary(colorString):\n",
    "    if any(x in colorString for x in mixColors):\n",
    "        return 'mixedColor'\n",
    "    else:\n",
    "        return 'oneColor'\n",
    "\n",
    "full['ColorMix'] = full['Color'].apply(lambda x: colorMixBinary(x.lower()) )"
   ]
  },
  {
   "cell_type": "markdown",
   "metadata": {},
   "source": [
    "### Parsing out the breed features\n",
    "\n",
    "Most of the breeds match up to the [https://en.wikipedia.org/wiki/List_of_dog_breeds](List of Dogs Wikipedia) table, however there were 70 or so breeds that did not have a direct one-to-one match in the dataset. \n",
    "\n",
    "The table below is a manual map the Austin breed names to the wikipedia breed name pages."
   ]
  },
  {
   "cell_type": "code",
   "execution_count": 5,
   "metadata": {
    "collapsed": false
   },
   "outputs": [],
   "source": [
    "# Manual cleansing of the breeds to match wikipedia\n",
    "dogMap = {'Breed': {0 : 'akita',1 : 'alaskan husky',2 : 'american eskimo',\n",
    "3 : 'anatol shepherd',4 : 'bedlington terr',5 : 'belgian malinois',\n",
    "6 : 'belgian sheepdog',7 : 'belgian tervuren',8 : 'bichon frise',\n",
    "9 : 'black mouth cur',10 : 'bluetick hound',11 : 'boykin span',\n",
    "12 : 'bruss griffon',13 : 'bull terrier miniature',14 : 'cardigan welsh corgi',\n",
    "15 : 'catahoula',16 : 'cavalier span',17 : 'chesa bay retr',\n",
    "18 : 'chihuahua longhair',19 : 'chihuahua shorthair',20 : 'chinese crested',\n",
    "21 : 'chinese sharpei',22 : 'cirneco',23 : 'cocker spaniel',\n",
    "24 : 'collie rough',25 : 'collie smooth',26 : 'dachshund longhair',\n",
    "27 : 'dachshund stan',28 : 'dachshund wirehair',29 : 'dandie dinmont',\n",
    "30 : 'doberman pinsch',31 : 'dutch shepherd',32 : 'eng toy spaniel',\n",
    "33 : 'english bulldog',34 : 'english coonhound',35 : 'english pointer',\n",
    "36 : 'entlebucher',37 : 'flat coat retriever',38 : 'german shepherd',\n",
    "39 : 'german shorthair pointer',40 : 'glen of imaal',41 : 'jindo',\n",
    "42 : 'lowchen',43 : 'mastiff',44 : 'mexican hairless',45 : 'miniature poodle',\n",
    "46 : 'nova scotia duck tolling retriever',47 : 'old english bulldog',\n",
    "48 : 'patterdale terr',49 : 'pbgv',50 : 'pembroke welsh corgi',\n",
    "51 : 'picardy sheepdog',52 : 'pit bull',53 : 'podengo pequeno',\n",
    "54 : 'port water dog',55 : 'presa canario',56 : 'queensland heeler',\n",
    "57 : 'redbone hound',58 : 'rhod ridgeback',59 : 'schnauzer giant',\n",
    "60 : 'sealyham terr',61 : 'silky terrier',62 : 'smooth fox terrier',\n",
    "63 : 'soft coated wheaten terrier',64 : 'st. bernard rough coat',\n",
    "65 : 'st. bernard smooth coat',66 : 'staffordshire',67 : 'standard poodle',\n",
    "68 : 'swiss hound',69 : 'toy poodle',70 : 'treeing tennesse brindle',\n",
    "71 : 'west highland',72 : 'wire hair fox terrier',73 : 'yorkshire'},\n",
    " \n",
    "'WikiBreed': {0 : 'akita inu',1 : 'alaskan klee kai',2 : 'american eskimo dog',\n",
    "3 : 'anatolian shepherd dog',4 : 'bedlington terrier',\n",
    "5 : 'belgian shepherd dog (malinois)',6 : 'belgian shepherd dog (groenendael)',\n",
    "7 : 'belgian shepherd (tervuren)',8 : 'bichon frisé',\n",
    "9 : 'blackmouth cur',10 : 'bluetick coonhound',11 : 'boykin spaniel',\n",
    "12 : 'griffon bruxellois',13 : 'bull terrier (miniature)',\n",
    "14 : 'welsh corgi, cardigan',15 : 'catahoula cur',\n",
    "16 : 'cavalier king charles spaniel',17 : 'chesapeake bay retriever',\n",
    "18 : 'chihuahua',19 : 'chihuahua',20 : 'chinese crested dog',21 : 'shar pei',\n",
    "22 : 'cirneco dell\\'etna',23 : 'american cocker spaniel',24 : 'collie, rough',\n",
    "25 : 'collie, smooth',26 : 'dachshund',27 : 'dachshund',28 : 'dachshund',\n",
    "29 : 'dandie dinmont terrier',30 : 'doberman pinscher',\n",
    "31 : 'dutch shepherd dog',32 : 'english cocker spaniel',\n",
    "33 : 'olde english bulldogge',34 : 'american english coonhound',\n",
    "35 : 'pointer',36 : 'entlebucher mountain dog',37 : 'flat-coated retriever',\n",
    "38 : 'german shepherd dog',39 : 'german shorthaired pointer',\n",
    "40 : 'glen of imaal terrier',41 : 'korean jindo dog',42 : 'löwchen',\n",
    "43 : 'bullmastiff',44 : 'mexican hairless dog',45 : 'toy poodle',\n",
    "46 : 'nova scotia duck-tolling retriever',47 : 'olde english bulldogge',\n",
    "48 : 'patterdale terrier',49 : 'basset griffon vendéen, petit',\n",
    "50 : 'welsh corgi, pembroke',51 : 'picardy spaniel',\n",
    "52 : 'american pit bull terrier',53 : 'portuguese podengo',\n",
    "54 : 'portuguese water dog',55 : 'perro de presa canario',\n",
    "56 : 'lancashire heeler',57 : 'redbone coonhound',58 : 'rhodesian ridgeback',\n",
    "59 : 'giant schnauzer',60 : 'sealyham terrier',61 : 'australian silky terrier',\n",
    "62 : 'fox terrier (smooth)',63 : 'soft-coated wheaten terrier',\n",
    "64 : 'st. bernard',65 : 'st. bernard',66 : 'staffordshire bull terrier',\n",
    "67 : 'poodle',68 : 'swedish vallhund',69 : 'toy poodle',\n",
    "70 : 'tennessee treeing brindle',71 : 'west highland white terrier',\n",
    "72 : 'fox terrier, wire',73 : 'yorkshire terrier'}}\n",
    "\n",
    "dfdogMap = pd.DataFrame.from_dict(dogMap)"
   ]
  },
  {
   "cell_type": "code",
   "execution_count": 11,
   "metadata": {
    "collapsed": false
   },
   "outputs": [],
   "source": [
    "#simple parsing using pandas, but want to bring in the url for later parsing\n",
    "#wikiDogBreeds = pd.read_html('https://en.wikipedia.org/wiki/List_of_dog_breeds', header=0)[0]\n",
    "#wikiDogBreeds['Breed'] = wikiDogBreeds['Breed'].apply(lambda x: x.strip().lower())\n",
    "\n",
    "from bs4 import BeautifulSoup\n",
    "import requests\n",
    "\n",
    "respond = requests.get('https://en.wikipedia.org/wiki/List_of_dog_breeds')\n",
    "soup = BeautifulSoup(respond.text, \"lxml\")\n",
    "                     \n",
    "data = []\n",
    "table = soup.find('table', class_='wikitable')\n",
    "rows = table.find_all('tr')\n",
    "\n",
    "headers = rows[0].find_all('th')\n",
    "headerText = [header.text.strip() for header in headers]\n",
    "headerText.append('wikiUrl')\n",
    "for row in rows[1:-1]:  #skip the header/footer rows\n",
    "    wikiUrl = row.find_all('a')[0].get('href')\n",
    "    cols = row.find_all('td')\n",
    "    cols = [ele.text.strip() for ele in cols]\n",
    "    cols.append(wikiUrl)\n",
    "    data.append([ele for ele in cols])\n",
    "wikiDogBreeds = pd.DataFrame(data, columns=headerText)\n",
    "wikiDogBreeds.Breed = wikiDogBreeds.Breed.apply(lambda x: x.strip().lower())\n",
    "del wikiDogBreeds['Image'] # no data is pulled into this column\n",
    "wikiDogBreeds.columns =  ['WikiBreed', 'Origin', 'Federation Cynologique Internationale',\n",
    "                          'American Kennel Club', 'Australian National Kennel Council',\n",
    "                          'Canadian Kennel Club', 'The Kennel Club',u'New Zealand Kennel Club',\n",
    "                          'United Kennel Club[9]', 'wikiUrl']"
   ]
  },
  {
   "cell_type": "code",
   "execution_count": 7,
   "metadata": {
    "collapsed": false
   },
   "outputs": [],
   "source": [
    "dataDogBreeds = {}\n",
    "maxLen = 0\n",
    "for b in full[full.AnimalType=='Dog']['Breed'].unique():\n",
    "    mixNames = b.split('/')\n",
    "    if maxLen < len(mixNames):\n",
    "        maxLen = len(mixNames)\n",
    "    for n in range(len(mixNames)):\n",
    "        breed = mixNames[n].replace('Mix','').strip().lower()\n",
    "        if breed not in dataDogBreeds.keys():\n",
    "            dataDogBreeds[breed] = 1\n",
    "        else:\n",
    "            dataDogBreeds[breed] = dataDogBreeds[breed]+1\n",
    "dataDogBreeds = pd.DataFrame(dataDogBreeds.items(), columns=['Breed', 'Cnt'])\n",
    "dataDogBreeds = pd.merge(dataDogBreeds,dfdogMap, how='left', on='Breed')\n",
    "dataDogBreeds['WikiBreed'].fillna(dataDogBreeds.Breed, inplace=True)"
   ]
  },
  {
   "cell_type": "code",
   "execution_count": 9,
   "metadata": {
    "collapsed": false
   },
   "outputs": [
    {
     "name": "stdout",
     "output_type": "stream",
     "text": [
      "Count of Austin Data Dog Breeds: 197\n",
      "Count of Wiki Data Dog Breeds: 510\n"
     ]
    }
   ],
   "source": [
    "print 'Count of Austin Data Dog Breeds: %d' % dataDogBreeds['Breed'].count()\n",
    "print 'Count of Wiki Data Dog Breeds: %d' % wikiDogBreeds['WikiBreed'].count()"
   ]
  },
  {
   "cell_type": "code",
   "execution_count": 12,
   "metadata": {
    "collapsed": false
   },
   "outputs": [],
   "source": [
    "wikiBreeds = pd.merge(dataDogBreeds, wikiDogBreeds, how='left', on='WikiBreed')"
   ]
  },
  {
   "cell_type": "code",
   "execution_count": 17,
   "metadata": {
    "collapsed": false
   },
   "outputs": [
    {
     "data": {
      "text/plain": [
       "array([u'Working', u'Toy', u'Utility', u'Pastoral', u'Gundog', nan,\n",
       "       u'Gun dog', u'', u'Terrier', u'Hound', u'Terriers', u'Sporting Dog',\n",
       "       u'Toy Group'], dtype=object)"
      ]
     },
     "execution_count": 17,
     "metadata": {},
     "output_type": "execute_result"
    }
   ],
   "source": [
    "#wikiBreeds['American Kennel Club'].unique()\n",
    "wikiBreeds['The Kennel Club'].unique()"
   ]
  },
  {
   "cell_type": "code",
   "execution_count": 13,
   "metadata": {
    "collapsed": false
   },
   "outputs": [
    {
     "data": {
      "text/html": [
       "<div>\n",
       "<table border=\"1\" class=\"dataframe\">\n",
       "  <thead>\n",
       "    <tr style=\"text-align: right;\">\n",
       "      <th></th>\n",
       "      <th>AgeuponOutcome</th>\n",
       "      <th>AnimalID</th>\n",
       "      <th>AnimalType</th>\n",
       "      <th>Breed</th>\n",
       "      <th>Color</th>\n",
       "      <th>DateTime</th>\n",
       "      <th>ID</th>\n",
       "      <th>Name</th>\n",
       "      <th>OutcomeSubtype</th>\n",
       "      <th>OutcomeType</th>\n",
       "      <th>SexuponOutcome</th>\n",
       "      <th>fileName</th>\n",
       "      <th>unitOfTime</th>\n",
       "      <th>timeVal</th>\n",
       "      <th>daysMultiplier</th>\n",
       "      <th>ageInDays</th>\n",
       "      <th>ageGrp</th>\n",
       "      <th>Sex</th>\n",
       "      <th>Intactness</th>\n",
       "      <th>ColorMix</th>\n",
       "      <th>Breed0</th>\n",
       "    </tr>\n",
       "  </thead>\n",
       "  <tbody>\n",
       "    <tr>\n",
       "      <th>0</th>\n",
       "      <td>1 year</td>\n",
       "      <td>A671945</td>\n",
       "      <td>Dog</td>\n",
       "      <td>Shetland Sheepdog Mix</td>\n",
       "      <td>Brown/White</td>\n",
       "      <td>2014-02-12 18:22:00</td>\n",
       "      <td>NaN</td>\n",
       "      <td>Hambone</td>\n",
       "      <td>NaN</td>\n",
       "      <td>Return_to_owner</td>\n",
       "      <td>Neutered Male</td>\n",
       "      <td>train</td>\n",
       "      <td>year</td>\n",
       "      <td>1</td>\n",
       "      <td>365.0</td>\n",
       "      <td>365.0</td>\n",
       "      <td>Puppy/Kitten</td>\n",
       "      <td>Male</td>\n",
       "      <td>Neutered</td>\n",
       "      <td>mixedColor</td>\n",
       "      <td>Shetland Sheepdog</td>\n",
       "    </tr>\n",
       "    <tr>\n",
       "      <th>2</th>\n",
       "      <td>2 years</td>\n",
       "      <td>A686464</td>\n",
       "      <td>Dog</td>\n",
       "      <td>Pit Bull Mix</td>\n",
       "      <td>Blue/White</td>\n",
       "      <td>2015-01-31 12:28:00</td>\n",
       "      <td>NaN</td>\n",
       "      <td>Pearce</td>\n",
       "      <td>Foster</td>\n",
       "      <td>Adoption</td>\n",
       "      <td>Neutered Male</td>\n",
       "      <td>train</td>\n",
       "      <td>year</td>\n",
       "      <td>2</td>\n",
       "      <td>365.0</td>\n",
       "      <td>730.0</td>\n",
       "      <td>Adult</td>\n",
       "      <td>Male</td>\n",
       "      <td>Neutered</td>\n",
       "      <td>mixedColor</td>\n",
       "      <td>Pit Bull</td>\n",
       "    </tr>\n",
       "    <tr>\n",
       "      <th>4</th>\n",
       "      <td>2 years</td>\n",
       "      <td>A667013</td>\n",
       "      <td>Dog</td>\n",
       "      <td>Lhasa Apso/Miniature Poodle</td>\n",
       "      <td>Tan</td>\n",
       "      <td>2013-11-15 12:52:00</td>\n",
       "      <td>NaN</td>\n",
       "      <td>NaN</td>\n",
       "      <td>Partner</td>\n",
       "      <td>Transfer</td>\n",
       "      <td>Neutered Male</td>\n",
       "      <td>train</td>\n",
       "      <td>year</td>\n",
       "      <td>2</td>\n",
       "      <td>365.0</td>\n",
       "      <td>730.0</td>\n",
       "      <td>Adult</td>\n",
       "      <td>Male</td>\n",
       "      <td>Neutered</td>\n",
       "      <td>oneColor</td>\n",
       "      <td>Lhasa Apso</td>\n",
       "    </tr>\n",
       "    <tr>\n",
       "      <th>5</th>\n",
       "      <td>1 month</td>\n",
       "      <td>A677334</td>\n",
       "      <td>Dog</td>\n",
       "      <td>Cairn Terrier/Chihuahua Shorthair</td>\n",
       "      <td>Black/Tan</td>\n",
       "      <td>2014-04-25 13:04:00</td>\n",
       "      <td>NaN</td>\n",
       "      <td>Elsa</td>\n",
       "      <td>Partner</td>\n",
       "      <td>Transfer</td>\n",
       "      <td>Intact Female</td>\n",
       "      <td>train</td>\n",
       "      <td>month</td>\n",
       "      <td>1</td>\n",
       "      <td>30.0</td>\n",
       "      <td>30.0</td>\n",
       "      <td>Puppy/Kitten</td>\n",
       "      <td>Female</td>\n",
       "      <td>Intact</td>\n",
       "      <td>mixedColor</td>\n",
       "      <td>Cairn Terrier</td>\n",
       "    </tr>\n",
       "    <tr>\n",
       "      <th>8</th>\n",
       "      <td>5 months</td>\n",
       "      <td>A671784</td>\n",
       "      <td>Dog</td>\n",
       "      <td>American Pit Bull Terrier Mix</td>\n",
       "      <td>Red/White</td>\n",
       "      <td>2014-02-04 17:17:00</td>\n",
       "      <td>NaN</td>\n",
       "      <td>Lucy</td>\n",
       "      <td>NaN</td>\n",
       "      <td>Adoption</td>\n",
       "      <td>Spayed Female</td>\n",
       "      <td>train</td>\n",
       "      <td>month</td>\n",
       "      <td>5</td>\n",
       "      <td>30.0</td>\n",
       "      <td>150.0</td>\n",
       "      <td>Puppy/Kitten</td>\n",
       "      <td>Female</td>\n",
       "      <td>Neutered</td>\n",
       "      <td>mixedColor</td>\n",
       "      <td>American Pit Bull Terrier</td>\n",
       "    </tr>\n",
       "  </tbody>\n",
       "</table>\n",
       "</div>"
      ],
      "text/plain": [
       "  AgeuponOutcome AnimalID AnimalType                              Breed  \\\n",
       "0         1 year  A671945        Dog              Shetland Sheepdog Mix   \n",
       "2        2 years  A686464        Dog                       Pit Bull Mix   \n",
       "4        2 years  A667013        Dog        Lhasa Apso/Miniature Poodle   \n",
       "5        1 month  A677334        Dog  Cairn Terrier/Chihuahua Shorthair   \n",
       "8       5 months  A671784        Dog      American Pit Bull Terrier Mix   \n",
       "\n",
       "         Color             DateTime  ID     Name OutcomeSubtype  \\\n",
       "0  Brown/White  2014-02-12 18:22:00 NaN  Hambone            NaN   \n",
       "2   Blue/White  2015-01-31 12:28:00 NaN   Pearce         Foster   \n",
       "4          Tan  2013-11-15 12:52:00 NaN      NaN        Partner   \n",
       "5    Black/Tan  2014-04-25 13:04:00 NaN     Elsa        Partner   \n",
       "8    Red/White  2014-02-04 17:17:00 NaN     Lucy            NaN   \n",
       "\n",
       "       OutcomeType SexuponOutcome fileName unitOfTime timeVal  daysMultiplier  \\\n",
       "0  Return_to_owner  Neutered Male    train       year       1           365.0   \n",
       "2         Adoption  Neutered Male    train       year       2           365.0   \n",
       "4         Transfer  Neutered Male    train       year       2           365.0   \n",
       "5         Transfer  Intact Female    train      month       1            30.0   \n",
       "8         Adoption  Spayed Female    train      month       5            30.0   \n",
       "\n",
       "   ageInDays        ageGrp     Sex Intactness    ColorMix  \\\n",
       "0      365.0  Puppy/Kitten    Male   Neutered  mixedColor   \n",
       "2      730.0         Adult    Male   Neutered  mixedColor   \n",
       "4      730.0         Adult    Male   Neutered    oneColor   \n",
       "5       30.0  Puppy/Kitten  Female     Intact  mixedColor   \n",
       "8      150.0  Puppy/Kitten  Female   Neutered  mixedColor   \n",
       "\n",
       "                       Breed0  \n",
       "0          Shetland Sheepdog   \n",
       "2                   Pit Bull   \n",
       "4                  Lhasa Apso  \n",
       "5               Cairn Terrier  \n",
       "8  American Pit Bull Terrier   "
      ]
     },
     "execution_count": 13,
     "metadata": {},
     "output_type": "execute_result"
    }
   ],
   "source": [
    "dogs = full[full.AnimalType=='Dog'].copy()\n",
    "dogs['Breed0'] = dogs.Breed.apply(lambda x: x.split('/')[0].replace('Mix',''))\n",
    "dogs.head()\n",
    "\n"
   ]
  },
  {
   "cell_type": "code",
   "execution_count": 7,
   "metadata": {
    "collapsed": false
   },
   "outputs": [
    {
     "name": "stdout",
     "output_type": "stream",
     "text": [
      "OutcomeType  Adoption  Died  Euthanasia  Return_to_owner  Transfer\n",
      "AnimalType                                                        \n",
      "Cat              4272   147         710              500      5505\n",
      "Dog              6497    50         845             4286      3917\n"
     ]
    },
    {
     "data": {
      "text/plain": [
       "<matplotlib.legend.Legend at 0x7ff2673b5e90>"
      ]
     },
     "execution_count": 7,
     "metadata": {},
     "output_type": "execute_result"
    },
    {
     "data": {
      "image/png": "[encoded data removed]",
      "text/plain": [
       "<matplotlib.figure.Figure at 0x7ff266b815d0>"
      ]
     },
     "metadata": {},
     "output_type": "display_data"
    }
   ],
   "source": [
    "outcomes = train.groupby(['AnimalType', 'OutcomeType'])\\\n",
    "            ['AnimalID'].count().unstack()\n",
    "\n",
    "print outcomes    \n",
    "outcomes_plot = outcomes.plot.barh(stacked=True)\n",
    "outcomes_plot.legend(loc=(1.01,.555), ncol=1)\n"
   ]
  },
  {
   "cell_type": "code",
   "execution_count": 8,
   "metadata": {
    "collapsed": false
   },
   "outputs": [
    {
     "data": {
      "text/plain": [
       "array(['1', '2', '3', '5', '4', '10', '6', '7', '12', '9', '11', '8', '15',\n",
       "       '0', '14', '16', '13', 'nan', '17', '18', '19', '20'], dtype=object)"
      ]
     },
     "execution_count": 8,
     "metadata": {},
     "output_type": "execute_result"
    }
   ],
   "source": [
    "full.timeVal.unique()"
   ]
  },
  {
   "cell_type": "code",
   "execution_count": 9,
   "metadata": {
    "collapsed": false
   },
   "outputs": [
    {
     "data": {
      "text/plain": [
       "array(['year', 'week', 'month', 'day', 'nan'], dtype=object)"
      ]
     },
     "execution_count": 9,
     "metadata": {},
     "output_type": "execute_result"
    }
   ],
   "source": [
    "full['unitOfTime'].unique()"
   ]
  },
  {
   "cell_type": "code",
   "execution_count": 10,
   "metadata": {
    "collapsed": false
   },
   "outputs": [
    {
     "data": {
      "text/plain": [
       "array(['1', '2', '3', '5', '4', '10', '6', '7', '12', '9', '11', '8', '15',\n",
       "       '0', '14', '16', '13', 'nan', '17', '18', '19', '20'], dtype=object)"
      ]
     },
     "execution_count": 10,
     "metadata": {},
     "output_type": "execute_result"
    }
   ],
   "source": [
    "full['timeVal'].unique()"
   ]
  },
  {
   "cell_type": "code",
   "execution_count": null,
   "metadata": {
    "collapsed": true
   },
   "outputs": [],
   "source": []
  },
  {
   "cell_type": "code",
   "execution_count": 13,
   "metadata": {
    "collapsed": false
   },
   "outputs": [
    {
     "data": {
      "text/html": [
       "\n",
       "    <div class=\"bk-banner\">\n",
       "        <a href=\"http://bokeh.pydata.org\" target=\"_blank\" class=\"bk-logo bk-logo-small bk-logo-notebook\"></a>\n",
       "        <span id=\"68087f52-faee-4e4d-a66d-4b389f3a1526\">Loading BokehJS ...</span>\n",
       "    </div>"
      ]
     },
     "metadata": {},
     "output_type": "display_data"
    },
    {
     "data": {
      "application/javascript": [
       "\n",
       "(function(global) {\n",
       "  function now() {\n",
       "    return new Date();\n",
       "  }\n",
       "\n",
       "  if (typeof (window._bokeh_onload_callbacks) === \"undefined\") {\n",
       "    window._bokeh_onload_callbacks = [];\n",
       "  }\n",
       "\n",
       "  function run_callbacks() {\n",
       "    window._bokeh_onload_callbacks.forEach(function(callback) { callback() });\n",
       "    delete window._bokeh_onload_callbacks\n",
       "    console.info(\"Bokeh: all callbacks have finished\");\n",
       "  }\n",
       "\n",
       "  function load_libs(js_urls, callback) {\n",
       "    window._bokeh_onload_callbacks.push(callback);\n",
       "    if (window._bokeh_is_loading > 0) {\n",
       "      console.log(\"Bokeh: BokehJS is being loaded, scheduling callback at\", now());\n",
       "      return null;\n",
       "    }\n",
       "    if (js_urls == null || js_urls.length === 0) {\n",
       "      run_callbacks();\n",
       "      return null;\n",
       "    }\n",
       "    console.log(\"Bokeh: BokehJS not loaded, scheduling load and callback at\", now());\n",
       "    window._bokeh_is_loading = js_urls.length;\n",
       "    for (var i = 0; i < js_urls.length; i++) {\n",
       "      var url = js_urls[i];\n",
       "      var s = document.createElement('script');\n",
       "      s.src = url;\n",
       "      s.async = false;\n",
       "      s.onreadystatechange = s.onload = function() {\n",
       "        window._bokeh_is_loading--;\n",
       "        if (window._bokeh_is_loading === 0) {\n",
       "          console.log(\"Bokeh: all BokehJS libraries loaded\");\n",
       "          run_callbacks()\n",
       "        }\n",
       "      };\n",
       "      s.onerror = function() {\n",
       "        console.warn(\"failed to load library \" + url);\n",
       "      };\n",
       "      console.log(\"Bokeh: injecting script tag for BokehJS library: \", url);\n",
       "      document.getElementsByTagName(\"head\")[0].appendChild(s);\n",
       "    }\n",
       "  };\n",
       "\n",
       "  var js_urls = ['https://cdn.pydata.org/bokeh/release/bokeh-0.11.1.min.js', 'https://cdn.pydata.org/bokeh/release/bokeh-widgets-0.11.1.min.js', 'https://cdn.pydata.org/bokeh/release/bokeh-compiler-0.11.1.min.js'];\n",
       "\n",
       "  var inline_js = [\n",
       "    function(Bokeh) {\n",
       "      Bokeh.set_log_level(\"info\");\n",
       "    },\n",
       "    \n",
       "    function(Bokeh) {\n",
       "      Bokeh.$(\"#68087f52-faee-4e4d-a66d-4b389f3a1526\").text(\"BokehJS successfully loaded\");\n",
       "    },\n",
       "    function(Bokeh) {\n",
       "      console.log(\"Bokeh: injecting CSS: https://cdn.pydata.org/bokeh/release/bokeh-0.11.1.min.css\");\n",
       "      Bokeh.embed.inject_css(\"https://cdn.pydata.org/bokeh/release/bokeh-0.11.1.min.css\");\n",
       "      console.log(\"Bokeh: injecting CSS: https://cdn.pydata.org/bokeh/release/bokeh-widgets-0.11.1.min.css\");\n",
       "      Bokeh.embed.inject_css(\"https://cdn.pydata.org/bokeh/release/bokeh-widgets-0.11.1.min.css\");\n",
       "    }\n",
       "  ];\n",
       "\n",
       "  function run_inline_js() {\n",
       "    for (var i = 0; i < inline_js.length; i++) {\n",
       "      inline_js[i](window.Bokeh);\n",
       "    }\n",
       "  }\n",
       "\n",
       "  if (window._bokeh_is_loading === 0) {\n",
       "    console.log(\"Bokeh: BokehJS loaded, going straight to plotting\");\n",
       "    run_inline_js();\n",
       "  } else {\n",
       "    load_libs(js_urls, function() {\n",
       "      console.log(\"Bokeh: BokehJS plotting callback run at\", now());\n",
       "      run_inline_js();\n",
       "    });\n",
       "  }\n",
       "}(this));"
      ]
     },
     "metadata": {},
     "output_type": "display_data"
    }
   ],
   "source": [
    "from bokeh.charts import Bar, TimeSeries, output_file, show, output_notebook\n",
    "from bokeh.models import HoverTool, ColumnDataSource\n",
    "output_notebook()"
   ]
  },
  {
   "cell_type": "code",
   "execution_count": 14,
   "metadata": {
    "collapsed": false
   },
   "outputs": [
    {
     "data": {
      "text/html": [
       "\n",
       "\n",
       "    <div class=\"plotdiv\" id=\"9ed669d4-438f-40f8-8d67-e0101eba1678\"></div>\n",
       "<script type=\"text/javascript\">\n",
       "  \n",
       "  (function(global) {\n",
       "    function now() {\n",
       "      return new Date();\n",
       "    }\n",
       "  \n",
       "    if (typeof (window._bokeh_onload_callbacks) === \"undefined\") {\n",
       "      window._bokeh_onload_callbacks = [];\n",
       "    }\n",
       "  \n",
       "    function run_callbacks() {\n",
       "      window._bokeh_onload_callbacks.forEach(function(callback) { callback() });\n",
       "      delete window._bokeh_onload_callbacks\n",
       "      console.info(\"Bokeh: all callbacks have finished\");\n",
       "    }\n",
       "  \n",
       "    function load_libs(js_urls, callback) {\n",
       "      window._bokeh_onload_callbacks.push(callback);\n",
       "      if (window._bokeh_is_loading > 0) {\n",
       "        console.log(\"Bokeh: BokehJS is being loaded, scheduling callback at\", now());\n",
       "        return null;\n",
       "      }\n",
       "      if (js_urls == null || js_urls.length === 0) {\n",
       "        run_callbacks();\n",
       "        return null;\n",
       "      }\n",
       "      console.log(\"Bokeh: BokehJS not loaded, scheduling load and callback at\", now());\n",
       "      window._bokeh_is_loading = js_urls.length;\n",
       "      for (var i = 0; i < js_urls.length; i++) {\n",
       "        var url = js_urls[i];\n",
       "        var s = document.createElement('script');\n",
       "        s.src = url;\n",
       "        s.async = false;\n",
       "        s.onreadystatechange = s.onload = function() {\n",
       "          window._bokeh_is_loading--;\n",
       "          if (window._bokeh_is_loading === 0) {\n",
       "            console.log(\"Bokeh: all BokehJS libraries loaded\");\n",
       "            run_callbacks()\n",
       "          }\n",
       "        };\n",
       "        s.onerror = function() {\n",
       "          console.warn(\"failed to load library \" + url);\n",
       "        };\n",
       "        console.log(\"Bokeh: injecting script tag for BokehJS library: \", url);\n",
       "        document.getElementsByTagName(\"head\")[0].appendChild(s);\n",
       "      }\n",
       "    };var element = document.getElementById(\"9ed669d4-438f-40f8-8d67-e0101eba1678\");\n",
       "    if (element == null) {\n",
       "      console.log(\"Bokeh: ERROR: autoload.js configured with elementid '9ed669d4-438f-40f8-8d67-e0101eba1678' but no matching script tag was found. \")\n",
       "      return false;\n",
       "    }\n",
       "  \n",
       "    var js_urls = [];\n",
       "  \n",
       "    var inline_js = [\n",
       "      function(Bokeh) {\n",
       "        Bokeh.$(function() {\n",
       "            var docs_json = {\"e17e5373-cd2d-450c-bd6f-a17389e1ae88\":{\"roots\":{\"references\":[{\"attributes\":{},\"id\":\"5bd41fc3-95ec-46c9-97b8-83620bb9f9c1\",\"type\":\"CategoricalTickFormatter\"},{\"attributes\":{\"data_source\":{\"id\":\"a86d1f2a-762e-4aa6-b444-5b58b936e87e\",\"type\":\"ColumnDataSource\"},\"glyph\":{\"id\":\"36b94939-f75e-4dd5-ba12-2ee7c158a5e9\",\"type\":\"Rect\"},\"hover_glyph\":null,\"nonselection_glyph\":null,\"selection_glyph\":null},\"id\":\"70a901e6-50c5-4325-87db-ef2d60d85ed4\",\"type\":\"GlyphRenderer\"},{\"attributes\":{},\"id\":\"540682ca-5f4f-45dc-bb2b-d8edda164ef3\",\"type\":\"ToolEvents\"},{\"attributes\":{\"fill_alpha\":{\"field\":\"fill_alpha\"},\"fill_color\":{\"field\":\"color\"},\"height\":{\"field\":\"height\",\"units\":\"data\"},\"line_color\":{\"field\":\"line_color\"},\"width\":{\"field\":\"width\",\"units\":\"data\"},\"x\":{\"field\":\"x\"},\"y\":{\"field\":\"y\"}},\"id\":\"c4874015-fdd9-4af5-a2be-bc96157eb840\",\"type\":\"Rect\"},{\"attributes\":{\"callback\":null,\"column_names\":[\"line_color\",\"line_alpha\",\"color\",\"fill_alpha\",\"height\",\"width\",\"y\",\"x\"],\"data\":{\"AnimalType\":[\"Dog\"],\"OutcomeType\":[\"Transfer\"],\"chart_index\":[{\"AnimalType\":\"Dog\",\"OutcomeType\":\"Transfer\"}],\"color\":[\"#00ad9c\"],\"fill_alpha\":[0.8],\"height\":[3917.0],\"line_alpha\":[1.0],\"line_color\":[\"white\"],\"width\":[0.8],\"x\":[\"Dog\"],\"y\":[13636.5]}},\"id\":\"d79cbdfe-07a5-48f8-a1e4-ccabce6100f3\",\"type\":\"ColumnDataSource\"},{\"attributes\":{\"fill_alpha\":{\"field\":\"fill_alpha\"},\"fill_color\":{\"field\":\"color\"},\"height\":{\"field\":\"height\",\"units\":\"data\"},\"line_color\":{\"field\":\"line_color\"},\"width\":{\"field\":\"width\",\"units\":\"data\"},\"x\":{\"field\":\"x\"},\"y\":{\"field\":\"y\"}},\"id\":\"5413a076-2b2b-4169-8906-3d0f43a8c203\",\"type\":\"Rect\"},{\"attributes\":{\"fill_alpha\":{\"field\":\"fill_alpha\"},\"fill_color\":{\"field\":\"color\"},\"height\":{\"field\":\"height\",\"units\":\"data\"},\"line_color\":{\"field\":\"line_color\"},\"width\":{\"field\":\"width\",\"units\":\"data\"},\"x\":{\"field\":\"x\"},\"y\":{\"field\":\"y\"}},\"id\":\"6593acca-aaa6-46f4-960b-d92ded36ac24\",\"type\":\"Rect\"},{\"attributes\":{\"data_source\":{\"id\":\"b755290d-08a9-4de5-b93a-4335e0c0e974\",\"type\":\"ColumnDataSource\"},\"glyph\":{\"id\":\"98f53486-ec81-4f77-8543-d3ccabc09ce3\",\"type\":\"Rect\"},\"hover_glyph\":null,\"nonselection_glyph\":null,\"selection_glyph\":null},\"id\":\"2a38f831-cb73-42af-9192-699abae2e43f\",\"type\":\"GlyphRenderer\"},{\"attributes\":{\"data_source\":{\"id\":\"d79cbdfe-07a5-48f8-a1e4-ccabce6100f3\",\"type\":\"ColumnDataSource\"},\"glyph\":{\"id\":\"5413a076-2b2b-4169-8906-3d0f43a8c203\",\"type\":\"Rect\"},\"hover_glyph\":null,\"nonselection_glyph\":null,\"selection_glyph\":null},\"id\":\"f8c7abdc-a333-46ec-ad5c-1ccc8e5d3729\",\"type\":\"GlyphRenderer\"},{\"attributes\":{\"axis_label\":\"Sum( Num_Animals )\",\"formatter\":{\"id\":\"8f435766-ad2f-4dd0-a69b-7c537b49bf68\",\"type\":\"BasicTickFormatter\"},\"plot\":{\"id\":\"8c49b294-acfe-41e5-bd80-616d1ded2a19\",\"subtype\":\"Chart\",\"type\":\"Plot\"},\"ticker\":{\"id\":\"90437f5b-7b27-430d-a44b-8176b4c6e539\",\"type\":\"BasicTicker\"}},\"id\":\"80e71b8f-4d81-4833-aa8a-7effd92c455a\",\"type\":\"LinearAxis\"},{\"attributes\":{\"callback\":null,\"column_names\":[\"line_color\",\"line_alpha\",\"color\",\"fill_alpha\",\"height\",\"width\",\"y\",\"x\"],\"data\":{\"AnimalType\":[\"Cat\"],\"OutcomeType\":[\"Transfer\"],\"chart_index\":[{\"AnimalType\":\"Cat\",\"OutcomeType\":\"Transfer\"}],\"color\":[\"#00ad9c\"],\"fill_alpha\":[0.8],\"height\":[5505.0],\"line_alpha\":[1.0],\"line_color\":[\"white\"],\"width\":[0.8],\"x\":[\"Cat\"],\"y\":[8381.5]}},\"id\":\"1dc8515c-3c82-4462-85c7-cdfb5a9e79ab\",\"type\":\"ColumnDataSource\"},{\"attributes\":{\"data_source\":{\"id\":\"01bf2a7d-3daf-486d-8ce2-3709f436c518\",\"type\":\"ColumnDataSource\"},\"glyph\":{\"id\":\"bca8e0b3-6fc0-4405-8e63-577ed4df5f1e\",\"type\":\"Rect\"},\"hover_glyph\":null,\"nonselection_glyph\":null,\"selection_glyph\":null},\"id\":\"c37bbec8-4eb9-49a0-b428-7f59fa8e8f49\",\"type\":\"GlyphRenderer\"},{\"attributes\":{\"callback\":null,\"column_names\":[\"line_color\",\"line_alpha\",\"color\",\"fill_alpha\",\"height\",\"width\",\"y\",\"x\"],\"data\":{\"AnimalType\":[\"Cat\"],\"OutcomeType\":[\"Adoption\"],\"chart_index\":[{\"AnimalType\":\"Cat\",\"OutcomeType\":\"Adoption\"}],\"color\":[\"#f22c40\"],\"fill_alpha\":[0.8],\"height\":[4272.0],\"line_alpha\":[1.0],\"line_color\":[\"white\"],\"width\":[0.8],\"x\":[\"Cat\"],\"y\":[2136.0]}},\"id\":\"fa0b19f0-fecf-4777-89a7-35149318a683\",\"type\":\"ColumnDataSource\"},{\"attributes\":{\"callback\":null,\"column_names\":[\"line_color\",\"line_alpha\",\"color\",\"fill_alpha\",\"height\",\"width\",\"y\",\"x\"],\"data\":{\"AnimalType\":[\"Cat\"],\"OutcomeType\":[\"Euthanasia\"],\"chart_index\":[{\"AnimalType\":\"Cat\",\"OutcomeType\":\"Euthanasia\"}],\"color\":[\"#407ee7\"],\"fill_alpha\":[0.8],\"height\":[710.0],\"line_alpha\":[1.0],\"line_color\":[\"white\"],\"width\":[0.8],\"x\":[\"Cat\"],\"y\":[4774.0]}},\"id\":\"b755290d-08a9-4de5-b93a-4335e0c0e974\",\"type\":\"ColumnDataSource\"},{\"attributes\":{\"callback\":null,\"plot\":{\"id\":\"8c49b294-acfe-41e5-bd80-616d1ded2a19\",\"subtype\":\"Chart\",\"type\":\"Plot\"},\"tooltips\":[[\"Animal\",\"$x\"],[\"Outcome\",\"@OutcomeType\"],[\"Number\",\"@height{int}\"]]},\"id\":\"e24c7e45-55b6-454c-b6bb-3c8f2a6af368\",\"type\":\"HoverTool\"},{\"attributes\":{\"data_source\":{\"id\":\"fa0b19f0-fecf-4777-89a7-35149318a683\",\"type\":\"ColumnDataSource\"},\"glyph\":{\"id\":\"6593acca-aaa6-46f4-960b-d92ded36ac24\",\"type\":\"Rect\"},\"hover_glyph\":null,\"nonselection_glyph\":null,\"selection_glyph\":null},\"id\":\"34fb8cdc-8be5-4717-824a-911256918c49\",\"type\":\"GlyphRenderer\"},{\"attributes\":{\"fill_alpha\":{\"field\":\"fill_alpha\"},\"fill_color\":{\"field\":\"color\"},\"height\":{\"field\":\"height\",\"units\":\"data\"},\"line_color\":{\"field\":\"line_color\"},\"width\":{\"field\":\"width\",\"units\":\"data\"},\"x\":{\"field\":\"x\"},\"y\":{\"field\":\"y\"}},\"id\":\"b5cd189d-beee-44c6-9b16-368b11a5d936\",\"type\":\"Rect\"},{\"attributes\":{\"callback\":null,\"column_names\":[\"line_color\",\"line_alpha\",\"color\",\"fill_alpha\",\"height\",\"width\",\"y\",\"x\"],\"data\":{\"AnimalType\":[\"Cat\"],\"OutcomeType\":[\"Return_to_owner\"],\"chart_index\":[{\"AnimalType\":\"Cat\",\"OutcomeType\":\"Return_to_owner\"}],\"color\":[\"#df5320\"],\"fill_alpha\":[0.8],\"height\":[500.0],\"line_alpha\":[1.0],\"line_color\":[\"white\"],\"width\":[0.8],\"x\":[\"Cat\"],\"y\":[5379.0]}},\"id\":\"65b23925-a6cd-41b2-ab47-51882666f594\",\"type\":\"ColumnDataSource\"},{\"attributes\":{},\"id\":\"90437f5b-7b27-430d-a44b-8176b4c6e539\",\"type\":\"BasicTicker\"},{\"attributes\":{\"fill_alpha\":{\"field\":\"fill_alpha\"},\"fill_color\":{\"field\":\"color\"},\"height\":{\"field\":\"height\",\"units\":\"data\"},\"line_color\":{\"field\":\"line_color\"},\"width\":{\"field\":\"width\",\"units\":\"data\"},\"x\":{\"field\":\"x\"},\"y\":{\"field\":\"y\"}},\"id\":\"98f53486-ec81-4f77-8543-d3ccabc09ce3\",\"type\":\"Rect\"},{\"attributes\":{},\"id\":\"8f435766-ad2f-4dd0-a69b-7c537b49bf68\",\"type\":\"BasicTickFormatter\"},{\"attributes\":{\"fill_alpha\":{\"field\":\"fill_alpha\"},\"fill_color\":{\"field\":\"color\"},\"height\":{\"field\":\"height\",\"units\":\"data\"},\"line_color\":{\"field\":\"line_color\"},\"width\":{\"field\":\"width\",\"units\":\"data\"},\"x\":{\"field\":\"x\"},\"y\":{\"field\":\"y\"}},\"id\":\"36b94939-f75e-4dd5-ba12-2ee7c158a5e9\",\"type\":\"Rect\"},{\"attributes\":{\"dimension\":1,\"plot\":{\"id\":\"8c49b294-acfe-41e5-bd80-616d1ded2a19\",\"subtype\":\"Chart\",\"type\":\"Plot\"},\"ticker\":{\"id\":\"90437f5b-7b27-430d-a44b-8176b4c6e539\",\"type\":\"BasicTicker\"}},\"id\":\"9efaa4ec-f669-4acf-b176-37a61c1777bf\",\"type\":\"Grid\"},{\"attributes\":{\"fill_alpha\":{\"field\":\"fill_alpha\"},\"fill_color\":{\"field\":\"color\"},\"height\":{\"field\":\"height\",\"units\":\"data\"},\"line_color\":{\"field\":\"line_color\"},\"width\":{\"field\":\"width\",\"units\":\"data\"},\"x\":{\"field\":\"x\"},\"y\":{\"field\":\"y\"}},\"id\":\"bca8e0b3-6fc0-4405-8e63-577ed4df5f1e\",\"type\":\"Rect\"},{\"attributes\":{\"callback\":null,\"column_names\":[\"line_color\",\"line_alpha\",\"color\",\"fill_alpha\",\"height\",\"width\",\"y\",\"x\"],\"data\":{\"AnimalType\":[\"Dog\"],\"OutcomeType\":[\"Return_to_owner\"],\"chart_index\":[{\"AnimalType\":\"Dog\",\"OutcomeType\":\"Return_to_owner\"}],\"color\":[\"#df5320\"],\"fill_alpha\":[0.8],\"height\":[4286.0],\"line_alpha\":[1.0],\"line_color\":[\"white\"],\"width\":[0.8],\"x\":[\"Dog\"],\"y\":[9535.0]}},\"id\":\"c2f2e822-85d0-46e7-b781-0f3b5559827b\",\"type\":\"ColumnDataSource\"},{\"attributes\":{\"callback\":null,\"end\":16374.75},\"id\":\"69650ecd-bac7-40d7-866a-5e29eba92560\",\"type\":\"Range1d\"},{\"attributes\":{\"data_source\":{\"id\":\"65b23925-a6cd-41b2-ab47-51882666f594\",\"type\":\"ColumnDataSource\"},\"glyph\":{\"id\":\"efc7de2c-1424-49f4-8217-3820a32f4f25\",\"type\":\"Rect\"},\"hover_glyph\":null,\"nonselection_glyph\":null,\"selection_glyph\":null},\"id\":\"d9b5d3d1-616b-4d11-988e-4c5cb8fa631b\",\"type\":\"GlyphRenderer\"},{\"attributes\":{\"data_source\":{\"id\":\"1dc8515c-3c82-4462-85c7-cdfb5a9e79ab\",\"type\":\"ColumnDataSource\"},\"glyph\":{\"id\":\"b5cd189d-beee-44c6-9b16-368b11a5d936\",\"type\":\"Rect\"},\"hover_glyph\":null,\"nonselection_glyph\":null,\"selection_glyph\":null},\"id\":\"4e8ee730-5611-4a51-b83c-b26ef0c2714a\",\"type\":\"GlyphRenderer\"},{\"attributes\":{\"callback\":null,\"factors\":[\"Cat\",\"Dog\"]},\"id\":\"1b1de7b2-e9b2-484c-83c3-fefe3cd686ab\",\"type\":\"FactorRange\"},{\"attributes\":{\"below\":[{\"id\":\"d749e6ca-66d4-4dbd-9e25-c433eb3654f2\",\"type\":\"CategoricalAxis\"}],\"left\":[{\"id\":\"80e71b8f-4d81-4833-aa8a-7effd92c455a\",\"type\":\"LinearAxis\"}],\"legend\":\"top_left\",\"renderers\":[{\"id\":\"34fb8cdc-8be5-4717-824a-911256918c49\",\"type\":\"GlyphRenderer\"},{\"id\":\"c37bbec8-4eb9-49a0-b428-7f59fa8e8f49\",\"type\":\"GlyphRenderer\"},{\"id\":\"2a38f831-cb73-42af-9192-699abae2e43f\",\"type\":\"GlyphRenderer\"},{\"id\":\"d9b5d3d1-616b-4d11-988e-4c5cb8fa631b\",\"type\":\"GlyphRenderer\"},{\"id\":\"4e8ee730-5611-4a51-b83c-b26ef0c2714a\",\"type\":\"GlyphRenderer\"},{\"id\":\"05a41ccc-b229-4de5-aa7a-854971964502\",\"type\":\"GlyphRenderer\"},{\"id\":\"70a901e6-50c5-4325-87db-ef2d60d85ed4\",\"type\":\"GlyphRenderer\"},{\"id\":\"2c3f4c9f-e898-4b14-9433-2ed767480e8e\",\"type\":\"GlyphRenderer\"},{\"id\":\"1e570d95-8a54-439b-9dde-6f90fd837686\",\"type\":\"GlyphRenderer\"},{\"id\":\"f8c7abdc-a333-46ec-ad5c-1ccc8e5d3729\",\"type\":\"GlyphRenderer\"},{\"id\":\"df2ca1a3-0279-4a01-ab90-441e836768d9\",\"type\":\"Legend\"},{\"id\":\"d749e6ca-66d4-4dbd-9e25-c433eb3654f2\",\"type\":\"CategoricalAxis\"},{\"id\":\"80e71b8f-4d81-4833-aa8a-7effd92c455a\",\"type\":\"LinearAxis\"},{\"id\":\"9efaa4ec-f669-4acf-b176-37a61c1777bf\",\"type\":\"Grid\"}],\"title_text_font_size\":{\"value\":\"14pt\"},\"tool_events\":{\"id\":\"540682ca-5f4f-45dc-bb2b-d8edda164ef3\",\"type\":\"ToolEvents\"},\"tools\":[{\"id\":\"e24c7e45-55b6-454c-b6bb-3c8f2a6af368\",\"type\":\"HoverTool\"}],\"x_mapper_type\":\"auto\",\"x_range\":{\"id\":\"1b1de7b2-e9b2-484c-83c3-fefe3cd686ab\",\"type\":\"FactorRange\"},\"xgrid\":false,\"xscale\":\"auto\",\"y_mapper_type\":\"auto\",\"y_range\":{\"id\":\"69650ecd-bac7-40d7-866a-5e29eba92560\",\"type\":\"Range1d\"},\"yscale\":\"auto\"},\"id\":\"8c49b294-acfe-41e5-bd80-616d1ded2a19\",\"subtype\":\"Chart\",\"type\":\"Plot\"},{\"attributes\":{\"data_source\":{\"id\":\"c2f2e822-85d0-46e7-b781-0f3b5559827b\",\"type\":\"ColumnDataSource\"},\"glyph\":{\"id\":\"4f7a6dad-077f-40f3-80f8-e3cdd1b08267\",\"type\":\"Rect\"},\"hover_glyph\":null,\"nonselection_glyph\":null,\"selection_glyph\":null},\"id\":\"1e570d95-8a54-439b-9dde-6f90fd837686\",\"type\":\"GlyphRenderer\"},{\"attributes\":{\"callback\":null,\"column_names\":[\"line_color\",\"line_alpha\",\"color\",\"fill_alpha\",\"height\",\"width\",\"y\",\"x\"],\"data\":{\"AnimalType\":[\"Dog\"],\"OutcomeType\":[\"Adoption\"],\"chart_index\":[{\"AnimalType\":\"Dog\",\"OutcomeType\":\"Adoption\"}],\"color\":[\"#f22c40\"],\"fill_alpha\":[0.8],\"height\":[6497.0],\"line_alpha\":[1.0],\"line_color\":[\"white\"],\"width\":[0.8],\"x\":[\"Dog\"],\"y\":[3248.5]}},\"id\":\"8bc2f7dd-4189-46f2-9434-e2503ef37092\",\"type\":\"ColumnDataSource\"},{\"attributes\":{\"legends\":[[\"Adoption\",[{\"id\":\"34fb8cdc-8be5-4717-824a-911256918c49\",\"type\":\"GlyphRenderer\"}]],[\"Died\",[{\"id\":\"c37bbec8-4eb9-49a0-b428-7f59fa8e8f49\",\"type\":\"GlyphRenderer\"}]],[\"Euthanasia\",[{\"id\":\"2a38f831-cb73-42af-9192-699abae2e43f\",\"type\":\"GlyphRenderer\"}]],[\"Return_to_owner\",[{\"id\":\"d9b5d3d1-616b-4d11-988e-4c5cb8fa631b\",\"type\":\"GlyphRenderer\"}]],[\"Transfer\",[{\"id\":\"4e8ee730-5611-4a51-b83c-b26ef0c2714a\",\"type\":\"GlyphRenderer\"}]]],\"location\":\"top_left\",\"plot\":{\"id\":\"8c49b294-acfe-41e5-bd80-616d1ded2a19\",\"subtype\":\"Chart\",\"type\":\"Plot\"}},\"id\":\"df2ca1a3-0279-4a01-ab90-441e836768d9\",\"type\":\"Legend\"},{\"attributes\":{},\"id\":\"e06e9327-bdce-4d23-a7bc-a4673c5289c5\",\"type\":\"CategoricalTicker\"},{\"attributes\":{\"data_source\":{\"id\":\"8bc2f7dd-4189-46f2-9434-e2503ef37092\",\"type\":\"ColumnDataSource\"},\"glyph\":{\"id\":\"c4874015-fdd9-4af5-a2be-bc96157eb840\",\"type\":\"Rect\"},\"hover_glyph\":null,\"nonselection_glyph\":null,\"selection_glyph\":null},\"id\":\"05a41ccc-b229-4de5-aa7a-854971964502\",\"type\":\"GlyphRenderer\"},{\"attributes\":{\"axis_label\":\"Animaltype\",\"formatter\":{\"id\":\"5bd41fc3-95ec-46c9-97b8-83620bb9f9c1\",\"type\":\"CategoricalTickFormatter\"},\"major_label_orientation\":0.7853981633974483,\"plot\":{\"id\":\"8c49b294-acfe-41e5-bd80-616d1ded2a19\",\"subtype\":\"Chart\",\"type\":\"Plot\"},\"ticker\":{\"id\":\"e06e9327-bdce-4d23-a7bc-a4673c5289c5\",\"type\":\"CategoricalTicker\"}},\"id\":\"d749e6ca-66d4-4dbd-9e25-c433eb3654f2\",\"type\":\"CategoricalAxis\"},{\"attributes\":{\"data_source\":{\"id\":\"0c29774e-1fda-44b1-ad72-403d43dc46c0\",\"type\":\"ColumnDataSource\"},\"glyph\":{\"id\":\"adcae37d-9b97-40c9-8597-a986f809323f\",\"type\":\"Rect\"},\"hover_glyph\":null,\"nonselection_glyph\":null,\"selection_glyph\":null},\"id\":\"2c3f4c9f-e898-4b14-9433-2ed767480e8e\",\"type\":\"GlyphRenderer\"},{\"attributes\":{\"callback\":null,\"column_names\":[\"line_color\",\"line_alpha\",\"color\",\"fill_alpha\",\"height\",\"width\",\"y\",\"x\"],\"data\":{\"AnimalType\":[\"Dog\"],\"OutcomeType\":[\"Died\"],\"chart_index\":[{\"AnimalType\":\"Dog\",\"OutcomeType\":\"Died\"}],\"color\":[\"#5ab738\"],\"fill_alpha\":[0.8],\"height\":[50.0],\"line_alpha\":[1.0],\"line_color\":[\"white\"],\"width\":[0.8],\"x\":[\"Dog\"],\"y\":[6522.0]}},\"id\":\"a86d1f2a-762e-4aa6-b444-5b58b936e87e\",\"type\":\"ColumnDataSource\"},{\"attributes\":{\"fill_alpha\":{\"field\":\"fill_alpha\"},\"fill_color\":{\"field\":\"color\"},\"height\":{\"field\":\"height\",\"units\":\"data\"},\"line_color\":{\"field\":\"line_color\"},\"width\":{\"field\":\"width\",\"units\":\"data\"},\"x\":{\"field\":\"x\"},\"y\":{\"field\":\"y\"}},\"id\":\"4f7a6dad-077f-40f3-80f8-e3cdd1b08267\",\"type\":\"Rect\"},{\"attributes\":{\"fill_alpha\":{\"field\":\"fill_alpha\"},\"fill_color\":{\"field\":\"color\"},\"height\":{\"field\":\"height\",\"units\":\"data\"},\"line_color\":{\"field\":\"line_color\"},\"width\":{\"field\":\"width\",\"units\":\"data\"},\"x\":{\"field\":\"x\"},\"y\":{\"field\":\"y\"}},\"id\":\"adcae37d-9b97-40c9-8597-a986f809323f\",\"type\":\"Rect\"},{\"attributes\":{\"callback\":null,\"column_names\":[\"line_color\",\"line_alpha\",\"color\",\"fill_alpha\",\"height\",\"width\",\"y\",\"x\"],\"data\":{\"AnimalType\":[\"Cat\"],\"OutcomeType\":[\"Died\"],\"chart_index\":[{\"AnimalType\":\"Cat\",\"OutcomeType\":\"Died\"}],\"color\":[\"#5ab738\"],\"fill_alpha\":[0.8],\"height\":[147.0],\"line_alpha\":[1.0],\"line_color\":[\"white\"],\"width\":[0.8],\"x\":[\"Cat\"],\"y\":[4345.5]}},\"id\":\"01bf2a7d-3daf-486d-8ce2-3709f436c518\",\"type\":\"ColumnDataSource\"},{\"attributes\":{\"fill_alpha\":{\"field\":\"fill_alpha\"},\"fill_color\":{\"field\":\"color\"},\"height\":{\"field\":\"height\",\"units\":\"data\"},\"line_color\":{\"field\":\"line_color\"},\"width\":{\"field\":\"width\",\"units\":\"data\"},\"x\":{\"field\":\"x\"},\"y\":{\"field\":\"y\"}},\"id\":\"efc7de2c-1424-49f4-8217-3820a32f4f25\",\"type\":\"Rect\"},{\"attributes\":{\"callback\":null,\"column_names\":[\"line_color\",\"line_alpha\",\"color\",\"fill_alpha\",\"height\",\"width\",\"y\",\"x\"],\"data\":{\"AnimalType\":[\"Dog\"],\"OutcomeType\":[\"Euthanasia\"],\"chart_index\":[{\"AnimalType\":\"Dog\",\"OutcomeType\":\"Euthanasia\"}],\"color\":[\"#407ee7\"],\"fill_alpha\":[0.8],\"height\":[845.0],\"line_alpha\":[1.0],\"line_color\":[\"white\"],\"width\":[0.8],\"x\":[\"Dog\"],\"y\":[6969.5]}},\"id\":\"0c29774e-1fda-44b1-ad72-403d43dc46c0\",\"type\":\"ColumnDataSource\"}],\"root_ids\":[\"8c49b294-acfe-41e5-bd80-616d1ded2a19\"]},\"title\":\"Bokeh Application\",\"version\":\"0.11.1\"}};\n",
       "            var render_items = [{\"docid\":\"e17e5373-cd2d-450c-bd6f-a17389e1ae88\",\"elementid\":\"9ed669d4-438f-40f8-8d67-e0101eba1678\",\"modelid\":\"8c49b294-acfe-41e5-bd80-616d1ded2a19\",\"notebook_comms_target\":\"a5ed6bc0-2a4c-41f9-82cf-6f56252dade8\"}];\n",
       "            \n",
       "            Bokeh.embed.embed_items(docs_json, render_items);\n",
       "        });\n",
       "      },\n",
       "      function(Bokeh) {\n",
       "      }\n",
       "    ];\n",
       "  \n",
       "    function run_inline_js() {\n",
       "      for (var i = 0; i < inline_js.length; i++) {\n",
       "        inline_js[i](window.Bokeh);\n",
       "      }\n",
       "    }\n",
       "  \n",
       "    if (window._bokeh_is_loading === 0) {\n",
       "      console.log(\"Bokeh: BokehJS loaded, going straight to plotting\");\n",
       "      run_inline_js();\n",
       "    } else {\n",
       "      load_libs(js_urls, function() {\n",
       "        console.log(\"Bokeh: BokehJS plotting callback run at\", now());\n",
       "        run_inline_js();\n",
       "      });\n",
       "    }\n",
       "  }(this));\n",
       "</script>"
      ]
     },
     "metadata": {},
     "output_type": "display_data"
    },
    {
     "data": {
      "text/html": [
       "<p><code>&lt;Bokeh Notebook handle for <strong>In[14]</strong>&gt;</code></p>"
      ],
      "text/plain": [
       "<bokeh.io._CommsHandle at 0x7fc906a0e890>"
      ]
     },
     "execution_count": 14,
     "metadata": {},
     "output_type": "execute_result"
    }
   ],
   "source": [
    "outcomes = train.groupby(['AnimalType', 'OutcomeType'])\\\n",
    "            ['AnimalID'].count().reset_index()\n",
    "outcomes.columns = ['AnimalType', 'OutcomeType', 'num_animals']\n",
    "    \n",
    "hover = HoverTool(\n",
    "        tooltips=[\n",
    "            (\"Animal\", \"$x\"),  \n",
    "            (\"Outcome\", \"@OutcomeType\"),\n",
    "            (\"Number\", \"@height{int}\"),\n",
    "        ]\n",
    "    )\n",
    "p = Bar(outcomes, label='AnimalType', values='num_animals', agg='sum',\\\n",
    "        stack='OutcomeType', legend='top_left', plot_height=600,\\\n",
    "        tools=[hover]) \n",
    "#source = ColumnDataSource(p)\n",
    "show(p)"
   ]
  },
  {
   "cell_type": "code",
   "execution_count": 38,
   "metadata": {
    "collapsed": false
   },
   "outputs": [
    {
     "data": {
      "text/html": [
       "<div>\n",
       "<table border=\"1\" class=\"dataframe\">\n",
       "  <thead>\n",
       "    <tr style=\"text-align: right;\">\n",
       "      <th></th>\n",
       "      <th>ColorMix</th>\n",
       "      <th>OutcomeType</th>\n",
       "      <th>num_animals</th>\n",
       "    </tr>\n",
       "  </thead>\n",
       "  <tbody>\n",
       "    <tr>\n",
       "      <th>0</th>\n",
       "      <td>mix</td>\n",
       "      <td>Adoption</td>\n",
       "      <td>7702</td>\n",
       "    </tr>\n",
       "    <tr>\n",
       "      <th>1</th>\n",
       "      <td>mix</td>\n",
       "      <td>Died</td>\n",
       "      <td>135</td>\n",
       "    </tr>\n",
       "    <tr>\n",
       "      <th>2</th>\n",
       "      <td>mix</td>\n",
       "      <td>Euthanasia</td>\n",
       "      <td>1091</td>\n",
       "    </tr>\n",
       "    <tr>\n",
       "      <th>3</th>\n",
       "      <td>mix</td>\n",
       "      <td>Return_to_owner</td>\n",
       "      <td>3247</td>\n",
       "    </tr>\n",
       "    <tr>\n",
       "      <th>4</th>\n",
       "      <td>mix</td>\n",
       "      <td>Transfer</td>\n",
       "      <td>6590</td>\n",
       "    </tr>\n",
       "    <tr>\n",
       "      <th>5</th>\n",
       "      <td>single</td>\n",
       "      <td>Adoption</td>\n",
       "      <td>3067</td>\n",
       "    </tr>\n",
       "    <tr>\n",
       "      <th>6</th>\n",
       "      <td>single</td>\n",
       "      <td>Died</td>\n",
       "      <td>62</td>\n",
       "    </tr>\n",
       "    <tr>\n",
       "      <th>7</th>\n",
       "      <td>single</td>\n",
       "      <td>Euthanasia</td>\n",
       "      <td>464</td>\n",
       "    </tr>\n",
       "    <tr>\n",
       "      <th>8</th>\n",
       "      <td>single</td>\n",
       "      <td>Return_to_owner</td>\n",
       "      <td>1539</td>\n",
       "    </tr>\n",
       "    <tr>\n",
       "      <th>9</th>\n",
       "      <td>single</td>\n",
       "      <td>Transfer</td>\n",
       "      <td>2832</td>\n",
       "    </tr>\n",
       "  </tbody>\n",
       "</table>\n",
       "</div>"
      ],
      "text/plain": [
       "  ColorMix      OutcomeType  num_animals\n",
       "0      mix         Adoption         7702\n",
       "1      mix             Died          135\n",
       "2      mix       Euthanasia         1091\n",
       "3      mix  Return_to_owner         3247\n",
       "4      mix         Transfer         6590\n",
       "5   single         Adoption         3067\n",
       "6   single             Died           62\n",
       "7   single       Euthanasia          464\n",
       "8   single  Return_to_owner         1539\n",
       "9   single         Transfer         2832"
      ]
     },
     "execution_count": 38,
     "metadata": {},
     "output_type": "execute_result"
    }
   ],
   "source": [
    "outcomes"
   ]
  },
  {
   "cell_type": "code",
   "execution_count": 36,
   "metadata": {
    "collapsed": false
   },
   "outputs": [
    {
     "data": {
      "text/html": [
       "\n",
       "\n",
       "    <div class=\"plotdiv\" id=\"8b0a0e61-31f2-42b3-82ad-1673aff5b900\"></div>\n",
       "<script type=\"text/javascript\">\n",
       "  \n",
       "  (function(global) {\n",
       "    function now() {\n",
       "      return new Date();\n",
       "    }\n",
       "  \n",
       "    if (typeof (window._bokeh_onload_callbacks) === \"undefined\") {\n",
       "      window._bokeh_onload_callbacks = [];\n",
       "    }\n",
       "  \n",
       "    function run_callbacks() {\n",
       "      window._bokeh_onload_callbacks.forEach(function(callback) { callback() });\n",
       "      delete window._bokeh_onload_callbacks\n",
       "      console.info(\"Bokeh: all callbacks have finished\");\n",
       "    }\n",
       "  \n",
       "    function load_libs(js_urls, callback) {\n",
       "      window._bokeh_onload_callbacks.push(callback);\n",
       "      if (window._bokeh_is_loading > 0) {\n",
       "        console.log(\"Bokeh: BokehJS is being loaded, scheduling callback at\", now());\n",
       "        return null;\n",
       "      }\n",
       "      if (js_urls == null || js_urls.length === 0) {\n",
       "        run_callbacks();\n",
       "        return null;\n",
       "      }\n",
       "      console.log(\"Bokeh: BokehJS not loaded, scheduling load and callback at\", now());\n",
       "      window._bokeh_is_loading = js_urls.length;\n",
       "      for (var i = 0; i < js_urls.length; i++) {\n",
       "        var url = js_urls[i];\n",
       "        var s = document.createElement('script');\n",
       "        s.src = url;\n",
       "        s.async = false;\n",
       "        s.onreadystatechange = s.onload = function() {\n",
       "          window._bokeh_is_loading--;\n",
       "          if (window._bokeh_is_loading === 0) {\n",
       "            console.log(\"Bokeh: all BokehJS libraries loaded\");\n",
       "            run_callbacks()\n",
       "          }\n",
       "        };\n",
       "        s.onerror = function() {\n",
       "          console.warn(\"failed to load library \" + url);\n",
       "        };\n",
       "        console.log(\"Bokeh: injecting script tag for BokehJS library: \", url);\n",
       "        document.getElementsByTagName(\"head\")[0].appendChild(s);\n",
       "      }\n",
       "    };var element = document.getElementById(\"8b0a0e61-31f2-42b3-82ad-1673aff5b900\");\n",
       "    if (element == null) {\n",
       "      console.log(\"Bokeh: ERROR: autoload.js configured with elementid '8b0a0e61-31f2-42b3-82ad-1673aff5b900' but no matching script tag was found. \")\n",
       "      return false;\n",
       "    }\n",
       "  \n",
       "    var js_urls = [];\n",
       "  \n",
       "    var inline_js = [\n",
       "      function(Bokeh) {\n",
       "        Bokeh.$(function() {\n",
       "            var docs_json = {\"62a123c4-a925-475c-8217-85e6f5dee6e9\":{\"roots\":{\"references\":[{\"attributes\":{},\"id\":\"a56a90c5-42a8-429d-8a67-23c675baf832\",\"type\":\"BasicTicker\"},{\"attributes\":{\"data_source\":{\"id\":\"a8839357-dc20-45c1-9597-314a01a94756\",\"type\":\"ColumnDataSource\"},\"glyph\":{\"id\":\"8018c54d-6608-459e-8d8d-f767def22c16\",\"type\":\"Rect\"},\"hover_glyph\":null,\"nonselection_glyph\":null,\"selection_glyph\":null},\"id\":\"f34affd1-5163-4231-aeae-1ebd2f393da5\",\"type\":\"GlyphRenderer\"},{\"attributes\":{\"fill_alpha\":{\"field\":\"fill_alpha\"},\"fill_color\":{\"field\":\"color\"},\"height\":{\"field\":\"height\",\"units\":\"data\"},\"line_color\":{\"field\":\"line_color\"},\"width\":{\"field\":\"width\",\"units\":\"data\"},\"x\":{\"field\":\"x\"},\"y\":{\"field\":\"y\"}},\"id\":\"cdf82f7e-9bfa-490f-87b2-e6161a4347aa\",\"type\":\"Rect\"},{\"attributes\":{\"callback\":null,\"column_names\":[\"line_color\",\"line_alpha\",\"color\",\"fill_alpha\",\"height\",\"width\",\"y\",\"x\"],\"data\":{\"ColorMix\":[\"mix\"],\"OutcomeType\":[\"Return_to_owner\"],\"chart_index\":[{\"ColorMix\":\"mix\",\"OutcomeType\":\"Return_to_owner\"}],\"color\":[\"#df5320\"],\"fill_alpha\":[0.8],\"height\":[3247.0],\"line_alpha\":[1.0],\"line_color\":[\"white\"],\"width\":[0.8],\"x\":[\"mix\"],\"y\":[10551.5]}},\"id\":\"eb50cdef-b393-4b52-9a9c-10adde7c3d79\",\"type\":\"ColumnDataSource\"},{\"attributes\":{\"data_source\":{\"id\":\"25089aa9-22b5-4e4c-b606-6a6bd575db43\",\"type\":\"ColumnDataSource\"},\"glyph\":{\"id\":\"31a21055-ad8e-46fd-a865-2125eaaa6707\",\"type\":\"Rect\"},\"hover_glyph\":null,\"nonselection_glyph\":null,\"selection_glyph\":null},\"id\":\"a805d5f0-8ba9-4084-a9d8-83da97a02eb0\",\"type\":\"GlyphRenderer\"},{\"attributes\":{\"data_source\":{\"id\":\"e51ea694-4a0b-4d57-9721-a1d8b61ee6d7\",\"type\":\"ColumnDataSource\"},\"glyph\":{\"id\":\"0670ea9f-dea6-4df7-a698-c2bc2ddb4d7c\",\"type\":\"Rect\"},\"hover_glyph\":null,\"nonselection_glyph\":null,\"selection_glyph\":null},\"id\":\"e31df4d0-1e02-45de-bc3e-4d66c4cdfd02\",\"type\":\"GlyphRenderer\"},{\"attributes\":{\"data_source\":{\"id\":\"c5516543-077e-4b50-b7e4-90a2a5872b1c\",\"type\":\"ColumnDataSource\"},\"glyph\":{\"id\":\"134d52c3-8e37-4fb3-b9bb-e3e8b96a7f91\",\"type\":\"Rect\"},\"hover_glyph\":null,\"nonselection_glyph\":null,\"selection_glyph\":null},\"id\":\"3116f321-879b-47ec-9f30-06687a6c2b62\",\"type\":\"GlyphRenderer\"},{\"attributes\":{\"fill_alpha\":{\"field\":\"fill_alpha\"},\"fill_color\":{\"field\":\"color\"},\"height\":{\"field\":\"height\",\"units\":\"data\"},\"line_color\":{\"field\":\"line_color\"},\"width\":{\"field\":\"width\",\"units\":\"data\"},\"x\":{\"field\":\"x\"},\"y\":{\"field\":\"y\"}},\"id\":\"402f99be-d96c-49e3-9285-793c4105c4e1\",\"type\":\"Rect\"},{\"attributes\":{\"data_source\":{\"id\":\"67dcfb56-e165-4bd0-baf0-6282274f457e\",\"type\":\"ColumnDataSource\"},\"glyph\":{\"id\":\"687d104e-3234-4af7-a743-5d4b847626f9\",\"type\":\"Rect\"},\"hover_glyph\":null,\"nonselection_glyph\":null,\"selection_glyph\":null},\"id\":\"3ef42c3d-5a8b-4e80-8cb7-57401737c6e9\",\"type\":\"GlyphRenderer\"},{\"attributes\":{\"below\":[{\"id\":\"ef2f744f-ea71-4047-a77b-27a7a4379c7b\",\"type\":\"CategoricalAxis\"}],\"left\":[{\"id\":\"cb0e5f44-cb19-4a08-a0ae-347512721ec0\",\"type\":\"LinearAxis\"}],\"legend\":\"top_left\",\"renderers\":[{\"id\":\"3116f321-879b-47ec-9f30-06687a6c2b62\",\"type\":\"GlyphRenderer\"},{\"id\":\"1fcc90a6-a69b-45cd-9e43-c4858b1e3ac3\",\"type\":\"GlyphRenderer\"},{\"id\":\"f34affd1-5163-4231-aeae-1ebd2f393da5\",\"type\":\"GlyphRenderer\"},{\"id\":\"ef70743d-ca13-4de0-bbc6-11128b969e68\",\"type\":\"GlyphRenderer\"},{\"id\":\"e31df4d0-1e02-45de-bc3e-4d66c4cdfd02\",\"type\":\"GlyphRenderer\"},{\"id\":\"fd2ac7e4-14e9-4b2e-baec-74e936e3508b\",\"type\":\"GlyphRenderer\"},{\"id\":\"a805d5f0-8ba9-4084-a9d8-83da97a02eb0\",\"type\":\"GlyphRenderer\"},{\"id\":\"3ef42c3d-5a8b-4e80-8cb7-57401737c6e9\",\"type\":\"GlyphRenderer\"},{\"id\":\"dfb0e380-f87b-4f51-9deb-90ae94468b13\",\"type\":\"GlyphRenderer\"},{\"id\":\"46aada98-5ed8-4995-9082-17a21e6ee56a\",\"type\":\"GlyphRenderer\"},{\"id\":\"47a6a024-474b-4e6a-a7be-5b9948e4254d\",\"type\":\"Legend\"},{\"id\":\"ef2f744f-ea71-4047-a77b-27a7a4379c7b\",\"type\":\"CategoricalAxis\"},{\"id\":\"cb0e5f44-cb19-4a08-a0ae-347512721ec0\",\"type\":\"LinearAxis\"},{\"id\":\"5841f66c-3fa8-4485-816d-5ee40c798e18\",\"type\":\"Grid\"}],\"title_text_font_size\":{\"value\":\"14pt\"},\"tool_events\":{\"id\":\"7f3d5c21-6ff7-4e58-82c2-c75325f99b9b\",\"type\":\"ToolEvents\"},\"tools\":[{\"id\":\"59c74662-6e61-4e89-b1f5-594c397d16d5\",\"type\":\"HoverTool\"}],\"x_mapper_type\":\"auto\",\"x_range\":{\"id\":\"96966272-b718-4c02-bfde-0652121aafe1\",\"type\":\"FactorRange\"},\"xgrid\":false,\"xscale\":\"auto\",\"y_mapper_type\":\"auto\",\"y_range\":{\"id\":\"50b53303-5c0d-446f-953f-fbf30a78194a\",\"type\":\"Range1d\"},\"yscale\":\"auto\"},\"id\":\"ae527320-c9be-4217-a697-386ece3bbaf0\",\"subtype\":\"Chart\",\"type\":\"Plot\"},{\"attributes\":{\"legends\":[[\"Adoption\",[{\"id\":\"3116f321-879b-47ec-9f30-06687a6c2b62\",\"type\":\"GlyphRenderer\"}]],[\"Died\",[{\"id\":\"1fcc90a6-a69b-45cd-9e43-c4858b1e3ac3\",\"type\":\"GlyphRenderer\"}]],[\"Euthanasia\",[{\"id\":\"f34affd1-5163-4231-aeae-1ebd2f393da5\",\"type\":\"GlyphRenderer\"}]],[\"Return_to_owner\",[{\"id\":\"ef70743d-ca13-4de0-bbc6-11128b969e68\",\"type\":\"GlyphRenderer\"}]],[\"Transfer\",[{\"id\":\"e31df4d0-1e02-45de-bc3e-4d66c4cdfd02\",\"type\":\"GlyphRenderer\"}]]],\"location\":\"top_left\",\"plot\":{\"id\":\"ae527320-c9be-4217-a697-386ece3bbaf0\",\"subtype\":\"Chart\",\"type\":\"Plot\"}},\"id\":\"47a6a024-474b-4e6a-a7be-5b9948e4254d\",\"type\":\"Legend\"},{\"attributes\":{\"axis_label\":\"Colormix\",\"formatter\":{\"id\":\"d0adfe6c-dc00-412a-bc68-eb9e933ca9a4\",\"type\":\"CategoricalTickFormatter\"},\"major_label_orientation\":0.7853981633974483,\"plot\":{\"id\":\"ae527320-c9be-4217-a697-386ece3bbaf0\",\"subtype\":\"Chart\",\"type\":\"Plot\"},\"ticker\":{\"id\":\"44ad6a5d-6525-44af-9c69-b31fdcedb85c\",\"type\":\"CategoricalTicker\"}},\"id\":\"ef2f744f-ea71-4047-a77b-27a7a4379c7b\",\"type\":\"CategoricalAxis\"},{\"attributes\":{\"fill_alpha\":{\"field\":\"fill_alpha\"},\"fill_color\":{\"field\":\"color\"},\"height\":{\"field\":\"height\",\"units\":\"data\"},\"line_color\":{\"field\":\"line_color\"},\"width\":{\"field\":\"width\",\"units\":\"data\"},\"x\":{\"field\":\"x\"},\"y\":{\"field\":\"y\"}},\"id\":\"687d104e-3234-4af7-a743-5d4b847626f9\",\"type\":\"Rect\"},{\"attributes\":{\"axis_label\":\"Sum( Num_Animals )\",\"formatter\":{\"id\":\"7ce5f80f-bf80-4bdb-922c-12f85c9cae89\",\"type\":\"BasicTickFormatter\"},\"plot\":{\"id\":\"ae527320-c9be-4217-a697-386ece3bbaf0\",\"subtype\":\"Chart\",\"type\":\"Plot\"},\"ticker\":{\"id\":\"a56a90c5-42a8-429d-8a67-23c675baf832\",\"type\":\"BasicTicker\"}},\"id\":\"cb0e5f44-cb19-4a08-a0ae-347512721ec0\",\"type\":\"LinearAxis\"},{\"attributes\":{\"fill_alpha\":{\"field\":\"fill_alpha\"},\"fill_color\":{\"field\":\"color\"},\"height\":{\"field\":\"height\",\"units\":\"data\"},\"line_color\":{\"field\":\"line_color\"},\"width\":{\"field\":\"width\",\"units\":\"data\"},\"x\":{\"field\":\"x\"},\"y\":{\"field\":\"y\"}},\"id\":\"cdc3d13a-74ba-4e9d-a242-60ee7635d1d5\",\"type\":\"Rect\"},{\"attributes\":{},\"id\":\"7f3d5c21-6ff7-4e58-82c2-c75325f99b9b\",\"type\":\"ToolEvents\"},{\"attributes\":{\"fill_alpha\":{\"field\":\"fill_alpha\"},\"fill_color\":{\"field\":\"color\"},\"height\":{\"field\":\"height\",\"units\":\"data\"},\"line_color\":{\"field\":\"line_color\"},\"width\":{\"field\":\"width\",\"units\":\"data\"},\"x\":{\"field\":\"x\"},\"y\":{\"field\":\"y\"}},\"id\":\"146655dd-5558-4807-afd4-862db34edd6f\",\"type\":\"Rect\"},{\"attributes\":{\"callback\":null,\"column_names\":[\"line_color\",\"line_alpha\",\"color\",\"fill_alpha\",\"height\",\"width\",\"y\",\"x\"],\"data\":{\"ColorMix\":[\"mix\"],\"OutcomeType\":[\"Adoption\"],\"chart_index\":[{\"ColorMix\":\"mix\",\"OutcomeType\":\"Adoption\"}],\"color\":[\"#f22c40\"],\"fill_alpha\":[0.8],\"height\":[7702.0],\"line_alpha\":[1.0],\"line_color\":[\"white\"],\"width\":[0.8],\"x\":[\"mix\"],\"y\":[3851.0]}},\"id\":\"c5516543-077e-4b50-b7e4-90a2a5872b1c\",\"type\":\"ColumnDataSource\"},{\"attributes\":{\"data_source\":{\"id\":\"0d891f2b-be31-442c-b131-2df91bef3cdb\",\"type\":\"ColumnDataSource\"},\"glyph\":{\"id\":\"146655dd-5558-4807-afd4-862db34edd6f\",\"type\":\"Rect\"},\"hover_glyph\":null,\"nonselection_glyph\":null,\"selection_glyph\":null},\"id\":\"fd2ac7e4-14e9-4b2e-baec-74e936e3508b\",\"type\":\"GlyphRenderer\"},{\"attributes\":{\"dimension\":1,\"plot\":{\"id\":\"ae527320-c9be-4217-a697-386ece3bbaf0\",\"subtype\":\"Chart\",\"type\":\"Plot\"},\"ticker\":{\"id\":\"a56a90c5-42a8-429d-8a67-23c675baf832\",\"type\":\"BasicTicker\"}},\"id\":\"5841f66c-3fa8-4485-816d-5ee40c798e18\",\"type\":\"Grid\"},{\"attributes\":{\"callback\":null,\"column_names\":[\"line_color\",\"line_alpha\",\"color\",\"fill_alpha\",\"height\",\"width\",\"y\",\"x\"],\"data\":{\"ColorMix\":[\"mix\"],\"OutcomeType\":[\"Euthanasia\"],\"chart_index\":[{\"ColorMix\":\"mix\",\"OutcomeType\":\"Euthanasia\"}],\"color\":[\"#407ee7\"],\"fill_alpha\":[0.8],\"height\":[1091.0],\"line_alpha\":[1.0],\"line_color\":[\"white\"],\"width\":[0.8],\"x\":[\"mix\"],\"y\":[8382.5]}},\"id\":\"a8839357-dc20-45c1-9597-314a01a94756\",\"type\":\"ColumnDataSource\"},{\"attributes\":{\"callback\":null,\"factors\":[\"mix\",\"single\"]},\"id\":\"96966272-b718-4c02-bfde-0652121aafe1\",\"type\":\"FactorRange\"},{\"attributes\":{\"callback\":null,\"end\":19703.25},\"id\":\"50b53303-5c0d-446f-953f-fbf30a78194a\",\"type\":\"Range1d\"},{\"attributes\":{},\"id\":\"44ad6a5d-6525-44af-9c69-b31fdcedb85c\",\"type\":\"CategoricalTicker\"},{\"attributes\":{\"data_source\":{\"id\":\"8a31c959-a37e-4219-88c9-bc1d1bbb64e6\",\"type\":\"ColumnDataSource\"},\"glyph\":{\"id\":\"402f99be-d96c-49e3-9285-793c4105c4e1\",\"type\":\"Rect\"},\"hover_glyph\":null,\"nonselection_glyph\":null,\"selection_glyph\":null},\"id\":\"46aada98-5ed8-4995-9082-17a21e6ee56a\",\"type\":\"GlyphRenderer\"},{\"attributes\":{\"callback\":null,\"column_names\":[\"line_color\",\"line_alpha\",\"color\",\"fill_alpha\",\"height\",\"width\",\"y\",\"x\"],\"data\":{\"ColorMix\":[\"single\"],\"OutcomeType\":[\"Transfer\"],\"chart_index\":[{\"ColorMix\":\"single\",\"OutcomeType\":\"Transfer\"}],\"color\":[\"#00ad9c\"],\"fill_alpha\":[0.8],\"height\":[2832.0],\"line_alpha\":[1.0],\"line_color\":[\"white\"],\"width\":[0.8],\"x\":[\"single\"],\"y\":[6548.0]}},\"id\":\"8a31c959-a37e-4219-88c9-bc1d1bbb64e6\",\"type\":\"ColumnDataSource\"},{\"attributes\":{\"callback\":null,\"column_names\":[\"line_color\",\"line_alpha\",\"color\",\"fill_alpha\",\"height\",\"width\",\"y\",\"x\"],\"data\":{\"ColorMix\":[\"single\"],\"OutcomeType\":[\"Died\"],\"chart_index\":[{\"ColorMix\":\"single\",\"OutcomeType\":\"Died\"}],\"color\":[\"#5ab738\"],\"fill_alpha\":[0.8],\"height\":[62.0],\"line_alpha\":[1.0],\"line_color\":[\"white\"],\"width\":[0.8],\"x\":[\"single\"],\"y\":[3098.0]}},\"id\":\"25089aa9-22b5-4e4c-b606-6a6bd575db43\",\"type\":\"ColumnDataSource\"},{\"attributes\":{\"callback\":null,\"plot\":{\"id\":\"ae527320-c9be-4217-a697-386ece3bbaf0\",\"subtype\":\"Chart\",\"type\":\"Plot\"},\"tooltips\":[[\"Animal\",\"$x\"],[\"Outcome\",\"@OutcomeType\"],[\"Num\",\"@height{int}\"]]},\"id\":\"59c74662-6e61-4e89-b1f5-594c397d16d5\",\"type\":\"HoverTool\"},{\"attributes\":{\"data_source\":{\"id\":\"02a60d24-f528-4661-8ec9-334305d553de\",\"type\":\"ColumnDataSource\"},\"glyph\":{\"id\":\"cdc3d13a-74ba-4e9d-a242-60ee7635d1d5\",\"type\":\"Rect\"},\"hover_glyph\":null,\"nonselection_glyph\":null,\"selection_glyph\":null},\"id\":\"dfb0e380-f87b-4f51-9deb-90ae94468b13\",\"type\":\"GlyphRenderer\"},{\"attributes\":{\"callback\":null,\"column_names\":[\"line_color\",\"line_alpha\",\"color\",\"fill_alpha\",\"height\",\"width\",\"y\",\"x\"],\"data\":{\"ColorMix\":[\"single\"],\"OutcomeType\":[\"Return_to_owner\"],\"chart_index\":[{\"ColorMix\":\"single\",\"OutcomeType\":\"Return_to_owner\"}],\"color\":[\"#df5320\"],\"fill_alpha\":[0.8],\"height\":[1539.0],\"line_alpha\":[1.0],\"line_color\":[\"white\"],\"width\":[0.8],\"x\":[\"single\"],\"y\":[4362.5]}},\"id\":\"02a60d24-f528-4661-8ec9-334305d553de\",\"type\":\"ColumnDataSource\"},{\"attributes\":{\"callback\":null,\"column_names\":[\"line_color\",\"line_alpha\",\"color\",\"fill_alpha\",\"height\",\"width\",\"y\",\"x\"],\"data\":{\"ColorMix\":[\"single\"],\"OutcomeType\":[\"Euthanasia\"],\"chart_index\":[{\"ColorMix\":\"single\",\"OutcomeType\":\"Euthanasia\"}],\"color\":[\"#407ee7\"],\"fill_alpha\":[0.8],\"height\":[464.0],\"line_alpha\":[1.0],\"line_color\":[\"white\"],\"width\":[0.8],\"x\":[\"single\"],\"y\":[3361.0]}},\"id\":\"67dcfb56-e165-4bd0-baf0-6282274f457e\",\"type\":\"ColumnDataSource\"},{\"attributes\":{\"fill_alpha\":{\"field\":\"fill_alpha\"},\"fill_color\":{\"field\":\"color\"},\"height\":{\"field\":\"height\",\"units\":\"data\"},\"line_color\":{\"field\":\"line_color\"},\"width\":{\"field\":\"width\",\"units\":\"data\"},\"x\":{\"field\":\"x\"},\"y\":{\"field\":\"y\"}},\"id\":\"31a21055-ad8e-46fd-a865-2125eaaa6707\",\"type\":\"Rect\"},{\"attributes\":{},\"id\":\"7ce5f80f-bf80-4bdb-922c-12f85c9cae89\",\"type\":\"BasicTickFormatter\"},{\"attributes\":{\"callback\":null,\"column_names\":[\"line_color\",\"line_alpha\",\"color\",\"fill_alpha\",\"height\",\"width\",\"y\",\"x\"],\"data\":{\"ColorMix\":[\"mix\"],\"OutcomeType\":[\"Transfer\"],\"chart_index\":[{\"ColorMix\":\"mix\",\"OutcomeType\":\"Transfer\"}],\"color\":[\"#00ad9c\"],\"fill_alpha\":[0.8],\"height\":[6590.0],\"line_alpha\":[1.0],\"line_color\":[\"white\"],\"width\":[0.8],\"x\":[\"mix\"],\"y\":[15470.0]}},\"id\":\"e51ea694-4a0b-4d57-9721-a1d8b61ee6d7\",\"type\":\"ColumnDataSource\"},{\"attributes\":{\"fill_alpha\":{\"field\":\"fill_alpha\"},\"fill_color\":{\"field\":\"color\"},\"height\":{\"field\":\"height\",\"units\":\"data\"},\"line_color\":{\"field\":\"line_color\"},\"width\":{\"field\":\"width\",\"units\":\"data\"},\"x\":{\"field\":\"x\"},\"y\":{\"field\":\"y\"}},\"id\":\"0670ea9f-dea6-4df7-a698-c2bc2ddb4d7c\",\"type\":\"Rect\"},{\"attributes\":{\"fill_alpha\":{\"field\":\"fill_alpha\"},\"fill_color\":{\"field\":\"color\"},\"height\":{\"field\":\"height\",\"units\":\"data\"},\"line_color\":{\"field\":\"line_color\"},\"width\":{\"field\":\"width\",\"units\":\"data\"},\"x\":{\"field\":\"x\"},\"y\":{\"field\":\"y\"}},\"id\":\"134d52c3-8e37-4fb3-b9bb-e3e8b96a7f91\",\"type\":\"Rect\"},{\"attributes\":{},\"id\":\"d0adfe6c-dc00-412a-bc68-eb9e933ca9a4\",\"type\":\"CategoricalTickFormatter\"},{\"attributes\":{\"data_source\":{\"id\":\"4b96e2bc-c03a-4875-9bdd-8f6902a5e7d1\",\"type\":\"ColumnDataSource\"},\"glyph\":{\"id\":\"cdf82f7e-9bfa-490f-87b2-e6161a4347aa\",\"type\":\"Rect\"},\"hover_glyph\":null,\"nonselection_glyph\":null,\"selection_glyph\":null},\"id\":\"1fcc90a6-a69b-45cd-9e43-c4858b1e3ac3\",\"type\":\"GlyphRenderer\"},{\"attributes\":{\"fill_alpha\":{\"field\":\"fill_alpha\"},\"fill_color\":{\"field\":\"color\"},\"height\":{\"field\":\"height\",\"units\":\"data\"},\"line_color\":{\"field\":\"line_color\"},\"width\":{\"field\":\"width\",\"units\":\"data\"},\"x\":{\"field\":\"x\"},\"y\":{\"field\":\"y\"}},\"id\":\"8018c54d-6608-459e-8d8d-f767def22c16\",\"type\":\"Rect\"},{\"attributes\":{\"data_source\":{\"id\":\"eb50cdef-b393-4b52-9a9c-10adde7c3d79\",\"type\":\"ColumnDataSource\"},\"glyph\":{\"id\":\"cdddb4e3-38d6-432a-822a-af553588aa31\",\"type\":\"Rect\"},\"hover_glyph\":null,\"nonselection_glyph\":null,\"selection_glyph\":null},\"id\":\"ef70743d-ca13-4de0-bbc6-11128b969e68\",\"type\":\"GlyphRenderer\"},{\"attributes\":{\"callback\":null,\"column_names\":[\"line_color\",\"line_alpha\",\"color\",\"fill_alpha\",\"height\",\"width\",\"y\",\"x\"],\"data\":{\"ColorMix\":[\"mix\"],\"OutcomeType\":[\"Died\"],\"chart_index\":[{\"ColorMix\":\"mix\",\"OutcomeType\":\"Died\"}],\"color\":[\"#5ab738\"],\"fill_alpha\":[0.8],\"height\":[135.0],\"line_alpha\":[1.0],\"line_color\":[\"white\"],\"width\":[0.8],\"x\":[\"mix\"],\"y\":[7769.5]}},\"id\":\"4b96e2bc-c03a-4875-9bdd-8f6902a5e7d1\",\"type\":\"ColumnDataSource\"},{\"attributes\":{\"callback\":null,\"column_names\":[\"line_color\",\"line_alpha\",\"color\",\"fill_alpha\",\"height\",\"width\",\"y\",\"x\"],\"data\":{\"ColorMix\":[\"single\"],\"OutcomeType\":[\"Adoption\"],\"chart_index\":[{\"ColorMix\":\"single\",\"OutcomeType\":\"Adoption\"}],\"color\":[\"#f22c40\"],\"fill_alpha\":[0.8],\"height\":[3067.0],\"line_alpha\":[1.0],\"line_color\":[\"white\"],\"width\":[0.8],\"x\":[\"single\"],\"y\":[1533.5]}},\"id\":\"0d891f2b-be31-442c-b131-2df91bef3cdb\",\"type\":\"ColumnDataSource\"},{\"attributes\":{\"fill_alpha\":{\"field\":\"fill_alpha\"},\"fill_color\":{\"field\":\"color\"},\"height\":{\"field\":\"height\",\"units\":\"data\"},\"line_color\":{\"field\":\"line_color\"},\"width\":{\"field\":\"width\",\"units\":\"data\"},\"x\":{\"field\":\"x\"},\"y\":{\"field\":\"y\"}},\"id\":\"cdddb4e3-38d6-432a-822a-af553588aa31\",\"type\":\"Rect\"}],\"root_ids\":[\"ae527320-c9be-4217-a697-386ece3bbaf0\"]},\"title\":\"Bokeh Application\",\"version\":\"0.11.1\"}};\n",
       "            var render_items = [{\"docid\":\"62a123c4-a925-475c-8217-85e6f5dee6e9\",\"elementid\":\"8b0a0e61-31f2-42b3-82ad-1673aff5b900\",\"modelid\":\"ae527320-c9be-4217-a697-386ece3bbaf0\",\"notebook_comms_target\":\"7e942e28-d253-4cbf-81fc-139408ab0436\"}];\n",
       "            \n",
       "            Bokeh.embed.embed_items(docs_json, render_items);\n",
       "        });\n",
       "      },\n",
       "      function(Bokeh) {\n",
       "      }\n",
       "    ];\n",
       "  \n",
       "    function run_inline_js() {\n",
       "      for (var i = 0; i < inline_js.length; i++) {\n",
       "        inline_js[i](window.Bokeh);\n",
       "      }\n",
       "    }\n",
       "  \n",
       "    if (window._bokeh_is_loading === 0) {\n",
       "      console.log(\"Bokeh: BokehJS loaded, going straight to plotting\");\n",
       "      run_inline_js();\n",
       "    } else {\n",
       "      load_libs(js_urls, function() {\n",
       "        console.log(\"Bokeh: BokehJS plotting callback run at\", now());\n",
       "        run_inline_js();\n",
       "      });\n",
       "    }\n",
       "  }(this));\n",
       "</script>"
      ]
     },
     "metadata": {},
     "output_type": "display_data"
    },
    {
     "data": {
      "text/html": [
       "<p><code>&lt;Bokeh Notebook handle for <strong>In[36]</strong>&gt;</code></p>"
      ],
      "text/plain": [
       "<bokeh.io._CommsHandle at 0x7f69f920b250>"
      ]
     },
     "execution_count": 36,
     "metadata": {},
     "output_type": "execute_result"
    }
   ],
   "source": [
    "outcomes = full[full.fileName == 'train'].groupby(['ColorMix', 'OutcomeType'])\\\n",
    "            ['AnimalID'].count().reset_index()\n",
    "outcomes.columns = ['ColorMix', 'OutcomeType', 'num_animals']\n",
    "    \n",
    "hover = HoverTool(\n",
    "        tooltips=[\n",
    "            (\"Animal\", \"$x\"),  \n",
    "            (\"Outcome\", \"@OutcomeType\"),\n",
    "            (\"Num\", \"@height{int}\"),\n",
    "        ]\n",
    "    )\n",
    "p = Bar(outcomes, label='ColorMix', values='num_animals', agg='sum',\\\n",
    "        stack='OutcomeType', legend='top_left', plot_height=600,\\\n",
    "        tools=[hover]) \n",
    "#source = ColumnDataSource(p)\n",
    "show(p)"
   ]
  }
 ],
 "metadata": {
  "kernelspec": {
   "display_name": "Python 2",
   "language": "python",
   "name": "python2"
  },
  "language_info": {
   "codemirror_mode": {
    "name": "ipython",
    "version": 2
   },
   "file_extension": ".py",
   "mimetype": "text/x-python",
   "name": "python",
   "nbconvert_exporter": "python",
   "pygments_lexer": "ipython2",
   "version": "2.7.11"
  }
 },
 "nbformat": 4,
 "nbformat_minor": 0
}
